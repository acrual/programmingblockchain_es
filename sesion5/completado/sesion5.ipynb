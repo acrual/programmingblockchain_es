{
 "cells": [
  {
   "cell_type": "code",
   "execution_count": 1,
   "metadata": {},
   "outputs": [],
   "source": [
    "# importa todo y define una función de ejecutar pruebas\n",
    "from importlib import reload\n",
    "from ayudante import ejecutar_prueba\n",
    "\n",
    "import cce\n",
    "import ayudante\n",
    "import script\n",
    "import tx"
   ]
  },
  {
   "cell_type": "markdown",
   "metadata": {},
   "source": [
    "### Ejercicio 1\n",
    "\n",
    "#### 1.1. Haz que pase [esta prueba](/edit/sesión5/tx.py)\n",
    "```\n",
    "tx.py:PruebaTx::prueba_verificar_input\n",
    "```"
   ]
  },
  {
   "cell_type": "code",
   "execution_count": 2,
   "metadata": {},
   "outputs": [
    {
     "name": "stderr",
     "output_type": "stream",
     "text": [
      ".\n",
      "----------------------------------------------------------------------\n",
      "Prueba ejecutada en 0.265s\n",
      "\n",
      "OK\n"
     ]
    }
   ],
   "source": [
    "# Ejercicio 1.1\n",
    "\n",
    "reload(tx)\n",
    "ejecutar_prueba(tx.PruebaTx('prueba_verificar_input'))"
   ]
  },
  {
   "cell_type": "code",
   "execution_count": 3,
   "metadata": {},
   "outputs": [
    {
     "name": "stdout",
     "output_type": "stream",
     "text": [
      "0100000001494127dba8aea354ebae1de80c2d7a2a223eed27666a85bce371de3790f6e28b040000006a4730440220391b819284a511f408e2935de5437f97f8c32cbebd6ca37233024451e16e189c02203c566e48ac4f04d07e3401d09e32205566736227c44cf6d4e031390fa21ca9cc012103935581e52c354cd2f484fe8ed83af7a3097005b2f9c60bff71d35bd795f54b67ffffffff0280d54302000000001d017601a914d52ad7ca9b3d096a38e752c2018e6fbc40cdf26f018801ac80969800000000001d017601a914507b27411ccf7f16f10297de6cef3f291623eddf018801ac00000000\n"
     ]
    }
   ],
   "source": [
    "# Ejemplo de construcción de transacción\n",
    "\n",
    "from cce import ClavePrivada\n",
    "from ayudante import decodificar_base58, SIGHASH_ALL\n",
    "from script import script_p2pkh, Script\n",
    "from tx import TxIn, TxOut, Tx\n",
    "\n",
    "# Paso 1\n",
    "tx_ins = []\n",
    "tx_previa = bytes.fromhex('8be2f69037de71e3bc856a6627ed3e222a7a2d0ce81daeeb54a3aea8db274149')\n",
    "indice_previo = 4\n",
    "tx_ins.append(TxIn(\n",
    "            tx_previa=tx_previa,\n",
    "            indice_previo=indice_previo,\n",
    "            script_sig=Script([]),\n",
    "            sequence=0xffffffff,\n",
    "        ))\n",
    "\n",
    "# Paso 2\n",
    "tx_outs = []\n",
    "h160 = decodificar_base58('mzx5YhAH9kNHtcN481u6WkjeHjYtVeKVh2')\n",
    "tx_outs.append(TxOut(\n",
    "    cantidad=int(0.38*100000000),\n",
    "    script_pubkey=script_p2pkh(h160),\n",
    "))\n",
    "h160 = decodificar_base58('mnrVtF8DWjMu839VW3rBfgYaAfKk8983Xf')\n",
    "tx_outs.append(TxOut(\n",
    "    cantidad=int(0.1*100000000),\n",
    "    script_pubkey=script_p2pkh(h160),\n",
    "))\n",
    "tx_obj = Tx(versión=1, tx_ins=tx_ins, tx_outs=tx_outs, locktime=0, testnet=True)\n",
    "\n",
    "# Paso 3\n",
    "tipo_hash = SIGHASH_ALL\n",
    "z = tx_obj.sig_hash(0, tipo_hash)\n",
    "pk = ClavePrivada(secreto=8675309)\n",
    "der = pk.firmar(z).der()\n",
    "firma = der + tipo_hash.to_bytes(1, 'big')\n",
    "sec = pk.punto.sec()\n",
    "tx_obj.tx_ins[0].script_sig = Script([firma, sec])\n",
    "print(tx_obj.serializar().hex())"
   ]
  },
  {
   "cell_type": "markdown",
   "metadata": {},
   "source": [
    "### Ejercicio 2\n",
    "\n",
    "#### 2.1. Haz que pase [esta prueba](/edit/sesión5/tx.py)\n",
    "```\n",
    "tx.py:PruebaTx:prueba_firmar_input\n",
    "```"
   ]
  },
  {
   "cell_type": "code",
   "execution_count": 4,
   "metadata": {},
   "outputs": [
    {
     "name": "stderr",
     "output_type": "stream",
     "text": [
      ".\n",
      "----------------------------------------------------------------------\n",
      "Prueba ejecutada en 0.330s\n",
      "\n",
      "OK\n"
     ]
    }
   ],
   "source": [
    "# Ejercicio 2.1\n",
    "\n",
    "reload(tx)\n",
    "ejecutar_prueba(tx.PruebaTx('prueba_firmar_input'))"
   ]
  },
  {
   "cell_type": "markdown",
   "metadata": {},
   "source": [
    "### Ejercicio 3\n",
    "\n",
    "#### 3.1. Envia 0.04 TBTC a esta dirección \n",
    "\n",
    "`mwJn1YPMq7y5F8J3LkC5Hxg9PHyZ5K4cFv`\n",
    "\n",
    "#### Ve aquí para enviar tu transacción: https://testnet.blockchain.info/pushtx\n",
    "\n",
    "#### Bonus. Obtén unas monedas testnet y gasta ambos outputs (uno de tu dirección de cambio y otro desde el grifo/faucet testnet) a \n",
    "\n",
    "`mwJn1YPMq7y5F8J3LkC5Hxg9PHyZ5K4cFv`\n",
    "\n",
    "#### Puedes obtener algunas monedas testnet en: https://testnet.coinfaucet.eu/en/"
   ]
  },
  {
   "cell_type": "code",
   "execution_count": 5,
   "metadata": {},
   "outputs": [
    {
     "name": "stdout",
     "output_type": "stream",
     "text": [
      "01000000017a88f91ce1bc653a69da037ca013ba986657f4a628aaaafebed6dba4531758eb010000006a47304402201e018d85765dc32a28b7c403c151823bf683c71d5c9b5e47151fd76869c5154a02204ccc9531d7bacd5884b4ab9eb45b3540f35b5f7e3b42307ddfcd8911db943ab6012103935581e52c354cd2f484fe8ed83af7a3097005b2f9c60bff71d35bd795f54b67ffffffff0200093d00000000001d017601a914ad346f8eb57dee9a37981716e498120ae80e44f7018801ac20b4e301000000001d017601a914d52ad7ca9b3d096a38e752c2018e6fbc40cdf26f018801ac00000000\n"
     ]
    }
   ],
   "source": [
    "# Ejercicio 3.1\n",
    "\n",
    "from cce import ClavePrivada\n",
    "from ayudante import decodificar_base58, SIGHASH_ALL\n",
    "from script import script_p2pkh, Script\n",
    "from tx import TxIn, TxOut, Tx\n",
    "\n",
    "tx_previa = bytes.fromhex('eb581753a4dbd6befeaaaa28a6f4576698ba13a07c03da693a65bce11cf9887a')\n",
    "indice_previo = 1\n",
    "dire_destino = 'mwJn1YPMq7y5F8J3LkC5Hxg9PHyZ5K4cFv'\n",
    "cantidad_destino = 0.04\n",
    "dire_cambio = 'mzx5YhAH9kNHtcN481u6WkjeHjYtVeKVh2'\n",
    "cantidad_cambio = 0.317\n",
    "secreto = 8675309\n",
    "priv = ClavePrivada(secreto=secreto)\n",
    "\n",
    "# inicializa inputs\n",
    "tx_ins = []\n",
    "# crea un nuevo tx input con tx_previa, indice_previo, script_sig en blanco y max sequence\n",
    "tx_ins.append(TxIn(\n",
    "            tx_previa=tx_previa,\n",
    "            indice_previo=indice_previo,\n",
    "            script_sig=Script([]),\n",
    "            sequence=0xffffffff,\n",
    "        ))\n",
    "\n",
    "# inicializa outputs\n",
    "tx_outs = []\n",
    "# decodifica el hash160 desde la dirección de destino\n",
    "h160 = decodificar_base58(dire_destino)\n",
    "# convierte hash160 a script p2pkh\n",
    "script_pubkey = script_p2pkh(h160)\n",
    "# convierte cantidad destino a satoshis (multiplica por 100 millones)\n",
    "satoshis_destino = int(cantidad_destino*100000000)\n",
    "# crea un nuevo tx output para destino con cantidad y script_pubkey\n",
    "tx_outs.append(TxOut(\n",
    "    cantidad=satoshis_destino,\n",
    "    script_pubkey=script_pubkey,\n",
    "))\n",
    "# decodifica el hash160 desde la dirección de cambio\n",
    "h160 = decodificar_base58(dire_cambio)\n",
    "# convierte hash160 a script p2pkh\n",
    "script_pubkey = script_p2pkh(h160)\n",
    "# convierte cantidad cambio a satoshis (multiplica por 100 millones)\n",
    "satoshis_cambio = int(cantidad_cambio*100000000)\n",
    "# crea un nuevo tx output para destino con cantidad y script_pubkey\n",
    "tx_outs.append(TxOut(\n",
    "    cantidad=satoshis_cambio,\n",
    "    script_pubkey=script_pubkey,\n",
    "))\n",
    "\n",
    "# crea la transacción\n",
    "tx_obj = Tx(versión=1, tx_ins=tx_ins, tx_outs=tx_outs, locktime=0, testnet=True)\n",
    "\n",
    "# ahora firma el input 0 con la clave privada usando SIGHASH_ALL y firmar_input\n",
    "tx_obj.firmar_input(0, priv, SIGHASH_ALL)\n",
    "\n",
    "# COMPROBACIÓN: dirección de cambio corresponde a la clave privada\n",
    "if priv.punto.dire(testnet=True) != dire_cambio:\n",
    "    raise RuntimeError('La Clave Privada no corresponde a la dirección de cambio, comprueba priv_key y dire_cambio')\n",
    "\n",
    "# COMPROBACIÓN: el script_pubkey del output es el mismo que tu dirección\n",
    "if tx_ins[0].script_pubkey(testnet=True).cosas[2] != decodificar_base58(dire_cambio):\n",
    "    raise RuntimeError('No te puedes gastar este output con esta clave privada. Comprueba que la tx_previa e indice_previo sean correctos')\n",
    "\n",
    "# COMPROBACIÓN: la comisión es razonable\n",
    "if tx_obj.comisión() > 0.05*100000000 or tx_obj.comisión() <= 0:\n",
    "    raise RuntimeError('Comprueba que la cantidad de cambio sea razonable. La comisión es {}'.format(tx_obj.comisión()))\n",
    "\n",
    "# serializar y hex()\n",
    "print(tx_obj.serializar().hex())"
   ]
  },
  {
   "cell_type": "code",
   "execution_count": 6,
   "metadata": {},
   "outputs": [
    {
     "name": "stdout",
     "output_type": "stream",
     "text": [
      "0100000002f48a065c1236ddf8033d2a1bc0ada4bca9da6adf4a5c1fb11edfaddd2efecb89000000006b4830450221009bee08dddd8eec50589bfe5039dd35e3c31c966150ce760a60befc9cb9749c7d022039a4d02e45614297ec459646bb0d78bbb66ed1b8ef97961300740cda2f281846012103f96f3a1efd31e1a8d7078118ee56bff7355d58907ce0f865f5f0b3dbe34e55befffffffff45ca5fc10cdf70aa347fcec838e97e021e88ed5d91133e0705fd904139e0619000000006b483045022100fe96c82abfa914581f463121181284f27f8dc8ca9f049b3c224a52179f78666602207a10c7566d2bfc74e9d29531ced8917f28bf6ad770b310e4f70c087f39baa587012103f96f3a1efd31e1a8d7078118ee56bff7355d58907ce0f865f5f0b3dbe34e55beffffffff01c040310a000000001d017601a914ad346f8eb57dee9a37981716e498120ae80e44f7018801ac00000000\n"
     ]
    }
   ],
   "source": [
    "# Bonus\n",
    "\n",
    "from cce import ClavePrivada\n",
    "from ayudante import decodificar_base58, SIGHASH_ALL\n",
    "from script import script_p2pkh, Script\n",
    "from tx import TxIn, TxOut, Tx\n",
    "\n",
    "tx_previa_1 = bytes.fromhex('89cbfe2eddaddf1eb11f5c4adf6adaa9bca4adc01b2a3d03f8dd36125c068af4')\n",
    "indice_previo_1 = 0\n",
    "tx_previa_2 = bytes.fromhex('19069e1304d95f70e03311d9d58ee821e0978e83ecfc47a30af7cd10fca55cf4')\n",
    "indice_previo_2 = 0\n",
    "dire_destino = 'mwJn1YPMq7y5F8J3LkC5Hxg9PHyZ5K4cFv'\n",
    "cantidad_destino = 1.71\n",
    "secreto = 61740721216174072121\n",
    "priv = ClavePrivada(secreto=secreto)\n",
    "\n",
    "# inicializa inputs\n",
    "tx_ins = []\n",
    "# crea el primer tx input con tx_previa_1, indice_previo_1, script_sig en blanco y max sequence\n",
    "tx_ins.append(TxIn(\n",
    "    tx_previa=tx_previa_1,\n",
    "    indice_previo=indice_previo_1,\n",
    "    script_sig=Script([]),\n",
    "    sequence=0xffffffff,\n",
    "))\n",
    "# crea el segundo tx input con tx_previa_2, indice_previo_2, script_sig en blanco y max sequence\n",
    "tx_ins.append(TxIn(\n",
    "    tx_previa=tx_previa_2,\n",
    "    indice_previo=indice_previo_2,\n",
    "    script_sig=Script([]),\n",
    "    sequence=0xffffffff,\n",
    "))\n",
    "\n",
    "# inicializa outputs\n",
    "tx_outs = []\n",
    "# decodifica el hash160 desde la dirección de destino\n",
    "h160 = decodificar_base58(dire_destino)\n",
    "# convierte hash160 a script p2pkh\n",
    "script_pubkey = script_p2pkh(h160)\n",
    "# convierte cantidad destino a satoshis (multiplica por 100 millones)\n",
    "satoshis_destino = int(cantidad_destino*100000000)\n",
    "# crea un único tx output para destino con cantidad y script_pubkey\n",
    "tx_outs.append(TxOut(\n",
    "    cantidad=satoshis_destino,\n",
    "    script_pubkey=script_pubkey,\n",
    "))\n",
    "\n",
    "# crea la transacción\n",
    "tx_obj = Tx(1, tx_ins, tx_outs, 0, testnet=True)\n",
    "\n",
    "# firma ambos inputs con la clave privada usando SIGHASH_ALL y firmar_input\n",
    "tx_obj.firmar_input(0, priv, SIGHASH_ALL)\n",
    "tx_obj.firmar_input(1, priv, SIGHASH_ALL)\n",
    "\n",
    "# COMPROBACIÓN: script_pubkey del output es el mismo que tu dirección\n",
    "if tx_ins[0].script_pubkey(testnet=True).cosas[2] != decodificar_base58(priv.punto.dire(testnet=True)):\n",
    "    raise RuntimeError('El output no es algo que te puedas gastar con esta clave privada. Comprueba que tx_previa e indice_previo sean correctos')\n",
    "\n",
    "# COMPROBACIÓN: la comisión es razonable\n",
    "if tx_obj.comisión() > 0.05*100000000 or tx_obj.comisión() <= 0:\n",
    "    raise RuntimeError('Comprueba que la cantidad de cambio sea razonable. La comisión es {}'.format(tx_obj.comisión()))\n",
    "\n",
    "# serializa y hex()\n",
    "print(tx_obj.serializar().hex())"
   ]
  },
  {
   "cell_type": "markdown",
   "metadata": {},
   "source": [
    "### Ejercicio 4\n",
    "\n",
    "#### 4.1. Encuentra el hash160 del RedeemScript\n",
    "```\n",
    "5221022626e955ea6ea6d98850c994f9107b036b1334f18ca8830bfff1295d21cfdb702103b287eaf122eea69030a0e9feed096bed8045c8b98bec453e1ffac7fbdbd4bb7152ae\n",
    "```"
   ]
  },
  {
   "cell_type": "code",
   "execution_count": 7,
   "metadata": {},
   "outputs": [
    {
     "name": "stdout",
     "output_type": "stream",
     "text": [
      "74d691da1574e6b3c192ecfb52cc8984ee7b6c56\n"
     ]
    }
   ],
   "source": [
    "# Ejercicio 4.1\n",
    "\n",
    "from ayudante import hash160\n",
    "\n",
    "hex_redeem_script = '5221022626e955ea6ea6d98850c994f9107b036b1334f18ca8830bfff1295d21cfdb702103b287eaf122eea69030a0e9feed096bed8045c8b98bec453e1ffac7fbdbd4bb7152ae'\n",
    "\n",
    "# bytes.fromhex script\n",
    "redeem_script = bytes.fromhex(hex_redeem_script)\n",
    "# hash160 result\n",
    "h160 = hash160(redeem_script)\n",
    "# hex() para  mostrar\n",
    "print(h160.hex())"
   ]
  },
  {
   "cell_type": "code",
   "execution_count": 8,
   "metadata": {},
   "outputs": [
    {
     "name": "stdout",
     "output_type": "stream",
     "text": [
      "3CLoMMyuoDQTPRD3XYZtCvgvkadrAdvdXh\n"
     ]
    }
   ],
   "source": [
    "# Ejemplo de construcción de dirección P2SH\n",
    "\n",
    "from ayudante import codificar_base58_checksum\n",
    "\n",
    "print(codificar_base58_checksum(b'\\x05'+bytes.fromhex('74d691da1574e6b3c192ecfb52cc8984ee7b6c56')))"
   ]
  },
  {
   "cell_type": "markdown",
   "metadata": {},
   "source": [
    "### Ejercicio 5\n",
    "\n",
    "#### 5.1. Haz que pasen [estas pruebas](/edit/sesión5/ayudante.py)\n",
    "```\n",
    "ayudante.py:PruebaAyudante:prueba_dire_p2pkh\n",
    "ayudante.py:PruebaAyudante:prueba_dire_p2sh\n",
    "```"
   ]
  },
  {
   "cell_type": "code",
   "execution_count": 9,
   "metadata": {},
   "outputs": [
    {
     "name": "stderr",
     "output_type": "stream",
     "text": [
      ".\n",
      "----------------------------------------------------------------------\n",
      "Prueba ejecutada en 0.001s\n",
      "\n",
      "OK\n",
      ".\n",
      "----------------------------------------------------------------------\n",
      "Prueba ejecutada en 0.001s\n",
      "\n",
      "OK\n"
     ]
    }
   ],
   "source": [
    "# Ejercicio 5.1\n",
    "\n",
    "reload(ayudante)\n",
    "ejecutar_prueba(ayudante.PruebaAyudante('prueba_dire_p2pkh'))\n",
    "ejecutar_prueba(ayudante.PruebaAyudante('prueba_dire_p2sh'))"
   ]
  },
  {
   "cell_type": "code",
   "execution_count": 10,
   "metadata": {},
   "outputs": [
    {
     "name": "stdout",
     "output_type": "stream",
     "text": [
      "0xe71bfa115715d6fd33796948126f40a8cdd39f187e4afb03896795189fe1423c\n"
     ]
    }
   ],
   "source": [
    "# ejemplo z para p2sh\n",
    "\n",
    "from ayudante import doble_sha256\n",
    "\n",
    "sha = doble_sha256(bytes.fromhex('0100000001868278ed6ddfb6c1ed3ad5f8181eb0c7a385aa0836f01d5e4789e6bd304d87221a000000475221022626e955ea6ea6d98850c994f9107b036b1334f18ca8830bfff1295d21cfdb702103b287eaf122eea69030a0e9feed096bed8045c8b98bec453e1ffac7fbdbd4bb7152aeffffffff04d3b11400000000001976a914904a49878c0adfc3aa05de7afad2cc15f483a56a88ac7f400900000000001976a914418327e3f3dda4cf5b9089325a4b95abdfa0334088ac722c0c00000000001976a914ba35042cfe9fc66fd35ac2224eebdafd1028ad2788acdc4ace020000000017a91474d691da1574e6b3c192ecfb52cc8984ee7b6c56870000000001000000'))\n",
    "z = int.from_bytes(sha, 'big')\n",
    "                    \n",
    "print(hex(z))"
   ]
  },
  {
   "cell_type": "code",
   "execution_count": 11,
   "metadata": {},
   "outputs": [
    {
     "name": "stdout",
     "output_type": "stream",
     "text": [
      "True\n"
     ]
    }
   ],
   "source": [
    "# ejemplo de verificación p2sh\n",
    "\n",
    "from cce import PuntoS256, Firma\n",
    "from ayudante import doble_sha256\n",
    "\n",
    "sha = doble_sha256(bytes.fromhex('0100000001868278ed6ddfb6c1ed3ad5f8181eb0c7a385aa0836f01d5e4789e6bd304d87221a000000475221022626e955ea6ea6d98850c994f9107b036b1334f18ca8830bfff1295d21cfdb702103b287eaf122eea69030a0e9feed096bed8045c8b98bec453e1ffac7fbdbd4bb7152aeffffffff04d3b11400000000001976a914904a49878c0adfc3aa05de7afad2cc15f483a56a88ac7f400900000000001976a914418327e3f3dda4cf5b9089325a4b95abdfa0334088ac722c0c00000000001976a914ba35042cfe9fc66fd35ac2224eebdafd1028ad2788acdc4ace020000000017a91474d691da1574e6b3c192ecfb52cc8984ee7b6c56870000000001000000'))\n",
    "z = int.from_bytes(sha, 'big')\n",
    "punto = PuntoS256.parsear(bytes.fromhex('022626e955ea6ea6d98850c994f9107b036b1334f18ca8830bfff1295d21cfdb70'))\n",
    "firma = Firma.parsear(bytes.fromhex('3045022100dc92655fe37036f47756db8102e0d7d5e28b3beb83a8fef4f5dc0559bddfb94e02205a36d4e4e6c7fcd16658c50783e00c341609977aed3ad00937bf4ee942a89937'))\n",
    "print(punto.verificar(z, firma))"
   ]
  },
  {
   "cell_type": "markdown",
   "metadata": {},
   "source": [
    "### Ejercicio 6\n",
    "\n",
    "#### 6.1. Valida la segunda firma del primer input\n",
    "\n",
    "```\n",
    "0100000001868278ed6ddfb6c1ed3ad5f8181eb0c7a385aa0836f01d5e4789e6bd304d87221a000000db00483045022100dc92655fe37036f47756db8102e0d7d5e28b3beb83a8fef4f5dc0559bddfb94e02205a36d4e4e6c7fcd16658c50783e00c341609977aed3ad00937bf4ee942a8993701483045022100da6bee3c93766232079a01639d07fa869598749729ae323eab8eef53577d611b02207bef15429dcadce2121ea07f233115c6f09034c0be68db99980b9a6c5e75402201475221022626e955ea6ea6d98850c994f9107b036b1334f18ca8830bfff1295d21cfdb702103b287eaf122eea69030a0e9feed096bed8045c8b98bec453e1ffac7fbdbd4bb7152aeffffffff04d3b11400000000001976a914904a49878c0adfc3aa05de7afad2cc15f483a56a88ac7f400900000000001976a914418327e3f3dda4cf5b9089325a4b95abdfa0334088ac722c0c00000000001976a914ba35042cfe9fc66fd35ac2224eebdafd1028ad2788acdc4ace020000000017a91474d691da1574e6b3c192ecfb52cc8984ee7b6c568700000000\n",
    "```\n",
    "\n",
    "El pubkey sec de la segunda firma es:\n",
    "```\n",
    "03b287eaf122eea69030a0e9feed096bed8045c8b98bec453e1ffac7fbdbd4bb71\n",
    "```\n",
    "\n",
    "La firma der de la segunda firma es:\n",
    "```\n",
    "3045022100da6bee3c93766232079a01639d07fa869598749729ae323eab8eef53577d611b02207bef15429dcadce2121ea07f233115c6f09034c0be68db99980b9a6c5e75402201475221022\n",
    "```\n",
    "\n",
    "El redeemScript es:\n",
    "```\n",
    "475221022626e955ea6ea6d98850c994f9107b036b1334f18ca8830bfff1295d21cfdb702103b287eaf122eea69030a0e9feed096bed8045c8b98bec453e1ffac7fbdbd4bb7152ae\n",
    "```"
   ]
  },
  {
   "cell_type": "code",
   "execution_count": 12,
   "metadata": {},
   "outputs": [
    {
     "name": "stdout",
     "output_type": "stream",
     "text": [
      "True\n"
     ]
    }
   ],
   "source": [
    "# Ejercicio 6.1\n",
    "\n",
    "from io import BytesIO\n",
    "from cce import PuntoS256, Firma\n",
    "from ayudante import doble_sha256, int_a_little_endian\n",
    "from script import Script\n",
    "from tx import Tx, SIGHASH_ALL\n",
    "\n",
    "hex_sec = '03b287eaf122eea69030a0e9feed096bed8045c8b98bec453e1ffac7fbdbd4bb71'\n",
    "hex_der = '3045022100da6bee3c93766232079a01639d07fa869598749729ae323eab8eef53577d611b02207bef15429dcadce2121ea07f233115c6f09034c0be68db99980b9a6c5e754022'\n",
    "hex_redeem_script = '475221022626e955ea6ea6d98850c994f9107b036b1334f18ca8830bfff1295d21cfdb702103b287eaf122eea69030a0e9feed096bed8045c8b98bec453e1ffac7fbdbd4bb7152ae'\n",
    "sec = bytes.fromhex(hex_sec)\n",
    "der = bytes.fromhex(hex_der)\n",
    "redeem_script_stream = BytesIO(bytes.fromhex(hex_redeem_script))\n",
    "\n",
    "hex_tx = '0100000001868278ed6ddfb6c1ed3ad5f8181eb0c7a385aa0836f01d5e4789e6bd304d87221a000000db00483045022100dc92655fe37036f47756db8102e0d7d5e28b3beb83a8fef4f5dc0559bddfb94e02205a36d4e4e6c7fcd16658c50783e00c341609977aed3ad00937bf4ee942a8993701483045022100da6bee3c93766232079a01639d07fa869598749729ae323eab8eef53577d611b02207bef15429dcadce2121ea07f233115c6f09034c0be68db99980b9a6c5e75402201475221022626e955ea6ea6d98850c994f9107b036b1334f18ca8830bfff1295d21cfdb702103b287eaf122eea69030a0e9feed096bed8045c8b98bec453e1ffac7fbdbd4bb7152aeffffffff04d3b11400000000001976a914904a49878c0adfc3aa05de7afad2cc15f483a56a88ac7f400900000000001976a914418327e3f3dda4cf5b9089325a4b95abdfa0334088ac722c0c00000000001976a914ba35042cfe9fc66fd35ac2224eebdafd1028ad2788acdc4ace020000000017a91474d691da1574e6b3c192ecfb52cc8984ee7b6c568700000000'\n",
    "stream = BytesIO(bytes.fromhex(hex_tx))\n",
    "\n",
    "# parsear the PuntoS256 and Firma\n",
    "punto = PuntoS256.parsear(sec)\n",
    "firma = Firma.parsear(der)\n",
    "# parsear la Tx\n",
    "t = Tx.parsear(stream)\n",
    "# cambia el scriptSig del primer input a redeemScript\n",
    "# usa Script.parsear en el redeem_script_stream\n",
    "t.tx_ins[0].script_sig = Script.parsear(redeem_script_stream)\n",
    "# obtén la serialización\n",
    "ser = t.serializar()\n",
    "# añade el sighash (4 bytes, little-endian de SIGHASH_ALL)\n",
    "ser += int_a_little_endian(SIGHASH_ALL, 4)\n",
    "# doble_sha256 el resultado\n",
    "a_firmar = doble_sha256(ser)\n",
    "# esto interpretado como un número big-endian es tu z\n",
    "z = int.from_bytes(a_firmar, 'big')\n",
    "# ahora verifica la firma usando punto.verificar\n",
    "print(punto.verificar(z, firma))"
   ]
  }
 ],
 "metadata": {
  "kernelspec": {
   "display_name": "Python 3",
   "language": "python",
   "name": "python3"
  },
  "language_info": {
   "codemirror_mode": {
    "name": "ipython",
    "version": 3
   },
   "file_extension": ".py",
   "mimetype": "text/x-python",
   "name": "python",
   "nbconvert_exporter": "python",
   "pygments_lexer": "ipython3",
   "version": "3.6.5"
  }
 },
 "nbformat": 4,
 "nbformat_minor": 2
}
