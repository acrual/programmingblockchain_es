{
 "cells": [
  {
   "cell_type": "markdown",
   "metadata": {},
   "source": [
    "### Este es un Jupyter Notebook\n",
    "Puedes escribir código de Python y se ejecutará. Puedes escribir el típico 'hello world' así:\n",
    "\n",
    "```python\n",
    "print('hello world')\n",
    "```\n",
    "\n",
    "Puedes ejecutar pulsando shift-enter. ¡Inténtalo! Puedes también hacer click en Run en la barra de tarease."
   ]
  },
  {
   "cell_type": "code",
   "execution_count": null,
   "metadata": {},
   "outputs": [],
   "source": [
    "print('hello world')"
   ]
  },
  {
   "cell_type": "markdown",
   "metadata": {},
   "source": [
    "### Puedes hacer mucho más que imprimir \"hello world\"\n",
    "\n",
    "Este es un intérprete de Python3 completamente funcional así que puedes escribir funciones y objetos como en la siguiente caja:\n",
    "\n",
    "Intenta imprimir el vigésimo primer número de Fibonacci abajo en vez del 11º. Puedes añadir cacheo si quieres practicar programación en python."
   ]
  },
  {
   "cell_type": "code",
   "execution_count": null,
   "metadata": {},
   "outputs": [],
   "source": [
    "def fib(n):\n",
    "    if n in (0,1):\n",
    "        return 1\n",
    "    else:\n",
    "        return fib(n-1) + fib(n-2)\n",
    "\n",
    "print(fib(20))"
   ]
  },
  {
   "cell_type": "markdown",
   "metadata": {},
   "source": [
    "### Unas cuantas cosas que debes recordar en Python3\n",
    "\n",
    "Las cadenas y los bytes son ahora diferentes\n",
    "\n",
    "```python\n",
    "s = 'hello world'\n",
    "b = b'hello world'\n",
    "```\n",
    "\n",
    "Pueden parecer iguales pero el prefijo 'b' significa que son bytes. Básicamente, los caracteres en el disco del sistema son bytes y los símbolos reales en unicode son cadenas. Una buena explicación de la diferencia está [aquí](http://www.diveintopython3.net/strings.html)."
   ]
  },
  {
   "cell_type": "code",
   "execution_count": null,
   "metadata": {},
   "outputs": [],
   "source": [
    "s = 'hello world'\n",
    "b = b'hello world'\n",
    "\n",
    "print(s==b) # False\n",
    "\n",
    "# Conviertes de cadena a bytes así:\n",
    "\n",
    "hello_world_bytes = s.encode('ascii')\n",
    "print(hello_world_bytes == b) # True\n",
    "\n",
    "# Conviertes de bytes a cadena así:\n",
    "\n",
    "cadena_hello_world = b.decode('ascii')\n",
    "print(cadena_hello_world == s) # True"
   ]
  },
  {
   "cell_type": "markdown",
   "metadata": {},
   "source": [
    "### Importaciones\n",
    "\n",
    "Ya tienes tests unitarios escritos para tí.\n",
    "Tu tarea es hacer que pasen.\n",
    "Podemos importar varios módulos para hacer más amena nuestra experiencia con jupyter\n",
    "De esta manera, hacer que todo funcione será más fácil."
   ]
  },
  {
   "cell_type": "code",
   "execution_count": null,
   "metadata": {},
   "outputs": [],
   "source": [
    "# importa todo y define una función de ejecución de pruebas\n",
    "\n",
    "from importlib import reload\n",
    "from ayudante import ejecutar_prueba\n",
    "\n",
    "import ayudante"
   ]
  },
  {
   "cell_type": "markdown",
   "metadata": {},
   "source": [
    "### Ejercicio 1\n",
    "\n",
    "Haz que pase [esta prueba]:(/edit/session0/ayudante.py) `ayudante.py:PruebaAyudante:prueba_bytes`\n",
    "\n",
    "Para conseguir esto, tendrás que abrir ayudante.py e implementar las funciones bytes_a_str y str_a_bytes. En cuanto termines de editar [ayudante.py](/edit/session0/ayudante.py), ejecuta esto otra vez. ¡Inténtalo ahora!"
   ]
  },
  {
   "cell_type": "code",
   "execution_count": null,
   "metadata": {},
   "outputs": [],
   "source": [
    "# Ejercicio 1\n",
    "\n",
    "reload(ayudante)\n",
    "\n",
    "ejecutar_prueba(ayudante.PruebaAyudante('prueba_bytes'))"
   ]
  },
  {
   "cell_type": "markdown",
   "metadata": {},
   "source": [
    "### Obtener ayuda\n",
    "\n",
    "Si no lo consigues, existe la carpeta `completado` que contiene los ficheros `ayudante.py` y `session0.ipynb` que puedes usar para obtener las respuestas."
   ]
  },
  {
   "cell_type": "markdown",
   "metadata": {},
   "source": [
    "### Expresiones útiles en Python3\n",
    "\n",
    "Puedes darle la vuelta a una lista usando `[::-1]`:\n",
    "\n",
    "```python\n",
    "a = [1, 2, 3, 4, 5]\n",
    "print(a[::-1]) # [5, 4, 3, 2, 1]\n",
    "```\n",
    "\n",
    "También funciona con cadenas y bytes:\n",
    "\n",
    "```python\n",
    "s = 'hello world'\n",
    "print(s[::-1]) # 'dlrow olleh'\n",
    "b = b'hello world'\n",
    "print(b[::-1]) # b'dlrow olleh'\n",
    "```\n",
    "\n",
    "Indexar bytes te dará el valor numérico:\n",
    "\n",
    "```python\n",
    "print(b'&'[0]) # 38 pues & es el caracter #38 \n",
    "```\n",
    "\n",
    "Puedes hacer lo contrario usando bytes:\n",
    "\n",
    "```python\n",
    "print(bytes([38])) # b'&'\n",
    "```"
   ]
  },
  {
   "cell_type": "code",
   "execution_count": null,
   "metadata": {},
   "outputs": [],
   "source": [
    "a = [1, 2, 3, 4, 5]\n",
    "print(a[::-1]) # [5, 4, 3, 2, 1]\n",
    "\n",
    "s = 'hello world'\n",
    "print(s[::-1]) # 'dlrow olleh'\n",
    "b = b'hello world'\n",
    "print(b[::-1]) # b'dlrow olleh'\n",
    "\n",
    "print(b'&'[0]) # 38 pues & es el caracter #38\n",
    "\n",
    "print(bytes([38])) # b'&'"
   ]
  },
  {
   "cell_type": "markdown",
   "metadata": {},
   "source": [
    "### Trucos de Python\n",
    "\n",
    "Así es como convertimos de binario a/desde hexadecimal:"
   ]
  },
  {
   "cell_type": "code",
   "execution_count": null,
   "metadata": {},
   "outputs": [],
   "source": [
    "print(b'hello world'.hex())\n",
    "print(bytes.fromhex('68656c6c6f20776f726c64'))"
   ]
  },
  {
   "cell_type": "markdown",
   "metadata": {},
   "source": [
    "### Ejercicio 2\n",
    "\n",
    "Dale la vuelta a este volcado hexadecimal: `b010a49c82b4bc84cc1dfd6e09b2b8114d016041efaf591eca88959e327dd29a`\n",
    "\n",
    "Pista: Puede ser conveniente convertir esto en datos binarios, darles la vuelta y convertirlos en hex otra vez"
   ]
  },
  {
   "cell_type": "code",
   "execution_count": null,
   "metadata": {},
   "outputs": [],
   "source": [
    "# Ejercicio 2\n",
    "\n",
    "h = 'b010a49c82b4bc84cc1dfd6e09b2b8114d016041efaf591eca88959e327dd29a'\n",
    "\n",
    "# convertir a binario (bytes.fromhex)\n",
    "b = bytes.fromhex(h)\n",
    "# dale la vuelta ([::-1])\n",
    "b_rev = b[::-1]\n",
    "# convierte a hex()\n",
    "h_rev = b_rev.hex()\n",
    "print(h_rev)"
   ]
  },
  {
   "cell_type": "markdown",
   "metadata": {},
   "source": [
    "### Aritmética modular\n",
    "\n",
    "Si no recuerdas la aritmética modular, es esta función en python\n",
    "\n",
    "```python\n",
    "39 % 12\n",
    "```\n",
    "\n",
    "El resultado es 3 porque es el resto de esta división (39 / 12 == 3 + 3/12).\n",
    "\n",
    "A alguna gente le gusta llamarle \"aritmética del reloj\". Efectivamente puedes pensar en un funcionamiento similar:\n",
    "\n",
    "![clock](http://latex.artofproblemsolving.com/f/4/d/f4daa2601de14fddf3d8441e16cc322a25e85354.png)\n",
    "\n",
    "Piensa en tomar el módulo como en responder a la pregunta \"¿qué hora será dentro de 39 horas?\"\n",
    "\n",
    "Si todavía estás confundido, echa un vistazo a [este](https://www.khanacademy.org/computing/computer-science/cryptography/modarithmetic/a/what-is-modular-arithmetic) artículo."
   ]
  },
  {
   "cell_type": "code",
   "execution_count": null,
   "metadata": {},
   "outputs": [],
   "source": [
    "print(39 % 12)"
   ]
  },
  {
   "cell_type": "markdown",
   "metadata": {},
   "source": [
    "### Ejercicio 3\n",
    "\n",
    "Encuentra el módulo 19 de estos números:\n",
    "\n",
    "* 99\n",
    "* \\\\(456 \\cdot 444\\\\)\n",
    "* \\\\(9^{77}\\\\)\n",
    "\n",
    "(nota que python usa ** para calcular el exponente)"
   ]
  },
  {
   "cell_type": "code",
   "execution_count": null,
   "metadata": {},
   "outputs": [],
   "source": [
    "# Exercise 3\n",
    "\n",
    "primo = 19\n",
    "print(99 % primo)\n",
    "print(456*444 % primo)\n",
    "print(9**77 % primo)"
   ]
  },
  {
   "cell_type": "markdown",
   "metadata": {},
   "source": [
    "### Convertir de bytes a int y al revés\n",
    "\n",
    "Convertir de bytes a int requiere aprender sobre codificación Big y Little Endian (Gran y pequeño final). En esencia, cualquier número mayor que 255 se puede codificar de dos maneras, con el \"Big End\" primero o el \"Little End\" primero.\n",
    "\n",
    "La lectura normal de los humanos es desde \"Gran Final\". Por ejemplo 123 se lee como 100 + 20 + 3. Algunos sistemas informáticos codifican los enteros con el \"Pequeño Final\" primero.\n",
    "\n",
    "Un número como el 500 se codifica de la siguiente manera en Big Endian:\n",
    "\n",
    "0x01f4 (256 + 244)\n",
    "\n",
    "Pero en cambio de esta manera en Little Endian:\n",
    "\n",
    "0xf401 (244 + 256)\n",
    "\n",
    "En Python podemos convertir un entero a big o little endian usando un método incorporado:\n",
    "\n",
    "```python\n",
    "n = 1234567890\n",
    "big_endian = n.to_bytes(4, 'big')  # b'\\x49\\x96\\x02\\xd2'\n",
    "little_endian = n.to_bytes(4, 'little')  # b'\\xd2\\x02\\x96\\x49'\n",
    "```\n",
    "\n",
    "También podemos convertir de bytes a entero así:\n",
    "\n",
    "```python\n",
    "big_endian = b'\\x49\\x96\\x02\\xd2'\n",
    "n = int.from_bytes(big_endian, 'big')  # 1234567890\n",
    "little_endian = b'\\xd2\\x02\\x96\\x49'\n",
    "n = int.from_bytes(little_endian, 'little')  # 1234567890\n",
    "```"
   ]
  },
  {
   "cell_type": "code",
   "execution_count": null,
   "metadata": {},
   "outputs": [],
   "source": [
    "n = 1234567890\n",
    "big_endian = n.to_bytes(4, 'big')\n",
    "little_endian = n.to_bytes(4, 'little')\n",
    "\n",
    "print(big_endian.hex())\n",
    "print(little_endian.hex())\n",
    "\n",
    "print(int.from_bytes(big_endian, 'big'))\n",
    "print(int.from_bytes(little_endian, 'little'))"
   ]
  },
  {
   "cell_type": "markdown",
   "metadata": {},
   "source": [
    "### Ejercicio 4\n",
    "\n",
    "1. Convierte lo siguiente:\n",
    "\n",
    " * 8675309 a 8 bytes en big endian\n",
    " * interpreta ```b'\\x11\\x22\\x33\\x44\\x55'``` como un entero little endian\n",
    "\n",
    "2. Haz que pasen los siguientes tests:\n",
    "\n",
    "```\n",
    "ayudante.py:prueba_little_endian_a_int\n",
    "ayudante.py:prueba_int_a_little_endian\n",
    "```"
   ]
  },
  {
   "cell_type": "code",
   "execution_count": 1,
   "metadata": {},
   "outputs": [
    {
     "name": "stdout",
     "output_type": "stream",
     "text": [
      "b'\\x00\\x00\\x00\\x00\\x00\\x84_\\xed'\n",
      "366216421905\n"
     ]
    }
   ],
   "source": [
    "# Exercise 4.1\n",
    "\n",
    "n = 8675309\n",
    "print(n.to_bytes(8, 'big'))\n",
    "\n",
    "little_endian = b'\\x11\\x22\\x33\\x44\\x55'\n",
    "print(int.from_bytes(little_endian, 'little'))"
   ]
  },
  {
   "cell_type": "code",
   "execution_count": null,
   "metadata": {},
   "outputs": [],
   "source": [
    "# Ejercicio 4.2\n",
    "\n",
    "reload(ayudante)\n",
    "ejecutar_prueba(ayudante.PruebaAyudante('prueba_little_endian_a_int'))\n",
    "ejecutar_prueba(ayudante.PruebaAyudante('prueba_int_a_little_endian'))"
   ]
  }
 ],
 "metadata": {
  "kernelspec": {
   "display_name": "Python 3",
   "language": "python",
   "name": "python3"
  },
  "language_info": {
   "codemirror_mode": {
    "name": "ipython",
    "version": 3
   },
   "file_extension": ".py",
   "mimetype": "text/x-python",
   "name": "python",
   "nbconvert_exporter": "python",
   "pygments_lexer": "ipython3",
   "version": "3.6.5"
  }
 },
 "nbformat": 4,
 "nbformat_minor": 2
}
