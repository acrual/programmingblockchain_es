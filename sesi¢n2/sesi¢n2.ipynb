{
 "cells": [
  {
   "cell_type": "code",
   "execution_count": null,
   "metadata": {},
   "outputs": [],
   "source": [
    "# importa todo y define una función de ejecución de pruebas\n",
    "from importlib import reload\n",
    "from ayudante import ejecutar_prueba\n",
    "\n",
    "import cce\n",
    "import ayudante"
   ]
  },
  {
   "cell_type": "code",
   "execution_count": null,
   "metadata": {},
   "outputs": [],
   "source": [
    "# Ejemplo de verificación de curva\n",
    "\n",
    "primo = 137\n",
    "x, y = 73, 128\n",
    "\n",
    "print(y**2 % primo == (x**3 + 7) % primo)"
   ]
  },
  {
   "cell_type": "markdown",
   "metadata": {},
   "source": [
    "### Ejercicio 1\n",
    "\n",
    "#### 1.1. Encuentra qué puntos son válidos sobre la curva \\\\( y^2 = x^3 + 7: F_{223} \\\\)\n",
    "```\n",
    "(192,105), (17,56), (200,119), (1,193), (42,99)\n",
    "```\n",
    "#### 1.2. Escribe [esta prueba](/edit/sesión2/cce.py) usando los resultados de arriba\n",
    "```\n",
    "cce.py:PruebaCCE:prueba_en_curva\n",
    "```"
   ]
  },
  {
   "cell_type": "code",
   "execution_count": null,
   "metadata": {},
   "outputs": [],
   "source": [
    "# Ejercicio 1.1\n",
    "\n",
    "from cce import ElementoCampo, Punto\n",
    "\n",
    "primo = 223\n",
    "a = ElementoCampo(0, primo)\n",
    "b = ElementoCampo(7, primo)\n",
    "\n",
    "puntos = ((192,105), (17,56), (200,119), (1,193), (42,99))\n",
    "\n",
    "# itera los puntos\n",
    "    # Inicializa puntos de esta manera:\n",
    "    # x = ElementoCampo(x_raw, primo)\n",
    "    # y = ElementoCampo(y_raw, primo)\n",
    "    # intenta inicializar, RuntimeError significa que no está en la curva\n",
    "    # p = Punto(x, y, a, b)"
   ]
  },
  {
   "cell_type": "code",
   "execution_count": null,
   "metadata": {},
   "outputs": [],
   "source": [
    "# Ejercicio 1.2\n",
    "\n",
    "reload(cce)\n",
    "ejecutar_prueba(cce.PruebaCCE('prueba_en_curva'))"
   ]
  },
  {
   "cell_type": "code",
   "execution_count": null,
   "metadata": {},
   "outputs": [],
   "source": [
    "# Ejemplo donde x1 != x2\n",
    "\n",
    "from cce import ElementoCampo, Punto\n",
    "\n",
    "primo = 137\n",
    "a = ElementoCampo(0, primo)\n",
    "b = ElementoCampo(7, primo)\n",
    "p1 = Punto(ElementoCampo(73, primo), ElementoCampo(128, primo), a, b)\n",
    "p2 = Punto(ElementoCampo(46, primo), ElementoCampo(22, primo), a, b)\n",
    "\n",
    "print(p1+p2)"
   ]
  },
  {
   "cell_type": "markdown",
   "metadata": {},
   "source": [
    "### Ejercicio 2\n",
    "\n",
    "#### 2.1. Encuenta las siguientes sumas de puntos sobre la curva  \\\\( y^2 = x^3 + 7: F_{223} \\\\)\n",
    "```\n",
    "(192,105) + (17,56), (47,71) + (117,141), (143,98) + (76,66)\n",
    "```\n",
    "\n",
    "#### 2.2. Escribe [esta prueba](/edit/sesión2/cce.py) usando los resultados de arriba\n",
    "```\n",
    "cce.py:PruebaCCE:prueba_suma1\n",
    "```"
   ]
  },
  {
   "cell_type": "code",
   "execution_count": null,
   "metadata": {},
   "outputs": [],
   "source": [
    "# Ejercicio 2.1\n",
    "\n",
    "from cce import ElementoCampo, Punto\n",
    "\n",
    "primo = 223\n",
    "a = ElementoCampo(0, primo)\n",
    "b = ElementoCampo(7, primo)\n",
    "\n",
    "sumas = ((192, 105, 17, 56), (47, 71, 117, 141), (143, 98, 76, 66))\n",
    "\n",
    "# itera las sumas para terminar\n",
    "    # Inicializa los puntos de esta manera:\n",
    "    # x1 = ElementoCampo(x1_raw, primo)\n",
    "    # y1 = ElementoCampo(y1_raw, primo)\n",
    "    # p1 = Punto(x1, y1, a, b)\n",
    "    # x2 = ElementoCampo(x2_raw, primo)\n",
    "    # y2 = ElementoCampo(y2_raw, primo)\n",
    "    # p2 = Punto(x2, y2, a, b)"
   ]
  },
  {
   "cell_type": "code",
   "execution_count": null,
   "metadata": {},
   "outputs": [],
   "source": [
    "# Ejercicio 2.2\n",
    "\n",
    "reload(cce)\n",
    "ejecutar_prueba(cce.PruebaCCE('prueba_suma1'))"
   ]
  },
  {
   "cell_type": "code",
   "execution_count": null,
   "metadata": {},
   "outputs": [],
   "source": [
    "# Ejemplo donde x1 != x2\n",
    "\n",
    "from cce import ElementoCampo, Punto\n",
    "\n",
    "primo = 137\n",
    "a = ElementoCampo(0, primo)\n",
    "b = ElementoCampo(7, primo)\n",
    "p = Punto(ElementoCampo(73, primo), ElementoCampo(128, primo), a, b)\n",
    "\n",
    "print(p+p)"
   ]
  },
  {
   "cell_type": "markdown",
   "metadata": {},
   "source": [
    "### Ejercicio 3\n",
    "\n",
    "#### 3.1. Encuentra las siguientes multiplicaciones escalares sobre la curva  \\\\( y^2 = x^3 + 7: F_{223} \\\\)\n",
    "```\n",
    "2*(192,105), 2*(143,98), 2*(47,71), 4*(47,71), 8*(47,71), 21*(47,71)\n",
    "```\n",
    "\n",
    "#### Pista: añade el punto a sí mismo n veces"
   ]
  },
  {
   "cell_type": "code",
   "execution_count": null,
   "metadata": {},
   "outputs": [],
   "source": [
    "# Ejercicio 3.1\n",
    "\n",
    "from cce import ElementoCampo, Punto\n",
    "\n",
    "primo = 223\n",
    "a = ElementoCampo(0, primo)\n",
    "b = ElementoCampo(7, primo)\n",
    "\n",
    "multiplicaciones = ((2, 192, 105), (2, 143, 98), (2, 47, 71), (4, 47, 71), (8, 47, 71), (21, 47, 71))\n",
    "\n",
    "# itera sobre las multiplicaciones\n",
    "    # Inicializa puntos de esta manera:\n",
    "    # x = ElementoCampo(x_raw, primo)\n",
    "    # y = ElementoCampo(y_raw, primo)\n",
    "    # p = Punto(x, y, a, b)\n",
    "    # comienza el producto en 0 (punto en el infinito)\n",
    "    # haz un bucle n veces (n es 2, 4, 8 o 21 en los ejemplos de arriba)\n",
    "        # añade el punto al producto\n",
    "    # print producto"
   ]
  },
  {
   "cell_type": "code",
   "execution_count": null,
   "metadata": {},
   "outputs": [],
   "source": [
    "# Ejemplo de Grupo\n",
    "\n",
    "from cce import ElementoCampo, Punto\n",
    "\n",
    "primo = 223\n",
    "a = ElementoCampo(0, primo)\n",
    "b = ElementoCampo(7, primo)\n",
    "G = Punto(ElementoCampo(47, primo), ElementoCampo(71, primo), a, b)\n",
    "inf = Punto(None, None, a, b)\n",
    "total = G\n",
    "conteo = 1\n",
    "\n",
    "while total != inf:\n",
    "    print('{}:{}'.format(conteo, total))\n",
    "    total += G\n",
    "    conteo += 1\n",
    "print('{}:{}'.format(conteo, total))"
   ]
  },
  {
   "cell_type": "markdown",
   "metadata": {},
   "source": [
    "### Ejercicio 4\n",
    "\n",
    "#### 4.1. Encuentra cuál es el orden del grupo generado por (15, 86) en  \\\\( y^2 = x^3 + 7: F_{223} \\\\)\n",
    "\n",
    "#### Pista: añade el punto a sí mismo hasta que consigas el punto en el infinito\n",
    "\n",
    "#### 4.2 Escribe [esta prueba](/edit/sesión2/cce.py) usando los resultados de arriba\n",
    "```\n",
    "cce.py:PruebaECC:prueba_rmul\n",
    "```"
   ]
  },
  {
   "cell_type": "code",
   "execution_count": null,
   "metadata": {},
   "outputs": [],
   "source": [
    "# Ejercicio 4.1\n",
    "\n",
    "from cce import ElementoCampo, Punto\n",
    "\n",
    "primo = 223\n",
    "a = ElementoCampo(0, primo)\n",
    "b = ElementoCampo(7, primo)\n",
    "\n",
    "x = ElementoCampo(15, primo)\n",
    "y = ElementoCampo(86, primo)\n",
    "p = Punto(x, y, a, b)\n",
    "inf = Punto(None, None, a, b)\n",
    "\n",
    "# empieza producto en el punto\n",
    "# empieza conteo en 1\n",
    "# haz un bucle hasta que obtengas el punto en el infinito (0)\n",
    "    # añade el punto al producto\n",
    "    # incrementa conteo\n",
    "# print conteo"
   ]
  },
  {
   "cell_type": "code",
   "execution_count": null,
   "metadata": {},
   "outputs": [],
   "source": [
    "# Ejercicio 4.2\n",
    "\n",
    "reload(cce)\n",
    "ejecutar_prueba(cce.PruebaCCE('prueba_rmul'))"
   ]
  },
  {
   "cell_type": "code",
   "execution_count": null,
   "metadata": {},
   "outputs": [],
   "source": [
    "# Confirmando que G está en la curva\n",
    "p = 2**256 - 2**32 - 977\n",
    "x = 0x79BE667EF9DCBBAC55A06295CE870B07029BFCDB2DCE28D959F2815B16F81798\n",
    "y = 0x483ADA7726A3C4655DA4FBFC0E1108A8FD17B448A68554199C47D08FFB10D4B8\n",
    "print(y**2 % p == (x**3 + 7) % p)"
   ]
  },
  {
   "cell_type": "code",
   "execution_count": null,
   "metadata": {},
   "outputs": [],
   "source": [
    "# Confirmando que el orden de G es n\n",
    "from cce import G\n",
    "\n",
    "n = 0xFFFFFFFFFFFFFFFFFFFFFFFFFFFFFFFEBAAEDCE6AF48A03BBFD25E8CD0364141\n",
    "print(n*G)"
   ]
  },
  {
   "cell_type": "code",
   "execution_count": null,
   "metadata": {},
   "outputs": [],
   "source": [
    "# Obteniendo el punto público desde un secreto\n",
    "from cce import G\n",
    "\n",
    "secreto = 999\n",
    "punto = secreto*G\n",
    "print(punto)"
   ]
  },
  {
   "cell_type": "markdown",
   "metadata": {},
   "source": [
    "### Ejercicio 5\n",
    "\n",
    "#### 5.1. Obtén el punto público donde el escalar sea el siguiente:\n",
    "```\n",
    "7, 1485, 2**128, 2**240+2**31\n",
    "```\n",
    "\n",
    "#### 5.2. Haz que pase [esta prueba](/edit/sesión2/cce.py)\n",
    "```\n",
    "cce.py:PruebaS256:prueba_puntopub\n",
    "```"
   ]
  },
  {
   "cell_type": "code",
   "execution_count": null,
   "metadata": {},
   "outputs": [],
   "source": [
    "# Ejercicio 5.1\n",
    "\n",
    "from cce import G\n",
    "\n",
    "secretos = (7, 1485, 2**128, 2**240+2**31)\n",
    "\n",
    "# itera los secretos\n",
    "    # obtén el punto público"
   ]
  },
  {
   "cell_type": "code",
   "execution_count": null,
   "metadata": {},
   "outputs": [],
   "source": [
    "# Ejercicio 5.2\n",
    "\n",
    "reload(cce)\n",
    "ejecutar_prueba(cce.PruebaS256('prueba_puntopub'))"
   ]
  },
  {
   "cell_type": "code",
   "execution_count": null,
   "metadata": {},
   "outputs": [],
   "source": [
    "# Ejemplo SEC\n",
    "\n",
    "from cce import PuntoS256\n",
    "\n",
    "punto = PuntoS256(0x5CBDF0646E5DB4EAA398F365F2EA7A0E3D419B7E0330E39CE92BDDEDCAC4F9BC, 0x6AEBCA40BA255960A3178D6D861A54DBA813D0B813FDE7B5A5082628087264DA)\n",
    "\n",
    "descomprimido = b'\\x04' + punto.x.num.to_bytes(32, 'big') + punto.y.num.to_bytes(32, 'big')\n",
    "print(descomprimido.hex())\n",
    "if punto.y.num % 2 == 1:\n",
    "    comprimido = b'\\x03' + punto.x.num.to_bytes(32, 'big')\n",
    "else:\n",
    "    comprimido = b'\\x02' + punto.x.num.to_bytes(32, 'big')\n",
    "print(comprimido.hex())"
   ]
  },
  {
   "cell_type": "markdown",
   "metadata": {},
   "source": [
    "#### Ejercicio 6\n",
    "\n",
    "#### 6.1. Encuentra el formato SEC comprimido y descomprimido para claves públicas donde las claves privadas sean:\n",
    "```\n",
    "999**3, 123, 42424242\n",
    "```\n",
    "\n",
    "#### 6.2. Haz que pase [esta prueba](/edit/sesión2/cce.py)\n",
    "```\n",
    "cce.py:PruebaS256:prueba_sec\n",
    "```"
   ]
  },
  {
   "cell_type": "code",
   "execution_count": null,
   "metadata": {},
   "outputs": [],
   "source": [
    "# Ejercicio 6.1\n",
    "\n",
    "from cce import G\n",
    "\n",
    "secretos = (999**3, 123, 42424242)\n",
    "\n",
    "# itera secretos\n",
    "    # obtén el punto público\n",
    "    # descomprimido - b'\\x04' seguido de una coordenada x, y después una coordenada y\n",
    "    # así es como expresas una coordenada en bytes: un_entero.to_bytes(32, 'big')\n",
    "    # comprimido - b'\\x02'/b'\\x03' seguido de una coordenada x. 02 si y es par, 03 si impar\n",
    "    # imprime el .hex() de ambos"
   ]
  },
  {
   "cell_type": "code",
   "execution_count": null,
   "metadata": {},
   "outputs": [],
   "source": [
    "# Ejercicio 6.2\n",
    "\n",
    "reload(cce)\n",
    "ejecutar_prueba(cce.PruebaS256('prueba_sec'))"
   ]
  },
  {
   "cell_type": "code",
   "execution_count": null,
   "metadata": {},
   "outputs": [],
   "source": [
    "# Ejemplo de dirección\n",
    "\n",
    "from ayudante import codifica_base58, hash160, doble_sha256\n",
    "sec = bytes.fromhex('025CBDF0646E5DB4EAA398F365F2EA7A0E3D419B7E0330E39CE92BDDEDCAC4F9BC')\n",
    "h160 = hash160(sec)\n",
    "bruto = b\"\\x00\" + h160\n",
    "bruto = bruto + doble_sha256(bruto)[:4]\n",
    "dire = codifica_base58(bruto)\n",
    "print(dire)"
   ]
  },
  {
   "cell_type": "markdown",
   "metadata": {},
   "source": [
    "### Ejercicio 7\n",
    "\n",
    "#### 7.1. Encuentra las direcciones mainnet y testnet de las siguientes claves privadas:\n",
    "```\n",
    "comprimida, 888**3\n",
    "descomprimida, 321\n",
    "descomprimida, 4242424242\n",
    "```\n",
    "\n",
    "#### 7.2. Haz que pase [esta prueba](/edit/sesión2/cce.py)\n",
    "```\n",
    "cce.py:PruebaS256:prueba_dire\n",
    "```"
   ]
  },
  {
   "cell_type": "code",
   "execution_count": null,
   "metadata": {},
   "outputs": [],
   "source": [
    "# Ejercicio 7.1\n",
    "from cce import G\n",
    "\n",
    "from ayudante import doble_sha256, codifica_base58, hash160\n",
    "\n",
    "componentes = (\n",
    "    # (comprimida, secreto)\n",
    "    (True, 888**3),\n",
    "    (False, 321),\n",
    "    (False, 4242424242),\n",
    ")\n",
    "\n",
    "# itera a través de componentes\n",
    "    # obtén el punto público\n",
    "    # obtén el formato sec\n",
    "    # haz hash160 al resultado\n",
    "    # antepón b'\\x00' para mainnet o b'\\x6f' para testnet\n",
    "        # bruto es el prefijo + h160\n",
    "        # obtén doble_sha256 de bruto, los primeros 4 bytes son el checksum\n",
    "        # añade checksum al final\n",
    "        # codifica todo con codifica_base58"
   ]
  },
  {
   "cell_type": "code",
   "execution_count": null,
   "metadata": {},
   "outputs": [],
   "source": [
    "# Ejercicio 7.2\n",
    "\n",
    "reload(cce)\n",
    "ejecutar_prueba(cce.PruebaS256('prueba_dire'))"
   ]
  },
  {
   "cell_type": "markdown",
   "metadata": {},
   "source": [
    "### Ejercicio 8\n",
    "\n",
    "#### 8.1. Crea una dirección testnet usando tu propia clave privada\n",
    "#### (usa tu número de teléfono si no se te ocurre nada)\n",
    "#### !Guarda esta dirección para mañana!"
   ]
  },
  {
   "cell_type": "code",
   "execution_count": null,
   "metadata": {},
   "outputs": [],
   "source": [
    "# Ejercicio 8.1\n",
    "from cce import G\n",
    "\n",
    "# usa tu número de teléfono si no se te ocurre nada\n",
    "\n",
    "# obtén el punto público\n",
    "# si completaste 7.2, haz el método .address(testnet=True) sobre el punto público"
   ]
  }
 ],
 "metadata": {
  "kernelspec": {
   "display_name": "Python 3",
   "language": "python",
   "name": "python3"
  },
  "language_info": {
   "codemirror_mode": {
    "name": "ipython",
    "version": 3
   },
   "file_extension": ".py",
   "mimetype": "text/x-python",
   "name": "python",
   "nbconvert_exporter": "python",
   "pygments_lexer": "ipython3",
   "version": "3.6.5"
  }
 },
 "nbformat": 4,
 "nbformat_minor": 2
}
