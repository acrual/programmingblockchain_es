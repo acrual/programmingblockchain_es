{
 "cells": [
  {
   "cell_type": "code",
   "contador_ejecución": 1,
   "metadata": {},
   "outputs": [],
   "source": [
    "# importa todo y define una función de ejecución de pruebas\n",
    "from importlib import reload\n",
    "from ayudante import ejecutar_prueba\n",
    "\n",
    "import bloomfilter\n",
    "import bloque\n",
    "import cce\n",
    "import ayudante\n",
    "import bloquemerkle\n",
    "import network\n",
    "import script\n",
    "import tx"
   ]
  },
  {
   "cell_type": "code",
   "contador_ejecución": 2,
   "metadata": {},
   "outputs": [
    {
     "name": "stdout",
     "output_type": "stream",
     "text": [
      "[0, 0, 0, 0, 0, 0, 0, 0, 0, 1]\n"
     ]
    }
   ],
   "source": [
    "# Ejemplo de Bloom Filter\n",
    "\n",
    "from ayudante import doble_sha256\n",
    "\n",
    "tamaño_campo_bit = 10\n",
    "campo_bit = [0] * tamaño_campo_bit\n",
    "\n",
    "h = doble_sha256(b'hello world')\n",
    "bit = int.from_bytes(h, 'big') % tamaño_campo_bit\n",
    "campo_bit[bit] = 1\n",
    "print(campo_bit)"
   ]
  },
  {
   "cell_type": "code",
   "contador_ejecución": 3,
   "metadata": {},
   "outputs": [
    {
     "name": "stdout",
     "output_type": "stream",
     "text": [
      "[0, 0, 1, 0, 0, 0, 0, 0, 0, 1]\n"
     ]
    }
   ],
   "source": [
    "# Ejemplo de Bloom Filter 2\n",
    "\n",
    "from ayudante import doble_sha256\n",
    "\n",
    "tamaño_campo_bit = 10\n",
    "campo_bit = [0] * tamaño_campo_bit\n",
    "\n",
    "h = doble_sha256(b'hello world')\n",
    "bit = int.from_bytes(h, 'big') % tamaño_campo_bit\n",
    "campo_bit[bit] = 1\n",
    "h = doble_sha256(b'goodbye')\n",
    "bit = int.from_bytes(h, 'big') % tamaño_campo_bit\n",
    "campo_bit[bit] = 1\n",
    "print(campo_bit)"
   ]
  },
  {
   "cell_type": "code",
   "contador_ejecución": 4,
   "metadata": {},
   "outputs": [
    {
     "name": "stdout",
     "output_type": "stream",
     "text": [
      "[1, 1, 1, 0, 0, 0, 0, 0, 0, 1]\n"
     ]
    }
   ],
   "source": [
    "# Ejemplo Bloom Filter 3\n",
    "\n",
    "from ayudante import doble_sha256, hash160\n",
    "\n",
    "tamaño_campo_bit = 10\n",
    "campo_bit = [0] * tamaño_campo_bit\n",
    "\n",
    "frase1 = b'hello world'\n",
    "h1 = doble_sha256(frase1)\n",
    "bit1 = int.from_bytes(h1, 'big') % tamaño_campo_bit\n",
    "campo_bit[bit1] = 1\n",
    "h2 = hash160(frase1)\n",
    "bit2 = int.from_bytes(h2, 'big') % tamaño_campo_bit\n",
    "campo_bit[bit2] = 1\n",
    "frase2 = b'goodbye'\n",
    "h1 = doble_sha256(frase2)\n",
    "bit1 = int.from_bytes(h1, 'big') % tamaño_campo_bit\n",
    "campo_bit[bit1] = 1\n",
    "h2 = hash160(frase2)\n",
    "bit2 = int.from_bytes(h2, 'big') % tamaño_campo_bit\n",
    "campo_bit[bit2] = 1\n",
    "print(campo_bit)"
   ]
  },
  {
   "cell_type": "code",
   "contador_ejecución": 5,
   "metadata": {},
   "outputs": [
    {
     "name": "stdout",
     "output_type": "stream",
     "text": [
      "[0, 0, 0, 0, 0, 1, 1, 0, 0, 1, 1, 0, 0, 0, 0, 0]\n"
     ]
    }
   ],
   "source": [
    "# Ejemplo BIP0037 Bloom Filter\n",
    "\n",
    "from ayudante import murmur3\n",
    "from bloomfilter import CONSTANTE_BIP37\n",
    "\n",
    "tamaño_campo = 2\n",
    "num_funciones = 2\n",
    "ajuste = 42\n",
    "\n",
    "tamaño_campo_bit = tamaño_campo * 8\n",
    "campo_bit = [0] * tamaño_campo_bit\n",
    "\n",
    "for frase in (b'hello world', b'goodbye'):\n",
    "    for i in range(num_funciones):\n",
    "        semilla = i * CONSTANTE_BIP37 + ajuste\n",
    "        h = murmur3(frase, semilla=semilla)\n",
    "        bit = h % tamaño_campo_bit\n",
    "        campo_bit[bit] = 1\n",
    "print(campo_bit)"
   ]
  },
  {
   "cell_type": "markdown",
   "metadata": {},
   "source": [
    "### Ejercicio 1\n",
    "\n",
    "#### 1.1 Dado un Bloom Filter con estos parámetros: tamaño=10, función contador=5, ajuste=99, qué bits tenemos tras añadir estas cosas? \n",
    "\n",
    " * `b'Hello World'`\n",
    " * `b'Goodbye!'`\n",
    "\n",
    "#### 1.2. Haz que pase [esta prueba](/edit/sesión8/bloomfilter.py)"
   ]
  },
  {
   "cell_type": "code",
   "contador_ejecución": 6,
   "metadata": {},
   "outputs": [
    {
     "name": "stdout",
     "output_type": "stream",
     "text": [
      "4000600a080000010940\n"
     ]
    }
   ],
   "source": [
    "# Ejercicio 1.1\n",
    "from bloomfilter import BloomFilter, CONSTANTE_BIP37\n",
    "from ayudante import campo_bit_a_bytes, murmur3\n",
    "\n",
    "tamaño_campo = 10\n",
    "función_contador = 5\n",
    "ajuste = 99\n",
    "cosas = (b'Hello World',  b'Goodbye!')\n",
    "\n",
    "# tamaño_campo_bit is 8 * tamaño_campo\n",
    "tamaño_campo_bit = tamaño_campo * 8\n",
    "# crea un campo bit con el tamaño apropiado\n",
    "campo_bit = [0] * tamaño_campo_bit\n",
    "\n",
    "# para cada cosa deberás añadir el filtro\n",
    "for cosa in cosas:\n",
    "    # itera tantas veces como valga función_contador\n",
    "    for i in range(función_contador):\n",
    "        # La semilla BIP0037 spec es i*CONSTANTE_BIP37 + ajuste\n",
    "        semilla = i * CONSTANTE_BIP37 + ajuste\n",
    "        # obtén el hash murmur3 dada esa semilla\n",
    "        h = murmur3(cosa, semilla=semilla)\n",
    "        # establece el bit para ser h módulo el tamaño_campo_bit\n",
    "        bit = h % tamaño_campo_bit\n",
    "        # establece el campo_bit en el bit index para ser 1\n",
    "        campo_bit[bit] = 1\n",
    "# imprime el campo bit convertido a bytes usando campo_bit_a_bytes en hex\n",
    "print(campo_bit_a_bytes(campo_bit).hex())"
   ]
  },
  {
   "cell_type": "code",
   "contador_ejecución": 7,
   "metadata": {},
   "outputs": [
    {
     "name": "stderr",
     "output_type": "stream",
     "text": [
      ".\n",
      "----------------------------------------------------------------------\n",
      "Prueba ejecutada en 0.001s\n",
      "\n",
      "OK\n"
     ]
    }
   ],
   "source": [
    "# Ejercicio 1.2\n",
    "\n",
    "reload(bloomfilter)\n",
    "ejecutar_prueba(bloomfilter.BloomFilterTest('prueba_sumar'))"
   ]
  },
  {
   "cell_type": "markdown",
   "metadata": {},
   "source": [
    "### Ejercicio 2\n",
    "\n",
    "#### 2.1. Haz que pase [esta prueba](/edit/sesión8/bloomfilter.py)\n",
    "\n",
    "#### 2.2. Haz lo siguiente:\n",
    "\n",
    "* Conéctate a un nodo testnet\n",
    "* Carga un filtro para tu dirección testnet\n",
    "* Envía una solicitud para transacciones desde el bloque que tenía tu transacción testnet previa\n",
    "* Recibe el bloquemerkle y mensajes tx."
   ]
  },
  {
   "cell_type": "code",
   "contador_ejecución": 8,
   "metadata": {},
   "outputs": [
    {
     "name": "stderr",
     "output_type": "stream",
     "text": [
      ".\n",
      "----------------------------------------------------------------------\n",
      "Prueba ejecutada en 0.001s\n",
      "\n",
      "OK\n"
     ]
    }
   ],
   "source": [
    "# Ejercicio 2.1\n",
    "\n",
    "reload(bloomfilter)\n",
    "ejecutar_prueba(bloomfilter.BloomFilterTest('prueba_filtrocarga'))"
   ]
  },
  {
   "cell_type": "code",
   "contador_ejecución": 9,
   "metadata": {},
   "outputs": [
    {
     "name": "stdout",
     "output_type": "stream",
     "text": [
      "mqYz6JpuKukHzPg94y4XNDdPCEJrNkLQcv\n",
      "enviando: version: 7f11010000000000000000000dc0bf5b00000000000000000000000000000000000000000000ffff000000008d20000000000000000000000000000000000000ffff000000008d208d07ece835fe28291b2f70726f6772616d6d696e67626c6f636b636861696e3a302e312f0000000001\n",
      "recibiendo: version: 7f1101000d040000000000000ec0bf5b00000000000000000000000000000000000000000000ffff4830fd33cf700d04000000000000000000000000000000000000000000000000f555f8496387e698102f5361746f7368693a302e31372e302f79e9150001\n",
      "enviando: verack: \n",
      "recibiendo: verack: \n",
      "enviando: filterload: 1e000000000000008800000002000000000000000000200000000100000000050000006260010001\n",
      "enviando: obtenerdatos: 0103000000f94f9dbeb59aaf899130199372baf9b223c052624386e916fd01000000000000\n",
      "recibiendo: sendheaders: \n",
      "recibiendo: sendcmpct: 000200000000000000\n",
      "recibiendo: sendcmpct: 000100000000000000\n",
      "recibiendo: ping: 48215b048bb8daf4\n",
      "enviando: pong: 48215b048bb8daf4\n",
      "recibiendo: dire: 010ec0bf5b0d0400000000000000000000000000000000ffffa2d49eac479d\n",
      "recibiendo: comisiónfilter: e803000000000000\n",
      "recibiendo: bloquemerkle: 000000209a15e96aba5be083882794afdf0ac713ddc3b8476b9929858e0b00000000000067e3904c263490a6c04cfb852849e7572a167e4c94eaa5edd80e62500e92651776babf5bf0ff0f1a17704058070000000429ee37c882a4aaef18bf55b4842139f4b26b6f38c7b543ad49a8f58eb33b436e5899e696093b685f5426932df3393683b4d18892dc2aedd4a9273512eef83244ccbe518d11e77a1cb65b57ec0dc291e0749d60956b092eee9ad06e281c936b814aec3d1ad72ffdf43e42d08c0e0efab2bfd74ba5fcomisión1d45ca47c73bde6febe4011d\n",
      "bloquemerkle: 000000209a15e96aba5be083882794afdf0ac713ddc3b8476b9929858e0b00000000000067e3904c263490a6c04cfb852849e7572a167e4c94eaa5edd80e62500e92651776babf5bf0ff0f1a17704058070000000429ee37c882a4aaef18bf55b4842139f4b26b6f38c7b543ad49a8f58eb33b436e5899e696093b685f5426932df3393683b4d18892dc2aedd4a9273512eef83244ccbe518d11e77a1cb65b57ec0dc291e0749d60956b092eee9ad06e281c936b814aec3d1ad72ffdf43e42d08c0e0efab2bfd74ba5fcomisión1d45ca47c73bde6febe4011d\n",
      "recibiendo: tx: 02000000017556362f68c62760de4bb3d89cecfd1a8dcd0cf84d5eb12716120f6eb91b87c001000000171600140b93f828f96efe70b85006b51a6874c562d0cd73feffffff023b8d23e10300000017a91461cd953151a023c0746a57dacef36a35b06dc5ae87207e7500000000001976a9146e13971913b9aa89659a9f53d327baa8826f2d7588ac6fe91500\n",
      "tx: 02000000017556362f68c62760de4bb3d89cecfd1a8dcd0cf84d5eb12716120f6eb91b87c001000000171600140b93f828f96efe70b85006b51a6874c562d0cd73feffffff023b8d23e10300000017a91461cd953151a023c0746a57dacef36a35b06dc5ae87207e7500000000001976a9146e13971913b9aa89659a9f53d327baa8826f2d7588ac6fe91500\n"
     ]
    }
   ],
   "source": [
    "# Ejercicio 2.2\n",
    "\n",
    "from bloomfilter import BloomFilter\n",
    "from cce import ClavePrivada\n",
    "from ayudante import decodificar_base58, doble_sha256, little_endian_a_int\n",
    "from bloquemerkle import BloqueMerkle\n",
    "from network import (\n",
    "    TIPO_DATOS_BLOQUE_FILTRADO, \n",
    "    ObtenerMensajeDatos,\n",
    "    NodoSimple,\n",
    ")\n",
    "\n",
    "hash_bloque = bytes.fromhex('00000000000001fd16e986436252c023b2f9ba729319309189af9ab5be9d4ff9')\n",
    "contraseña = b'jimmy@programmingbloquechain.com secret passphrase'  # RELLENA ESTO\n",
    "secreto = little_endian_a_int(doble_sha256(contraseña))\n",
    "clave_privada = ClavePrivada(secreto=secreto)\n",
    "dire = clave_privada.punto.dire(testnet=True)\n",
    "print(dire)\n",
    "tamaño_filtro = 30\n",
    "num_funciones_filtro = 5\n",
    "ajuste_filtro = 90210  # RELLENA ESTO\n",
    "\n",
    "# obtén el hash160 de la dirección, que es lo que necesitamos añadir a nuestro filtro\n",
    "h160 = decodificar_base58(dire)\n",
    "# crear un filtro bloom de tamaño 30 y 5 funciones. Añade el ajuste que quieras\n",
    "bf = BloomFilter(tamaño_filtro, num_funciones_filtro, ajuste_filtro)\n",
    "# añade el h160 al filtro bloom\n",
    "bf.add(h160)\n",
    "\n",
    "# conéctate a tbtc.programmingbloquechain.com en modo testnet, logging True\n",
    "node = NodoSimple('tbtc.programmingbloquechain.com', testnet=True, logging=True)\n",
    "# completa el handshake\n",
    "node.handshake()\n",
    "# carga el filtro bloom con el comando filtrocarga\n",
    "node.send(b'filterload', bf.filterload())\n",
    "# crea un mensaje obtenerdatos\n",
    "obtenerdatos = ObtenerMensajeDatos()\n",
    "# añade un TIPO_DATOS_BLOQUE_FILTRADO para el hash de bloque arriba\n",
    "obtenerdatos.agregar_datos(TIPO_DATOS_BLOQUE_FILTRADO, hash_bloque)\n",
    "# enviar un mensaje obtener datos para un TIPO_DATOS_BLOQUE_FILTRADO\n",
    "node.send(obtenerdatos.comando, obtenerdatos.serializar())\n",
    "# espera por el comando bloquemerkle\n",
    "envelope = node.esperar_comandos([b'bloquemerkle'])\n",
    "print(envelope)\n",
    "# esperar por el comando tx\n",
    "envelope = node.esperar_comandos([b'tx'])\n",
    "print(envelope)"
   ]
  },
  {
   "cell_type": "markdown",
   "metadata": {},
   "source": [
    "### Ejercicio 3\n",
    "\n",
    "#### 3.1. Haz que pase [esta prueba](/edit/sesión8/bloquemerkle.py)"
   ]
  },
  {
   "cell_type": "code",
   "contador_ejecución": 10,
   "metadata": {},
   "outputs": [
    {
     "name": "stderr",
     "output_type": "stream",
     "text": [
      ".\n",
      "----------------------------------------------------------------------\n",
      "Prueba ejecutada en 0.003s\n",
      "\n",
      "OK\n"
     ]
    }
   ],
   "source": [
    "# Ejercicio 3.1\n",
    "\n",
    "reload(bloquemerkle)\n",
    "ejecutar_prueba(bloquemerkle.PruebaBloqueMerkle('prueba_es_válida'))"
   ]
  },
  {
   "cell_type": "markdown",
   "metadata": {},
   "source": [
    "### Ejercicio 4\n",
    "\n",
    "#### 4.1. Se te han enviado una cantidad indeterminada de bitcoins testnet a tu dirección\n",
    "\n",
    "Envíalos todos de vuelta (menos comisiones) a `mwJn1YPMq7y5F8J3LkC5Hxg9PHyZ5K4cFv` usando solo el protocolo de red"
   ]
  },
  {
   "cell_type": "code",
   "contador_ejecución": 12,
   "metadata": {},
   "outputs": [
    {
     "name": "stdout",
     "output_type": "stream",
     "text": [
      "mqYz6JpuKukHzPg94y4XNDdPCEJrNkLQcv\n",
      "enviando: version: 7f110100000000000000000018c0bf5b00000000000000000000000000000000000000000000ffff000000008d20000000000000000000000000000000000000ffff000000008d20c728f0203ebb2bd31b2f70726f6772616d6d696e67626c6f636b636861696e3a302e312f0000000001\n",
      "recibiendo: version: 7f1101000d0400000000000019c0bf5b00000000000000000000000000000000000000000000ffff4830fd33cf800d04000000000000000000000000000000000000000000000000177d83cab5388f1e102f5361746f7368693a302e31372e302f79e9150001\n",
      "enviando: verack: \n",
      "recibiendo: verack: \n",
      "enviando: filterload: 1e000000000000008800000002000000000000000000200000000100000000050000006260010001\n",
      "enviando: getheaders: 7f110100019a15e96aba5be083882794afdf0ac713ddc3b8476b9929858e0b0000000000000000000000000000000000000000000000000000000000000000000000000000\n",
      "recibiendo: sendheaders: \n",
      "recibiendo: sendcmpct: 000200000000000000\n",
      "recibiendo: sendcmpct: 000100000000000000\n",
      "recibiendo: ping: efcaa67263a33e3a\n",
      "enviando: pong: efcaa67263a33e3a\n",
      "recibiendo: address: 0119c0bf5b0d0400000000000000000000000000000000ffffa2d49eac479d\n",
      "recibiendo: comisiónfilter: e803000000000000\n",
      "recibiendo: headers: 09000000209a15e96aba5be083882794afdf0ac713ddc3b8476b9929858e0b00000000000067e3904c263490a6c04cfb852849e7572a167e4c94eaa5edd80e62500e92651776babf5bf0ff0f1a177040580000e0ff3ff94f9dbeb59aaf899130199372baf9b223c052624386e916fd01000000000000730f79408529937a29752cba8f90f5380dae9d350f62cf9e813858ae8c43f1dc8ababf5bf0ff0f1aa97e6cea0000000020596b51e62d304cd938c4ee00aa32a70202608a50f73c076cc00b00000000000019acde278fa6337932938fcf0178316ad384d525111f9a1e22c23caf6bf4cc6cc0bcbf5bf0ff0f1ac67213950000e000203cf93d0183ec3b9f235129fa867fa56ef94cedda3c0a68b1cf01000000000000520015ffd6be3518a8a6e3d50aaf27b8e7f31a738569ddbfb4a6d143d6989caaeebdbf5bf0ff0f1ad9fe54840000000020056d03fab8de200baa4e058e473c71568fe0c7f53473d2c4d70f0000000000004d3bfe1992410286d769ca033b8f166e8c5a1ddb111fe688ca256bdf2793c76578bebf5bf0ff0f1a7ed0de8d00000000201b0e96bc8d475745912e46e461282b3106f543f46b31afc1ca0d000000000000058c7bf15c4b1b400197ece71fae10c0f1485926167044c244c6197afbca82e482bebf5bf0ff0f1a418da9330000000020a94ffe354ee189bf4edd47faa215d3c73e7c1cbef557c710cf06000000000000d381e4320b118ac3698bf880f9b475efaef987bbadb6031c1af375e53a102beaa5bfbf5bf0ff0f1a1261e69100000000201c263b55eaf289ac6e6cfda37b642ca69ae1312343613c0f350a000000000000c1687c882dc78d826aaf5f14f41450e81db113534991da7a47d7173352a235b8babfbf5bf0ff0f1aff2f11cb00000000206c24a6e05eec7b65a2fbe2efdf736ee0c0171f177bcca62fb1060000000000008790f57549ab87aaf22b2e5be02a211e57d441c3079c127aadf5cf6827b24888b8bfbf5bf0ff0f1a72e470a600\n",
      "enviando: obtenerdatos: 0903000000f94f9dbeb59aaf899130199372baf9b223c052624386e916fd0100000000000003000000596b51e62d304cd938c4ee00aa32a70202608a50f73c076cc00b000000000000030000003cf93d0183ec3b9f235129fa867fa56ef94cedda3c0a68b1cf0100000000000003000000056d03fab8de200baa4e058e473c71568fe0c7f53473d2c4d70f000000000000030000001b0e96bc8d475745912e46e461282b3106f543f46b31afc1ca0d00000000000003000000a94ffe354ee189bf4edd47faa215d3c73e7c1cbef557c710cf06000000000000030000001c263b55eaf289ac6e6cfda37b642ca69ae1312343613c0f350a000000000000030000006c24a6e05eec7b65a2fbe2efdf736ee0c0171f177bcca62fb106000000000000030000009eede06a7f74d5cb22a4b7193d7c7ec0070d1c08756d8d839105000000000000\n",
      "recibiendo: bloquemerkle: 000000209a15e96aba5be083882794afdf0ac713ddc3b8476b9929858e0b00000000000067e3904c263490a6c04cfb852849e7572a167e4c94eaa5edd80e62500e92651776babf5bf0ff0f1a17704058070000000429ee37c882a4aaef18bf55b4842139f4b26b6f38c7b543ad49a8f58eb33b436e5899e696093b685f5426932df3393683b4d18892dc2aedd4a9273512eef83244ccbe518d11e77a1cb65b57ec0dc291e0749d60956b092eee9ad06e281c936b814aec3d1ad72ffdf43e42d08c0e0efab2bfd74ba5fcomisión1d45ca47c73bde6febe4011d\n",
      "recibiendo: tx: 02000000017556362f68c62760de4bb3d89cecfd1a8dcd0cf84d5eb12716120f6eb91b87c001000000171600140b93f828f96efe70b85006b51a6874c562d0cd73feffffff023b8d23e10300000017a91461cd953151a023c0746a57dacef36a35b06dc5ae87207e7500000000001976a9146e13971913b9aa89659a9f53d327baa8826f2d7588ac6fe91500\n",
      "16662105403:OP_HASH160 61cd953151a023c0746a57dacef36a35b06dc5ae OP_EQUAL \n",
      "7700000:OP_DUP OP_HASH160 6e13971913b9aa89659a9f53d327baa8826f2d75 OP_EQUALVERIFY OP_CHECKSIG \n",
      "01000000015899e696093b685f5426932df3393683b4d18892dc2aedd4a9273512eef83244010000006b4830450221008deea10e0e58d69eb784c441c76f560d0a1c9679c6d236b548028b3a3053f398022073dc088f18df4ee9613a7a3e36a214d1f0a8ca4e2f0c055db0c5b6ebe53970800121031dbe3aff7b9ad64e2612b8b15e9f5e4a3130663a526df91abfb7b1bd16de5d6effffffff01986a7500000000001976a914ad346f8eb57dee9a37981716e498120ae80e44f788ac00000000\n",
      "enviando: tx: 01000000015899e696093b685f5426932df3393683b4d18892dc2aedd4a9273512eef83244010000006b4830450221008deea10e0e58d69eb784c441c76f560d0a1c9679c6d236b548028b3a3053f398022073dc088f18df4ee9613a7a3e36a214d1f0a8ca4e2f0c055db0c5b6ebe53970800121031dbe3aff7b9ad64e2612b8b15e9f5e4a3130663a526df91abfb7b1bd16de5d6effffffff01986a7500000000001976a914ad346f8eb57dee9a37981716e498120ae80e44f788ac00000000\n",
      "enviando: obtenerdatos: 01010000003ac4f66eda84d80aebc61507a393923029647618b434ac502994c2f91c99fd87\n",
      "recibiendo: bloquemerkle: 00e0ff3ff94f9dbeb59aaf899130199372baf9b223c052624386e916fd01000000000000730f79408529937a29752cba8f90f5380dae9d350f62cf9e813858ae8c43f1dc8ababf5bf0ff0f1aa97e6cea0200000001730f79408529937a29752cba8f90f5380dae9d350f62cf9e813858ae8c43f1dc0100\n",
      "recibiendo: bloquemerkle: 00000020596b51e62d304cd938c4ee00aa32a70202608a50f73c076cc00b00000000000019acde278fa6337932938fcf0178316ad384d525111f9a1e22c23caf6bf4cc6cc0bcbf5bf0ff0f1ac67213951c0000000119acde278fa6337932938fcf0178316ad384d525111f9a1e22c23caf6bf4cc6c0100\n",
      "recibiendo: bloquemerkle: 00e000203cf93d0183ec3b9f235129fa867fa56ef94cedda3c0a68b1cf01000000000000520015ffd6be3518a8a6e3d50aaf27b8e7f31a738569ddbfb4a6d143d6989caaeebdbf5bf0ff0f1ad9fe54840e00000001520015ffd6be3518a8a6e3d50aaf27b8e7f31a738569ddbfb4a6d143d6989caa0100\n",
      "recibiendo: bloquemerkle: 00000020056d03fab8de200baa4e058e473c71568fe0c7f53473d2c4d70f0000000000004d3bfe1992410286d769ca033b8f166e8c5a1ddb111fe688ca256bdf2793c76578bebf5bf0ff0f1a7ed0de8d08000000014d3bfe1992410286d769ca033b8f166e8c5a1ddb111fe688ca256bdf2793c7650100\n",
      "recibiendo: bloquemerkle: 000000201b0e96bc8d475745912e46e461282b3106f543f46b31afc1ca0d000000000000058c7bf15c4b1b400197ece71fae10c0f1485926167044c244c6197afbca82e482bebf5bf0ff0f1a418da9330200000001058c7bf15c4b1b400197ece71fae10c0f1485926167044c244c6197afbca82e40100\n",
      "recibiendo: bloquemerkle: 00000020a94ffe354ee189bf4edd47faa215d3c73e7c1cbef557c710cf06000000000000d381e4320b118ac3698bf880f9b475efaef987bbadb6031c1af375e53a102beaa5bfbf5bf0ff0f1a1261e6910900000001d381e4320b118ac3698bf880f9b475efaef987bbadb6031c1af375e53a102bea0100\n",
      "recibiendo: bloquemerkle: 000000201c263b55eaf289ac6e6cfda37b642ca69ae1312343613c0f350a000000000000c1687c882dc78d826aaf5f14f41450e81db113534991da7a47d7173352a235b8babfbf5bf0ff0f1aff2f11cb0100000001c1687c882dc78d826aaf5f14f41450e81db113534991da7a47d7173352a235b80100\n",
      "recibiendo: bloquemerkle: 000000206c24a6e05eec7b65a2fbe2efdf736ee0c0171f177bcca62fb1060000000000008790f57549ab87aaf22b2e5be02a211e57d441c3079c127aadf5cf6827b24888b8bfbf5bf0ff0f1a72e470a601000000018790f57549ab87aaf22b2e5be02a211e57d441c3079c127aadf5cf6827b248880100\n",
      "recibiendo: tx: 01000000015899e696093b685f5426932df3393683b4d18892dc2aedd4a9273512eef83244010000006b4830450221008deea10e0e58d69eb784c441c76f560d0a1c9679c6d236b548028b3a3053f398022073dc088f18df4ee9613a7a3e36a214d1f0a8ca4e2f0c055db0c5b6ebe53970800121031dbe3aff7b9ad64e2612b8b15e9f5e4a3130663a526df91abfb7b1bd16de5d6effffffff01986a7500000000001976a914ad346f8eb57dee9a37981716e498120ae80e44f788ac00000000\n",
      "01000000015899e696093b685f5426932df3393683b4d18892dc2aedd4a9273512eef83244010000006b4830450221008deea10e0e58d69eb784c441c76f560d0a1c9679c6d236b548028b3a3053f398022073dc088f18df4ee9613a7a3e36a214d1f0a8ca4e2f0c055db0c5b6ebe53970800121031dbe3aff7b9ad64e2612b8b15e9f5e4a3130663a526df91abfb7b1bd16de5d6effffffff01986a7500000000001976a914ad346f8eb57dee9a37981716e498120ae80e44f788ac00000000\n",
      "87fd991cf9c2942950ac34b418766429309293a30715c6eb0ad884da6ef6c43a\n"
     ]
    }
   ],
   "source": [
    "# Ejercicio 4.1\n",
    "\n",
    "import time\n",
    "\n",
    "from bloque import Block\n",
    "from bloomfilter import BloomFilter\n",
    "from cce import ClavePrivada\n",
    "from ayudante import (\n",
    "    decodificar_base58,\n",
    "    doble_sha256,\n",
    "    codificar_varint,\n",
    "    little_endian_a_int, \n",
    "    read_varint,\n",
    "    SIGHASH_ALL,\n",
    ")\n",
    "from bloquemerkle import BloqueMerkle\n",
    "from network import (\n",
    "    ObtenerMensajeDatos,\n",
    "    ObtenerMensajeCabeceras,\n",
    "    MensajeCabeceras,\n",
    "    NetworkEnvelope,\n",
    "    NodoSimple,\n",
    "    TIPO_DATOS_TX,\n",
    "    TIPO_DATOS_BLOQUE_FILTRADO,\n",
    ")\n",
    "from script import script_p2pkh\n",
    "from tx import Tx, TxIn, TxOut\n",
    "\n",
    "hex_último_bloque = '0000000000000b8e8529996b47b8c3dd13c70adfaf94278883e05bba6ae9159a'\n",
    "contraseña = b'jimmy@programmingbloquechain.com secreto passphrase'  # RELLENA ESTO\n",
    "secreto = little_endian_a_int(doble_sha256(contraseña))\n",
    "clave_privada = ClavePrivada(secreto=secreto)\n",
    "dire = clave_privada.punto.dire(testnet=True)\n",
    "print(dire)\n",
    "tamaño_filtro = 30\n",
    "num_funciones_filtro = 5\n",
    "ajuste_filtro = 90210  # RELLENA ESTO\n",
    "\n",
    "dirección_destino = 'mwJn1YPMq7y5F8J3LkC5Hxg9PHyZ5K4cFv'\n",
    "target_h160 = decodificar_base58(dirección_destino)\n",
    "script_destino = script_p2pkh(target_h160)\n",
    "comisión = 5000  # comisión en satoshis\n",
    "\n",
    "# obtén el hash160 de la dirección, que es lo que necesitamos añadir a nuestro filtro\n",
    "h160 = decodificar_base58(dire)\n",
    "# crea un bloom filter de tamaño 30 y 5 funciones. Añade el ajuste que quieras\n",
    "bf = BloomFilter(tamaño_filtro, num_funciones_filtro, ajuste_filtro)\n",
    "# añade el h160 al filtro bloom\n",
    "bf.add(h160)\n",
    "\n",
    "# conéctate a tbtc.programmingbloquechain.com en modo testnet, logging True\n",
    "node = NodoSimple('tbtc.programmingbloquechain.com', testnet=True, logging=True)\n",
    "# completa el handshake\n",
    "node.handshake()\n",
    "# carga el filtro bloom con el comando filterload\n",
    "node.send(b'filterload', bf.filterload())\n",
    "\n",
    "# establece bloque_inicial a bloque_final desde arriba\n",
    "bloque_inicial = bytes.fromhex(hex_último_bloque)\n",
    "# crea ObtenerMensajeCabeceras con este bloque inicial\n",
    "ghm = ObtenerMensajeCabeceras(bloque_inicial=bloque_inicial)\n",
    "# enviar un mensaje obtenercabeceras con el bloque_inicial\n",
    "node.send(ghm.comando, ghm.serializar())\n",
    "\n",
    "# esperar por el mensaje cabeceras\n",
    "envelope = node.esperar_comandos([MensajeCabeceras.comando])\n",
    "\n",
    "# obtén el stream desde las cabeceras\n",
    "s = envelope.stream()\n",
    "# parsea el mensaje de cabeceras\n",
    "mensaje_cabeceras = MensajeCabeceras.parsear(s)\n",
    "# guarda el último bloque como None\n",
    "último_bloque = None\n",
    "# inicializa ObtenerMensajeDatos\n",
    "obtenerdatos = ObtenerMensajeDatos()\n",
    "# haz un bucle a través de los bloques en las cabeceras\n",
    "for bloque in mensaje_cabeceras.bloques:\n",
    "    # comprueba que la prueba de trabajo en el bloque sea válida\n",
    "    if not bloque.comprobar_pow():\n",
    "        raise RuntimeError\n",
    "    # comprueba que el bloque_previo de este bloque sea el último bloque\n",
    "    if último_bloque is not None and bloque.bloque_previo != último_bloque:\n",
    "        raise RuntimeError\n",
    "    # agrega TIPO_DATOS_BLOQUE_FILTRADO bloque.hash() a ObtenerMensajeDatos\n",
    "    obtenerdatos.agregar_datos(TIPO_DATOS_BLOQUE_FILTRADO, bloque.hash())\n",
    "    # establece el último bloque al hash actual\n",
    "    último_bloque = bloque.hash()\n",
    "# envía el mensaje obtenerdatos\n",
    "node.send(obtenerdatos.comando, obtenerdatos.serializar())\n",
    "\n",
    "# inicializa tx_previa e índice_previo a None\n",
    "tx_previa, índice_previo = None, None\n",
    "# inicializa cantidad_previa a None\n",
    "cantidad_previa = None\n",
    "# while tx_previa is None \n",
    "while tx_previa is None:\n",
    "    # espera por el bloquemerkle o por los comandos tx\n",
    "    envelope = node.esperar_comandos([b'tx', b'bloquemerkle'])\n",
    "    # inicializa el stream desde el envelope\n",
    "    s = envelope.stream()\n",
    "    # si tenemos el comando bloquemerkle\n",
    "    if envelope.comando == b'bloquemerkle':\n",
    "        # parsea el BloqueMerkle\n",
    "        mb = BloqueMerkle.parsear(s)\n",
    "        # comprueba que el BloqueMerkle es válido\n",
    "        if not mb.es_válido():\n",
    "            raise RuntimeError\n",
    "    # en caso contrario tenemos un comando tx\n",
    "    else:\n",
    "        # parsea la tx\n",
    "        t = Tx.parsear(s)\n",
    "        # haz un bucle a través de los tx outs enumerados (enumerate(t.tx_outs))\n",
    "        for i, tx_out in enumerate(t.tx_outs):\n",
    "            print(tx_out)\n",
    "            # si nuestro output tiene la misma dirección que la nuestra (dire), lo hemos encontrado\n",
    "            if tx_out.script_pubkey.direess(testnet=True) == dire:\n",
    "                # hemos encontrado nuestra utxo. establece tx_previa, índice_previo, cantidad_previa\n",
    "                tx_previa = t.hash()\n",
    "                índice_previo = i\n",
    "                cantidad_previa = tx_out.cantidad\n",
    "                # establece el cache para queno tengamos que mirar la tx en un block explorer\n",
    "                # Use: TxIn.set_cache(tx_previa, t.serializar())\n",
    "                TxIn.set_cache(tx_previa, t.serializar())\n",
    "# crea tx_in\n",
    "tx_in = TxIn(tx_previa, i, b'', 0xffffffff)\n",
    "# calcula la cantidad output (cantidad_previa - comisión)\n",
    "output_cantidad = cantidad_previa - comisión\n",
    "# crea una nueva TxOut a script_destino.serializar() con el output cantidad\n",
    "tx_out = TxOut(output_cantidad, script_destino)\n",
    "# crea una nueva transacción (testnet=True)\n",
    "t = Tx(1, [tx_in], [tx_out], 0, testnet=True)\n",
    "# firma la transacción en input 0 con tu clave privada y SIGHASH_ALL\n",
    "t.firmar_input(0, clave_privada, SIGHASH_ALL)\n",
    "# serializar y hex para ver a qué se parece\n",
    "print(t.serializar().hex())\n",
    "# envía esta transacción firmada a la red\n",
    "node.send(b'tx', t.serializar())\n",
    "# espera un segundo para que este mensaje pase al otro nodo time.sleep(1) \n",
    "time.sleep(1)\n",
    "# ahora pregunta por esta transacción al otro nodo\n",
    "# crea un ObtenerMensajeDatos\n",
    "obtenerdatos = ObtenerMensajeDatos()\n",
    "# pregunta por nuestra transacción añadiendo su hash y TX_DATATYPE al mensaje\n",
    "obtenerdatos.agregar_datos(TIPO_DATOS_TX, t.hash())\n",
    "# envía el mensaje\n",
    "node.send(obtenerdatos.comando, obtenerdatos.serializar())\n",
    "# ahora espera a una respuesta\n",
    "envelope = node.esperar_comandos({b'tx', b'reject'})\n",
    "if envelope.comando == b'tx':\n",
    "    print(envelope.carga.hex())\n",
    "    print(t.hash().hex())\n",
    "else:\n",
    "    print(envelope.carga)"
   ]
  }
 ],
 "metadata": {
  "kernelspec": {
   "display_name": "Python 3",
   "language": "python",
   "name": "python3"
  },
  "language_info": {
   "codemirror_mode": {
    "name": "ipython",
    "version": 3
   },
   "file_extension": ".py",
   "mimetype": "text/x-python",
   "name": "python",
   "nbconvert_exporter": "python",
   "pygments_lexer": "ipython3",
   "version": "3.6.5"
  }
 },
 "nbformat": 4,
 "nbformat_minor": 2
}
