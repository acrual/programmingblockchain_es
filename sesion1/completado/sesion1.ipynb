{
 "cells": [
  {
   "cell_type": "code",
   "execution_count": 1,
   "metadata": {},
   "outputs": [],
   "source": [
    "# importa todo y define una función de ejecución de pruebas\n",
    "from importlib import reload\n",
    "from ayudante import ejecutar_prueba\n",
    "\n",
    "import cce\n",
    "import ayudante"
   ]
  },
  {
   "cell_type": "code",
   "execution_count": 2,
   "metadata": {},
   "outputs": [
    {
     "name": "stdout",
     "output_type": "stream",
     "text": [
      "17\n",
      "6\n",
      "3\n",
      "11\n"
     ]
    }
   ],
   "source": [
    "# Ejemplo de Suma/Resta\n",
    "\n",
    "print((11 + 6) % 19)\n",
    "print((17 - 11) % 19)\n",
    "print((8 + 14) % 19)\n",
    "print((4 - 12) % 19)"
   ]
  },
  {
   "cell_type": "markdown",
   "metadata": {},
   "source": [
    "### Ejercicio 1\n",
    "\n",
    "Recuerda que el operador % hace la operación módulo. Recuerda también que `+` y `-` necesitan estar en `()` porque en el orden de las operaciones `%` viene antes de `+` y `-`.\n",
    "\n",
    "#### 1.1. Resuelve estas ecuaciones en \\\\(F_{31}\\\\):\n",
    "\n",
    "* \\\\(2+15=?\\\\)\n",
    "* \\\\(17+21=?\\\\)\n",
    "* \\\\(29-4=?\\\\)\n",
    "* \\\\(15-30=?\\\\)\n",
    "\n",
    "#### 1.2. Haz que pasen [estas pruebas](/edit/sesión1/cce.py)\n",
    "```\n",
    "cce.py:PruebaElementoCampo:prueba_sumar\n",
    "cce.py:PruebaElementoCampo:prueba_restar\n",
    "```"
   ]
  },
  {
   "cell_type": "code",
   "execution_count": 3,
   "metadata": {},
   "outputs": [
    {
     "name": "stdout",
     "output_type": "stream",
     "text": [
      "17\n",
      "7\n",
      "25\n",
      "16\n"
     ]
    }
   ],
   "source": [
    "# Ejercicio 1.1\n",
    "\n",
    "# recuerda que % es el operador módulo\n",
    "primo = 31\n",
    "# 2+15=?\n",
    "print((2+15) % primo)\n",
    "# 17+21=?\n",
    "print((17+21) % primo)\n",
    "# 29-4=?\n",
    "print((29-4) % primo)\n",
    "# 15-30=?\n",
    "print((15-30) % primo)"
   ]
  },
  {
   "cell_type": "code",
   "execution_count": 4,
   "metadata": {},
   "outputs": [
    {
     "name": "stderr",
     "output_type": "stream",
     "text": [
      ".\n",
      "----------------------------------------------------------------------\n",
      "Prueba ejecutada en 0.001s\n",
      "\n",
      "OK\n",
      ".\n",
      "----------------------------------------------------------------------\n",
      "Prueba ejecutada en 0.000s\n",
      "\n",
      "OK\n"
     ]
    }
   ],
   "source": [
    "# Ejercicio 1.2\n",
    "\n",
    "reload(cce)\n",
    "ejecutar_prueba(cce.PruebaElementoCampo('prueba_sumar'))\n",
    "ejecutar_prueba(cce.PruebaElementoCampo('prueba_restar'))"
   ]
  },
  {
   "cell_type": "code",
   "execution_count": 5,
   "metadata": {},
   "outputs": [
    {
     "name": "stdout",
     "output_type": "stream",
     "text": [
      "8\n",
      "2\n",
      "1\n",
      "1\n"
     ]
    }
   ],
   "source": [
    "# Ejemplo de multiplicación/exponenciación\n",
    "\n",
    "print(2 * 4 % 19)\n",
    "print(7 * 3 % 19)\n",
    "print(11 ** 3 % 19)\n",
    "print(pow(11, 3, 19))"
   ]
  },
  {
   "cell_type": "markdown",
   "metadata": {},
   "source": [
    "### Ejercicio 2\n",
    "\n",
    "#### 2.1. Resuelve estas ecuaciones en \\\\(F_{31}\\\\):\n",
    "\n",
    "* \\\\(24\\cdot19=?\\\\)\n",
    "* \\\\(17^3=?\\\\)\n",
    "* \\\\(5^5\\cdot18=?\\\\)\n",
    "\n",
    "#### 2.2. Escribe un programa que calcule \\\\(0\\cdot k, 1\\cdot k, 2\\cdot k, 3\\cdot k, ... 30\\cdot k\\\\) para algunos \\\\(k\\\\) en \\\\(F_{31}\\\\).  Notas algo sobre estas series?\n",
    "\n",
    "#### 2.3. Haz que pasen [estas pruebas](/edit/sesión1/cce.py)\n",
    "```\n",
    "cce.py:PruebaElementoCampo:prueba_mul\n",
    "cce.py:PruebaElementoCampo:prueba_pow\n",
    "```\n",
    "\n",
    "#### Bonus. Escribe un programa para calcular \\\\(k^{30}\\\\) para todos los k en \\\\(F_{31}\\\\). Notas algo?"
   ]
  },
  {
   "cell_type": "code",
   "execution_count": 6,
   "metadata": {},
   "outputs": [
    {
     "name": "stdout",
     "output_type": "stream",
     "text": [
      "22\n",
      "15\n",
      "16\n"
     ]
    }
   ],
   "source": [
    "# Ejercicio 2.1\n",
    "\n",
    "# recuerda que ** es el operador para exponenciar\n",
    "primo = 31\n",
    "# 24*19=?\n",
    "print(24*19 % primo)\n",
    "# 17^3=?\n",
    "print(17**3 % primo)\n",
    "# 5^5*18=?\n",
    "print(5**5*18 % primo)"
   ]
  },
  {
   "cell_type": "code",
   "execution_count": 7,
   "metadata": {},
   "outputs": [
    {
     "name": "stdout",
     "output_type": "stream",
     "text": [
      "[0, 1, 2, 3, 4, 5, 6, 7, 8, 9, 10, 11, 12, 13, 14, 15, 16, 17, 18, 19, 20, 21, 22, 23, 24, 25, 26, 27, 28, 29, 30]\n"
     ]
    }
   ],
   "source": [
    "# Ejercicio 2.2\n",
    "\n",
    "from random import randint\n",
    "\n",
    "primo = 31\n",
    "k = randint(1,primo)\n",
    "\n",
    "# usa range(primo) para iterar por todos los números de 0 a 30 incluidos\n",
    "print(sorted([i*k % primo for i in range(primo)]))"
   ]
  },
  {
   "cell_type": "code",
   "execution_count": 8,
   "metadata": {},
   "outputs": [
    {
     "name": "stderr",
     "output_type": "stream",
     "text": [
      ".\n",
      "----------------------------------------------------------------------\n",
      "Prueba ejecutada en 0.001s\n",
      "\n",
      "OK\n",
      ".\n",
      "----------------------------------------------------------------------\n",
      "Prueba ejecutada en 0.000s\n",
      "\n",
      "OK\n"
     ]
    }
   ],
   "source": [
    "# Ejercicio 2.3\n",
    "\n",
    "reload(cce)\n",
    "ejecutar_prueba(cce.PruebaElementoCampo('prueba_mul'))\n",
    "ejecutar_prueba(cce.PruebaElementoCampo('prueba_pow'))"
   ]
  },
  {
   "cell_type": "code",
   "execution_count": 9,
   "metadata": {},
   "outputs": [
    {
     "name": "stdout",
     "output_type": "stream",
     "text": [
      "[1, 1, 1, 1, 1, 1, 1, 1, 1, 1, 1, 1, 1, 1, 1, 1, 1, 1, 1, 1, 1, 1, 1, 1, 1, 1, 1, 1, 1, 1]\n"
     ]
    }
   ],
   "source": [
    "# Bonus\n",
    "\n",
    "primo = 31\n",
    "\n",
    "# usa range(1, primo) para iterar por todos los números del 1 al 30 incluidos\n",
    "print([i**30 % primo for i in range(1, primo)])"
   ]
  },
  {
   "cell_type": "code",
   "execution_count": 10,
   "metadata": {},
   "outputs": [
    {
     "name": "stdout",
     "output_type": "stream",
     "text": [
      "7\n",
      "7\n",
      "4\n",
      "4\n"
     ]
    }
   ],
   "source": [
    "# Ejemplo de División\n",
    "\n",
    "print(2 * 3**17 % 19)\n",
    "print(2 * pow(3, 17, 19) % 19)\n",
    "print(3 * 15**17 % 19)\n",
    "print(3 * pow(15, 17, 19) % 19)"
   ]
  },
  {
   "cell_type": "markdown",
   "metadata": {},
   "source": [
    "### Ejercicio 3\n",
    "\n",
    "#### 3.1. Resuelve estas ecuaciones en \\\\(F_{31}\\\\):\n",
    "\n",
    "* \\\\(3/24 = ?\\\\)\n",
    "* \\\\(17^{-3} = ?\\\\)\n",
    "* \\\\(4^{-4}\\cdot{11} = ?\\\\)\n",
    "\n",
    "#### 3.2. Haz que pasen [estas pruebas](/edit/sesión1/cce.py)\n",
    "\n",
    "```\n",
    "cce.py:PruebaElementoCampo:prueba_div\n",
    "```"
   ]
  },
  {
   "cell_type": "code",
   "execution_count": 11,
   "metadata": {},
   "outputs": [
    {
     "name": "stdout",
     "output_type": "stream",
     "text": [
      "4\n",
      "29\n",
      "13\n"
     ]
    }
   ],
   "source": [
    "# Ejercicio 3.1\n",
    "\n",
    "# recuerda que pow(x, p-2, p) es lo mismo que 1/x en F_p\n",
    "primo = 31\n",
    "# 3/24 = ?\n",
    "print(3*24**(primo-2) % primo)\n",
    "# 17^(-3) = ?\n",
    "print(pow(17, primo-4, primo))\n",
    "# 4^(-4)*11 = ?\n",
    "print(pow(4, primo-5, primo) * 11 % primo)"
   ]
  },
  {
   "cell_type": "code",
   "execution_count": 12,
   "metadata": {},
   "outputs": [
    {
     "name": "stderr",
     "output_type": "stream",
     "text": [
      ".\n",
      "----------------------------------------------------------------------\n",
      "Prueba ejecutada en 0.001s\n",
      "\n",
      "OK\n"
     ]
    }
   ],
   "source": [
    "# Ejercicio 3.2\n",
    "\n",
    "reload(cce)\n",
    "ejecutar_prueba(cce.PruebaElementoCampo('prueba_div'))\n",
    "\n",
    "# Pista: el método __pow__ necesita un número positivo para el exponente.\n",
    "# Puedes hacer mod por p-1"
   ]
  },
  {
   "cell_type": "code",
   "execution_count": 13,
   "metadata": {},
   "outputs": [
    {
     "name": "stdout",
     "output_type": "stream",
     "text": [
      "True\n"
     ]
    }
   ],
   "source": [
    "# Ejemplo de curva elíptica\n",
    "\n",
    "x, y = -1, -1\n",
    "\n",
    "print(y**2 == x**3 + 5*x + 7)"
   ]
  },
  {
   "cell_type": "markdown",
   "metadata": {},
   "source": [
    "### Ejercicio 4\n",
    "\n",
    "#### 4.1. Para la curva \\\\(y^2 = x^3 + 5x + 7\\\\), cuáles de estos están en la curva?\n",
    "\n",
    "\\\\((-2,4), (3,7), (18,77)\\\\)\n",
    "\n",
    "#### 4.2. Haz que pasen [esta prueba](/edit/sesión1/cce.py)\n",
    "```\n",
    "cce.py:PruebaPunto:prueba_en_curva\n",
    "```"
   ]
  },
  {
   "cell_type": "code",
   "execution_count": 14,
   "metadata": {},
   "outputs": [
    {
     "name": "stdout",
     "output_type": "stream",
     "text": [
      "(-2,4) no está en la curva\n",
      "(3,7) no está en la curva\n",
      "(18,77) no está en la curva\n"
     ]
    }
   ],
   "source": [
    "# Ejercicio 4.1\n",
    "\n",
    "# (-2,4), (3,7), (18,77)\n",
    "# la ecuación en python es: y**2 == x**3 + 5*x + 7\n",
    "\n",
    "puntos = ((-2,4), (3,7), (18,77))\n",
    "\n",
    "for x, y in puntos:\n",
    "    # determina si (x,y) está en la curva\n",
    "    if y**2 == x**3 + 5*x + 7:\n",
    "        print('({},{}) está en la curva'.format(x,y))\n",
    "    else:\n",
    "        print('({},{}) no está en la curva'.format(x,y))"
   ]
  },
  {
   "cell_type": "code",
   "execution_count": 15,
   "metadata": {},
   "outputs": [
    {
     "name": "stderr",
     "output_type": "stream",
     "text": [
      ".\n",
      "----------------------------------------------------------------------\n",
      "Prueba ejecutada en 0.001s\n",
      "\n",
      "OK\n"
     ]
    }
   ],
   "source": [
    "# Ejercicio 4.2\n",
    "\n",
    "reload(cce)\n",
    "ejecutar_prueba(cce.PruebaPunto('prueba_en_curva'))"
   ]
  },
  {
   "cell_type": "markdown",
   "metadata": {},
   "source": [
    "### Ejercicio 5\n",
    "\n",
    "#### 5.1. Haz que pase [esta prueba](/edit/sesión1/cce.py)\n",
    "```\n",
    "cce.py:PruebaPunto:prueba_suma0\n",
    "```"
   ]
  },
  {
   "cell_type": "code",
   "execution_count": 16,
   "metadata": {},
   "outputs": [
    {
     "name": "stderr",
     "output_type": "stream",
     "text": [
      ".\n",
      "----------------------------------------------------------------------\n",
      "Prueba ejecutada en 0.001s\n",
      "\n",
      "OK\n"
     ]
    }
   ],
   "source": [
    "# Ejercicio 5.1\n",
    "\n",
    "reload(cce)\n",
    "ejecutar_prueba(cce.PruebaPunto('prueba_suma0'))"
   ]
  },
  {
   "cell_type": "code",
   "execution_count": 17,
   "metadata": {},
   "outputs": [
    {
     "name": "stdout",
     "output_type": "stream",
     "text": [
      "-1.0 1.0\n"
     ]
    }
   ],
   "source": [
    "# Ejemplo de suma de puntos donde x1 != x2\n",
    "\n",
    "x1, y1 = (2, 5)\n",
    "x2, y2 = (3, 7)\n",
    "s = (y2-y1)/(x2-x1)\n",
    "x3 = s**2 - x2 - x1\n",
    "y3 = s*(x1-x3)-y1\n",
    "print(x3, y3)"
   ]
  },
  {
   "cell_type": "markdown",
   "metadata": {},
   "source": [
    "### Ejercicio 6\n",
    "\n",
    "#### 6.1. Para la curva \\\\(y^2 = x^3 + 5x + 7\\\\), que es \\\\((2,5) + (-1,-1)\\\\)?\n",
    "\n",
    "#### 6.2. Haz que pase [esta prueba](/edit/sesión1/cce.py)\n",
    "```\n",
    "cce.py:PruebaPunto:prueba_suma1\n",
    "```"
   ]
  },
  {
   "cell_type": "code",
   "execution_count": 18,
   "metadata": {},
   "outputs": [
    {
     "name": "stdout",
     "output_type": "stream",
     "text": [
      "3.0 -7.0\n"
     ]
    }
   ],
   "source": [
    "# Ejercicio 6.1\n",
    "\n",
    "x1, y1 = (2,5)\n",
    "x2, y2 = (-1,-1)\n",
    "# fórmula en python:\n",
    "# s = (y2-y1)/(x2-x1)\n",
    "s = (y2-y1)/(x2-x1)\n",
    "# x3 = s**2 - x2 - x1\n",
    "x3 = s**2 - x2 - x1\n",
    "# y3 = s*(x1-x3)-y1\n",
    "y3 = s*(x1-x3) - y1\n",
    "\n",
    "print(x3, y3)"
   ]
  },
  {
   "cell_type": "code",
   "execution_count": 19,
   "metadata": {},
   "outputs": [
    {
     "name": "stderr",
     "output_type": "stream",
     "text": [
      ".\n",
      "----------------------------------------------------------------------\n",
      "Prueba ejecutada en 0.001s\n",
      "\n",
      "OK\n"
     ]
    }
   ],
   "source": [
    "# Ejercicio 6.2\n",
    "\n",
    "reload(cce)\n",
    "ejecutar_prueba(cce.PruebaPunto('prueba_suma1'))"
   ]
  },
  {
   "cell_type": "code",
   "execution_count": 20,
   "metadata": {},
   "outputs": [
    {
     "name": "stdout",
     "output_type": "stream",
     "text": [
      "-1.1100000000000003 0.2870000000000008\n"
     ]
    }
   ],
   "source": [
    "# Ejemplo de suma de puntos donde x1 = x2\n",
    "\n",
    "a = 5\n",
    "x1, y1 = (2, 5)\n",
    "s = (3*x1**2+a)/(2*y1)\n",
    "x3 = s**2 - 2*x1\n",
    "y3 = s*(x1-x3) - y1\n",
    "print(x3, y3)"
   ]
  },
  {
   "cell_type": "markdown",
   "metadata": {},
   "source": [
    "### Ejercicio 7\n",
    "\n",
    "#### 7.1. Para la curva \\\\(y^2 = x^3 + 5x + 7\\\\), que es \\\\((-1,1) + (-1,1)\\\\)?\n",
    "\n",
    "#### 7.2. Haz que pase [esta prueba](/edit/sesión1/cce.py)\n",
    "```\n",
    "cce.py:PruebaPunto:prueba_suma2\n",
    "```"
   ]
  },
  {
   "cell_type": "code",
   "execution_count": 21,
   "metadata": {},
   "outputs": [
    {
     "name": "stdout",
     "output_type": "stream",
     "text": [
      "18.0 77.0\n"
     ]
    }
   ],
   "source": [
    "# Ejercicio 7.1\n",
    "\n",
    "a, b = 5, 7\n",
    "x1, y1 = -1, -1\n",
    "\n",
    "# fórmula en python\n",
    "# s = (3*x1**2+a)/(2*y1)\n",
    "s = (3*x1**2+a)/(2*y1)\n",
    "# x3 = s**2 - 2*x1\n",
    "x3 = s**2 - 2*x1\n",
    "# y3 = s*(x1-x3) - y1\n",
    "y3 = s*(x1-x3) - y1\n",
    "\n",
    "print(x3, y3)"
   ]
  },
  {
   "cell_type": "code",
   "execution_count": 22,
   "metadata": {},
   "outputs": [
    {
     "name": "stderr",
     "output_type": "stream",
     "text": [
      ".\n",
      "----------------------------------------------------------------------\n",
      "Prueba ejecutada en 0.001s\n",
      "\n",
      "OK\n"
     ]
    }
   ],
   "source": [
    "# Ejercicio 7.2\n",
    "\n",
    "reload(cce)\n",
    "ejecutar_prueba(cce.PruebaPunto('prueba_suma2'))"
   ]
  }
 ],
 "metadata": {
  "kernelspec": {
   "display_name": "Python 3",
   "language": "python",
   "name": "python3"
  },
  "language_info": {
   "codemirror_mode": {
    "name": "ipython",
    "version": 3
   },
   "file_extension": ".py",
   "mimetype": "text/x-python",
   "name": "python",
   "nbconvert_exporter": "python",
   "pygments_lexer": "ipython3",
   "version": "3.6.5"
  }
 },
 "nbformat": 4,
 "nbformat_minor": 2
}