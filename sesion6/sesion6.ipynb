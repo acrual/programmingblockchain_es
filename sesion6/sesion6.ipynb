{
 "cells": [
  {
   "cell_type": "code",
   "execution_count": null,
   "metadata": {},
   "outputs": [],
   "source": [
    "# importa todo y define una función de ejecución de pruebas\n",
    "from importlib import reload\n",
    "from ayudante import ejecutar_prueba\n",
    "\n",
    "import bloque\n",
    "import cce\n",
    "import ayudante\n",
    "import script\n",
    "import tx"
   ]
  },
  {
   "cell_type": "markdown",
   "metadata": {},
   "source": [
    "### Ejercicio 1\n",
    "\n",
    "#### 1.1. Haz que pase [esta prueba](/edit/sesión6/tx.py)\n",
    "```\n",
    "tx.py:PruebaTx:prueba_es_coinbase\n",
    "```"
   ]
  },
  {
   "cell_type": "code",
   "execution_count": null,
   "metadata": {},
   "outputs": [],
   "source": [
    "# Ejercicio 1.1\n",
    "\n",
    "reload(tx)\n",
    "ejecutar_prueba(tx.PruebaTx('prueba_es_coinbase'))"
   ]
  },
  {
   "cell_type": "markdown",
   "metadata": {},
   "source": [
    "### Ejercicio 2\n",
    "\n",
    "#### 2.1. Parsea la transacción coinbase del bloque génesis e imprime el tercer elemento del scriptSig's\n",
    "\n",
    "```\n",
    "01000000010000000000000000000000000000000000000000000000000000000000000000ffffffff4d04ffff001d0104455468652054696d65732030332f4a616e2f32303039204368616e63656c6c6f72206f6e206272696e6b206f66207365636f6e64206261696c6f757420666f722062616e6b73ffffffff0100f2052a01000000434104678afdb0fe5548271967f1a67130b7105cd6a828e03909a67962e0ea1f61deb649f6bc3f4cef38c4f35504e51ec112de5c384df7ba0b8d578a4c702b6bf11d5fac00000000\n",
    "```\n",
    "\n",
    "#### 2.2. Haz que pase [esta prueba](/edit/sesión6/tx.py)\n",
    "```\n",
    "tx.py:PruebaTx:prueba_altura_coinbase\n",
    "```"
   ]
  },
  {
   "cell_type": "code",
   "execution_count": null,
   "metadata": {},
   "outputs": [],
   "source": [
    "# Ejercicio 2.1\n",
    "\n",
    "from io import BytesIO\n",
    "\n",
    "from tx import Tx\n",
    "\n",
    "hex_tx = '01000000010000000000000000000000000000000000000000000000000000000000000000ffffffff4d04ffff001d0104455468652054696d65732030332f4a616e2f32303039204368616e63656c6c6f72206f6e206272696e6b206f66207365636f6e64206261696c6f757420666f722062616e6b73ffffffff0100f2052a01000000434104678afdb0fe5548271967f1a67130b7105cd6a828e03909a67962e0ea1f61deb649f6bc3f4cef38c4f35504e51ec112de5c384df7ba0b8d578a4c702b6bf11d5fac00000000'\n",
    "\n",
    "# crea un stream con BytesIO y bytes.fromhex\n",
    "# parsea la transacción coinbase\n",
    "# imprime el primer input del tercer elemento del script_sig"
   ]
  },
  {
   "cell_type": "code",
   "execution_count": null,
   "metadata": {},
   "outputs": [],
   "source": [
    "# Ejercicio 2.2\n",
    "\n",
    "reload(tx)\n",
    "ejecutar_prueba(tx.PruebaTx('prueba_altura_coinbase'))"
   ]
  },
  {
   "cell_type": "markdown",
   "metadata": {},
   "source": [
    "### Ejercicio 3\n",
    "\n",
    "#### 3.1. Encuentra la dirección del output correspondiente a este ScriptPubKey\n",
    "```\n",
    "1976a914338c84849423992471bffb1a54a8d9b1d69dc28a88ac\n",
    "```\n",
    "\n",
    "Recuerda la estructura del pay-to-pubkey-hash (p2pkh) que tiene `OP_DUP OP_HASH160 <hash> OP_EQUALVERIFY OP_CHECKSIG`.\n",
    "\n",
    "Necesitas tener el hash160 y convertirlo en una dirección.\n",
    "\n",
    "#### 3.2. Haz que pase [esta prueba](/edit/sesión6/script.py)\n",
    "```\n",
    "script.py:PruebaScript:prueba_dire\n",
    "```"
   ]
  },
  {
   "cell_type": "code",
   "execution_count": null,
   "metadata": {},
   "outputs": [],
   "source": [
    "# Ejercicio 3.1\n",
    "\n",
    "from io import BytesIO\n",
    "\n",
    "from ayudante import h160_a_dire_p2pkh\n",
    "from script import Script\n",
    "\n",
    "hex_script_pubkey = '1976a914338c84849423992471bffb1a54a8d9b1d69dc28a88ac'\n",
    "\n",
    "# BytesIO(bytes.fromhex) para tener el stream\n",
    "# parsea con Script\n",
    "# obtén el 3rd element, que debería ser el hash160\n",
    "# convierte h160 a dirección p2pkh"
   ]
  },
  {
   "cell_type": "code",
   "execution_count": null,
   "metadata": {},
   "outputs": [],
   "source": [
    "# Ejercicio 3.2\n",
    "\n",
    "reload(script)\n",
    "ejecutar_prueba(script.PruebaScript('prueba_dire'))"
   ]
  },
  {
   "cell_type": "markdown",
   "metadata": {},
   "source": [
    "### Ejercicio 4\n",
    "\n",
    "#### 4.1. Cuál es el doble_sha256 de este bloque? Notas algo?\n",
    "```\n",
    "020000208ec39428b17323fa0ddec8e887b4a7c53b8c0a0a220cfd0000000000000000005b0750fce0a889502d40508d39576821155e9c9e3f5c3157f961db38fd8b25be1e77a759e93c0118a4ffd71d\n",
    "```\n",
    "\n",
    "#### 4.2. Haz que pasen [estas pruebas](/edit/sesión6/bloque.py)\n",
    "```\n",
    "bloque.py:PruebaBloque:prueba_parsear\n",
    "bloque.py:PruebaBloque:prueba_serializar\n",
    "bloque.py:PruebaBloque:prueba_hash\n",
    "```"
   ]
  },
  {
   "cell_type": "code",
   "execution_count": null,
   "metadata": {},
   "outputs": [],
   "source": [
    "# Ejercicio 4.1\n",
    "\n",
    "from ayudante import doble_sha256\n",
    "\n",
    "hex_bloque = '020000208ec39428b17323fa0ddec8e887b4a7c53b8c0a0a220cfd0000000000000000005b0750fce0a889502d40508d39576821155e9c9e3f5c3157f961db38fd8b25be1e77a759e93c0118a4ffd71d'\n",
    "\n",
    "# bytes.fromhex para obtener el binario\n",
    "# doble_sha256 el resultado\n",
    "# hex() para ver cómo es"
   ]
  },
  {
   "cell_type": "code",
   "execution_count": null,
   "metadata": {
    "scrolled": true
   },
   "outputs": [],
   "source": [
    "# Ejercicio 4.2\n",
    "\n",
    "reload(bloque)\n",
    "ejecutar_prueba(bloque.PruebaBloque('prueba_parsear'))\n",
    "ejecutar_prueba(bloque.PruebaBloque('prueba_serializar'))\n",
    "ejecutar_prueba(bloque.PruebaBloque('prueba_hash'))"
   ]
  },
  {
   "cell_type": "code",
   "execution_count": null,
   "metadata": {},
   "outputs": [],
   "source": [
    "# Ejemplo de señalización de versión\n",
    "\n",
    "from io import BytesIO\n",
    "from bloque import Bloque\n",
    "\n",
    "hex_bloque = '020000208ec39428b17323fa0ddec8e887b4a7c53b8c0a0a220cfd0000000000000000005b0750fce0a889502d40508d39576821155e9c9e3f5c3157f961db38fd8b25be1e77a759e93c0118a4ffd71d'\n",
    "\n",
    "# bytes.fromhex para obtener el bloque binario\n",
    "# crea un stream usando BytesIO\n",
    "# parsea el bloque\n",
    "# obtén la versión\n",
    "# mueve a la derecha 29 (version >> 29) y mira si es igual a 0b001 para BIP9\n",
    "# mira si el bit 4 (version >> 4) desde la derecha está establecido como ( & 1) para BIP91\n",
    "# mira si el bit 1 (version >> 1) desde la derecha está establecido como ( & 1) para BIP141"
   ]
  },
  {
   "cell_type": "markdown",
   "metadata": {},
   "source": [
    "### Ejercicio 5\n",
    "\n",
    "#### 5.1. Haz que pasen [estas pruebas](/edit/sesión6/bloque.py)\n",
    "```\n",
    "bloque.py:PruebaBloque:prueba_bip9\n",
    "bloque.py:PruebaBloque:prueba_bip91\n",
    "bloque.py:PruebaBloque:prueba_bip141\n",
    "```"
   ]
  },
  {
   "cell_type": "code",
   "execution_count": null,
   "metadata": {},
   "outputs": [],
   "source": [
    "# Ejercicio 5.1\n",
    "\n",
    "reload(bloque)\n",
    "ejecutar_prueba(bloque.PruebaBloque('prueba_bip9'))\n",
    "ejecutar_prueba(bloque.PruebaBloque('prueba_bip91'))\n",
    "ejecutar_prueba(bloque.PruebaBloque('prueba_bip141'))"
   ]
  },
  {
   "cell_type": "code",
   "execution_count": null,
   "metadata": {},
   "outputs": [],
   "source": [
    "# Ejemplo de cálculo del Target desde Bits\n",
    "\n",
    "from ayudante import little_endian_a_int\n",
    "\n",
    "bits = bytes.fromhex('e93c0118')\n",
    "exponente = bits[-1]\n",
    "coeficiente = little_endian_a_int(bits[:-1])\n",
    "target = coeficiente*256**(exponente-3)\n",
    "print('{:x}'.format(target).zfill(64))"
   ]
  },
  {
   "cell_type": "code",
   "execution_count": null,
   "metadata": {},
   "outputs": [],
   "source": [
    "# Ejemplo para calcular la dificultad desde el target\n",
    "\n",
    "from ayudante import little_endian_a_int\n",
    "\n",
    "bits = bytes.fromhex('e93c0118')\n",
    "exponente = bits[-1]\n",
    "coeficiente = little_endian_a_int(bits[:-1])\n",
    "target = coeficiente*256**(exponente-3)\n",
    "\n",
    "bits_min = bytes.fromhex('ffff001d')\n",
    "exponente_min = bits_min[-1]\n",
    "coeficiente_min = little_endian_a_int(bits_min[:-1])\n",
    "min = coeficiente_min*256**(exponente_min-3)\n",
    "\n",
    "dificultad = min // target\n",
    "print(difficultad)"
   ]
  },
  {
   "cell_type": "markdown",
   "metadata": {},
   "source": [
    "### Ejercicio 6\n",
    "\n",
    "#### 6.1. Calcula el target y dificultad para estos bits:\n",
    "```\n",
    "f2881718\n",
    "```\n",
    "\n",
    "La fórmula de Bits a target es \n",
    "\n",
    "\\\\(coeficiente\\cdot256^{(exponente-3)}\\\\) \n",
    "\n",
    "donde coeficiente son los primeros 3 bytes en little endian y exponente es el último byte.\n",
    "\n",
    "La fórmula de Target a Dificultad es \n",
    "\n",
    "\\\\(dificultad = min / target\\\\)\n",
    "\n",
    "donde \\\\(min = 0xffff\\cdot256^{(0x1d-3)}\\\\)\n",
    "\n",
    "#### 6.2. Haz que pase [esta prueba](/edit/sesión6/bloque.py)\n",
    "```\n",
    "bloque.py:PruebaBloque:prueba_target\n",
    "```"
   ]
  },
  {
   "cell_type": "code",
   "execution_count": null,
   "metadata": {},
   "outputs": [],
   "source": [
    "# Ejercicio 6.1\n",
    "\n",
    "from ayudante import little_endian_a_int\n",
    "\n",
    "hex_bits = 'f2881718'\n",
    "\n",
    "# bytes.fromhex para tener los bits\n",
    "# el último byte es el exponente\n",
    "# los primeros 3 bytes son el coeficiente en little endian\n",
    "# mételo en la fórmula coeficiente * 2^(8*(exponente-3)) para tener el target\n",
    "# imprime el target usando print('{:x}'.format(target).zfill(64))\n",
    "\n",
    "hex_min_bits = 'ffff001d'\n",
    "# haz lo mismo para min_bits para min target\n",
    "\n",
    "# dificultad es min target / target"
   ]
  },
  {
   "cell_type": "code",
   "execution_count": null,
   "metadata": {},
   "outputs": [],
   "source": [
    "# Ejercicio 6.2\n",
    "\n",
    "reload(bloque)\n",
    "ejecutar_prueba(bloque.PruebaBloque('prueba_target'))"
   ]
  },
  {
   "cell_type": "markdown",
   "metadata": {},
   "source": [
    "### Ejercicio 7\n",
    "\n",
    "#### 7.1.Valida la prueba de trabajo para este bloque\n",
    "```\n",
    "04000000fbedbbf0cfdaf278c094f187f2eb987c86a199da22bbb20400000000000000007b7697b29129648fa08b4bcd13c9d5e60abb973a1efac9c8d573c71c807c56c3d6213557faa80518c3737ec1\n",
    "```\n",
    "\n",
    "Comprueba que la prueba de trabajo (doble-sha256 interpretado como número little-endian) es más bajo que el target.\n",
    "\n",
    "#### 7.2. Haz que pase [esta prueba](/edit/sesión6/bloque.py).\n",
    "```\n",
    "bloque.py:PruebaBloque:prueba_comprobar_pow\n",
    "```"
   ]
  },
  {
   "cell_type": "code",
   "execution_count": null,
   "metadata": {},
   "outputs": [],
   "source": [
    "# Ejercicio 7.1\n",
    "\n",
    "from io import BytesIO\n",
    "from ayudante import doble_sha256, little_endian_a_int\n",
    "from bloque import Bloque\n",
    "\n",
    "hex_bloque = '04000000fbedbbf0cfdaf278c094f187f2eb987c86a199da22bbb20400000000000000007b7697b29129648fa08b4bcd13c9d5e60abb973a1efac9c8d573c71c807c56c3d6213557faa80518c3737ec1'\n",
    "\n",
    "# bytes.fromhex para tener el bloque binario\n",
    "# crea un stream usando BytesIO\n",
    "# parsea el Bloque\n",
    "\n",
    "# doble_sha256 la serialización",
    "# interpreta el resultado como un número en little endian\n",
    "# obtén el target\n",
    "# comprueba que la prueba de trabajo < target"
   ]
  },
  {
   "cell_type": "code",
   "execution_count": null,
   "metadata": {},
   "outputs": [],
   "source": [
    "# Ejercicio 7.2\n",
    "\n",
    "reload(bloque)\n",
    "ejecutar_prueba(bloque.PruebaBloque('prueba_comprobar_pow'))"
   ]
  }
 ],
 "metadata": {
  "kernelspec": {
   "display_name": "Python 3",
   "language": "python",
   "name": "python3"
  },
  "language_info": {
   "codemirror_mode": {
    "name": "ipython",
    "version": 3
   },
   "file_extension": ".py",
   "mimetype": "text/x-python",
   "name": "python",
   "nbconvert_exporter": "python",
   "pygments_lexer": "ipython3",
   "version": "3.6.5"
  }
 },
 "nbformat": 4,
 "nbformat_minor": 2
}
