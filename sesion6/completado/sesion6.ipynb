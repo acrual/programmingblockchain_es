{
 "cells": [
  {
   "cell_type": "code",
   "execution_count": 1,
   "metadata": {},
   "outputs": [],
   "source": [
    "# importa todo y define una función de ejecución de pruebas\n",
    "from importlib import reload\n",
    "from ayudante import ejecutar_prueba\n",
    "\n",
    "import bloque\n",
    "import cce\n",
    "import ayudante\n",
    "import script\n",
    "import tx"
   ]
  },
  {
   "cell_type": "markdown",
   "metadata": {},
   "source": [
    "### Ejercicio 1\n",
    "\n",
    "#### 1.1. Haz que pase [esta prueba](/edit/sesión6/tx.py)\n",
    "```\n",
    "tx.py:PruebaTx:prueba_es_coinbase\n",
    "```"
   ]
  },
  {
   "cell_type": "code",
   "execution_count": 2,
   "metadata": {},
   "outputs": [
    {
     "name": "stderr",
     "output_type": "stream",
     "text": [
      ".\n",
      "----------------------------------------------------------------------\n",
      "Prueba ejecutada en 0.001s\n",
      "\n",
      "OK\n"
     ]
    }
   ],
   "source": [
    "# Ejercicio 1.1\n",
    "\n",
    "reload(tx)\n",
    "ejecutar_prueba(tx.PruebaTx('prueba_es_coinbase'))"
   ]
  },
  {
   "cell_type": "markdown",
   "metadata": {},
   "source": [
    "### Ejercicio 2\n",
    "\n",
    "#### 2.1. Parsea la transacción coinbase del bloque génesis e imprime el tercer elemento del scriptSig\n",
    "\n",
    "```\n",
    "01000000010000000000000000000000000000000000000000000000000000000000000000ffffffff4d04ffff001d0104455468652054696d65732030332f4a616e2f32303039204368616e63656c6c6f72206f6e206272696e6b206f66207365636f6e64206261696c6f757420666f722062616e6b73ffffffff0100f2052a01000000434104678afdb0fe5548271967f1a67130b7105cd6a828e03909a67962e0ea1f61deb649f6bc3f4cef38c4f35504e51ec112de5c384df7ba0b8d578a4c702b6bf11d5fac00000000\n",
    "```\n",
    "\n",
    "#### 2.2. Haz que pase [esta prueba](/edit/sesión6/tx.py)\n",
    "```\n",
    "tx.py:PruebaTx:prueba_altura_coinbase\n",
    "```"
   ]
  },
  {
   "cell_type": "code",
   "execution_count": 3,
   "metadata": {},
   "outputs": [
    {
     "name": "stdout",
     "output_type": "stream",
     "text": [
      "b'The Times 03/Jan/2009 Chancellor on brink of second bailout for banks'\n"
     ]
    }
   ],
   "source": [
    "# Ejercicio 2.1\n",
    "\n",
    "from io import BytesIO\n",
    "\n",
    "from tx import Tx\n",
    "\n",
    "hex_tx = '01000000010000000000000000000000000000000000000000000000000000000000000000ffffffff4d04ffff001d0104455468652054696d65732030332f4a616e2f32303039204368616e63656c6c6f72206f6e206272696e6b206f66207365636f6e64206261696c6f757420666f722062616e6b73ffffffff0100f2052a01000000434104678afdb0fe5548271967f1a67130b7105cd6a828e03909a67962e0ea1f61deb649f6bc3f4cef38c4f35504e51ec112de5c384df7ba0b8d578a4c702b6bf11d5fac00000000'\n",
    "\n",
    "# crea un stream con BytesIO y bytes.fromhex\n",
    "stream = BytesIO(bytes.fromhex(hex_tx))\n",
    "# parsea la transacción coinbase\n",
    "coinbase = Tx.parsear(stream)\n",
    "# imprime el tercer elemento del script_sig del primer input\n",
    "print(coinbase.tx_ins[0].script_sig.cosas[2])"
   ]
  },
  {
   "cell_type": "code",
   "execution_count": 4,
   "metadata": {},
   "outputs": [
    {
     "name": "stderr",
     "output_type": "stream",
     "text": [
      ".\n",
      "----------------------------------------------------------------------\n",
      "Prueba ejecutada en 0.001s\n",
      "\n",
      "OK\n"
     ]
    }
   ],
   "source": [
    "# Ejercicio 2.2\n",
    "\n",
    "reload(tx)\n",
    "ejecutar_prueba(tx.PruebaTx('prueba_altura_coinbase'))"
   ]
  },
  {
   "cell_type": "markdown",
   "metadata": {},
   "source": [
    "### Ejercicio 3\n",
    "\n",
    "#### 3.1. Encuentra la direccion output correspondiente a este ScriptPubKey\n",
    "```\n",
    "1976a914338c84849423992471bffb1a54a8d9b1d69dc28a88ac\n",
    "```\n",
    "\n",
    "Recuerda la estructura del pay-to-pubkey-hash (p2pkh) que tiene `OP_DUP OP_HASH160 <hash> OP_EQUALVERIFY OP_CHECKSIG`.\n",
    "\n",
    "Necesitas tener el hash160 y convertirlo en una dirección.\n",
    "\n",
    "#### 3.2. Haz que pase [esta prueba](/edit/sesión6/script.py)\n",
    "```\n",
    "script.py:PruebaScript:prueba_dire\n",
    "```"
   ]
  },
  {
   "cell_type": "code",
   "execution_count": 5,
   "metadata": {},
   "outputs": [
    {
     "name": "stdout",
     "output_type": "stream",
     "text": [
      "15hZo812Lx266Dot6T52krxpnhrNiaqHya\n"
     ]
    }
   ],
   "source": [
    "# Ejercicio 3.1\n",
    "\n",
    "from io import BytesIO\n",
    "\n",
    "from ayudante import h160_a_dire_p2pkh\n",
    "from script import Script\n",
    "\n",
    "hex_script_pubkey = '1976a914338c84849423992471bffb1a54a8d9b1d69dc28a88ac'\n",
    "\n",
    "# BytesIO(bytes.fromhex) para obtener el stream\n",
    "stream = BytesIO(bytes.fromhex(hex_script_pubkey))\n",
    "# parsea con Script\n",
    "script_pubkey = Script.parsear(stream)\n",
    "# obtén el tercer elemento, que debería ser el hash160\n",
    "h160 = script_pubkey.cosas[2]\n",
    "# convierte h160 a dirección p2pkh\n",
    "print(h160_a_dire_p2pkh(h160))"
   ]
  },
  {
   "cell_type": "code",
   "execution_count": 6,
   "metadata": {},
   "outputs": [
    {
     "name": "stderr",
     "output_type": "stream",
     "text": [
      ".\n",
      "----------------------------------------------------------------------\n",
      "Prueba ejecutada en 0.001s\n",
      "\n",
      "OK\n"
     ]
    }
   ],
   "source": [
    "# Ejercicio 3.2\n",
    "\n",
    "reload(script)\n",
    "ejecutar_prueba(script.PruebaScript('prueba_dire'))"
   ]
  },
  {
   "cell_type": "markdown",
   "metadata": {},
   "source": [
    "### Ejercicio 4\n",
    "\n",
    "#### 4.1. ¿Cuál es el doble_sha256 de este bloque? Notas algo?\n",
    "```\n",
    "020000208ec39428b17323fa0ddec8e887b4a7c53b8c0a0a220cfd0000000000000000005b0750fce0a889502d40508d39576821155e9c9e3f5c3157f961db38fd8b25be1e77a759e93c0118a4ffd71d\n",
    "```\n",
    "\n",
    "#### 4.2. Haz que pasen [estas pruebas](/edit/sesión6/bloque.py)\n",
    "```\n",
    "bloque.py:PruebaBloque:prueba_parsear\n",
    "bloque.py:PruebaBloque:prueba_serializar\n",
    "bloque.py:PruebaBloque:prueba_hash\n",
    "```"
   ]
  },
  {
   "cell_type": "code",
   "execution_count": 7,
   "metadata": {},
   "outputs": [
    {
     "name": "stdout",
     "output_type": "stream",
     "text": [
      "2375044d646ad73594dd0b37b113becdb03964584c9e7e000000000000000000\n"
     ]
    }
   ],
   "source": [
    "# Ejercicio 4.1\n",
    "\n",
    "from ayudante import doble_sha256\n",
    "\n",
    "hex_bloque = '020000208ec39428b17323fa0ddec8e887b4a7c53b8c0a0a220cfd0000000000000000005b0750fce0a889502d40508d39576821155e9c9e3f5c3157f961db38fd8b25be1e77a759e93c0118a4ffd71d'\n",
    "\n",
    "# bytes.fromhex para obtener el binario\n",
    "bin_bloque = bytes.fromhex(hex_bloque)\n",
    "# doble_sha256 el resultado\n",
    "res = doble_sha256(bin_bloque)\n",
    "# hex() para ver qué aspecto tiene\n",
    "print(res.hex())"
   ]
  },
  {
   "cell_type": "code",
   "execution_count": 8,
   "metadata": {
    "scrolled": true
   },
   "outputs": [
    {
     "name": "stderr",
     "output_type": "stream",
     "text": [
      ".\n",
      "----------------------------------------------------------------------\n",
      "Prueba ejecutada en 0.001s\n",
      "\n",
      "OK\n",
      ".\n",
      "----------------------------------------------------------------------\n",
      "Prueba ejecutada en 0.001s\n",
      "\n",
      "OK\n",
      ".\n",
      "----------------------------------------------------------------------\n",
      "Prueba ejecutada en 0.001s\n",
      "\n",
      "OK\n"
     ]
    }
   ],
   "source": [
    "# Ejercicio 4.2\n",
    "\n",
    "reload(bloque)\n",
    "ejecutar_prueba(bloque.PruebaBloque('prueba_parsear'))\n",
    "ejecutar_prueba(bloque.PruebaBloque('prueba_serializar'))\n",
    "ejecutar_prueba(bloque.PruebaBloque('prueba_hash'))"
   ]
  },
  {
   "cell_type": "code",
   "execution_count": 9,
   "metadata": {},
   "outputs": [
    {
     "name": "stdout",
     "output_type": "stream",
     "text": [
      "BIP9: True\n",
      "BIP91: False\n",
      "BIP141: True\n"
     ]
    }
   ],
   "source": [
    "# Ejemplo de señalización de versión\n",
    "\n",
    "from io import BytesIO\n",
    "from bloque import Bloque\n",
    "\n",
    "hex_bloque = '020000208ec39428b17323fa0ddec8e887b4a7c53b8c0a0a220cfd0000000000000000005b0750fce0a889502d40508d39576821155e9c9e3f5c3157f961db38fd8b25be1e77a759e93c0118a4ffd71d'\n",
    "\n",
    "# bytes.fromhex para obtener el bloque en binario\n",
    "bin_bloque = bytes.fromhex(hex_bloque)\n",
    "# crea un stream usando BytesIO\n",
    "stream = BytesIO(bin_bloque)\n",
    "# parsea el bloque\n",
    "b = Bloque.parsear(stream)\n",
    "# obtén la versión\n",
    "versión = b.versión\n",
    "# muévete a la derecha 29 (versión >> 29) y comprueba si es igual a 0b001 para BIP9\n",
    "print('BIP9: {}'.format(versión >> 29 == 0b001))\n",
    "# mira si el bit 4 (versión >> 4) desde la derecha está como ( & 1) para BIP91\n",
    "print('BIP91: {}'.format(versión >> 4 & 1 == 1))\n",
    "# mira si el bit 1 (versión >> 1) desde la derecha está como ( & 1) para BIP141\n",
    "print('BIP141: {}'.format(versión >> 1 & 1 == 1))"
   ]
  },
  {
   "cell_type": "markdown",
   "metadata": {},
   "source": [
    "### Ejercicio 5\n",
    "\n",
    "#### 5.1. Haz que pasen [estas pruebas](/edit/sesión6/bloque.py).\n",
    "```\n",
    "bloque.py:PruebaBloque:prueba_bip9\n",
    "bloque.py:PruebaBloque:prueba_bip91\n",
    "bloque.py:PruebaBloque:prueba_bip141\n",
    "```"
   ]
  },
  {
   "cell_type": "code",
   "execution_count": 10,
   "metadata": {},
   "outputs": [
    {
     "name": "stderr",
     "output_type": "stream",
     "text": [
      ".\n",
      "----------------------------------------------------------------------\n",
      "Prueba ejecutada en 0.001s\n",
      "\n",
      "OK\n",
      ".\n",
      "----------------------------------------------------------------------\n",
      "Prueba ejecutada en 0.001s\n",
      "\n",
      "OK\n",
      ".\n",
      "----------------------------------------------------------------------\n",
      "Prueba ejecutada en 0.001s\n",
      "\n",
      "OK\n"
     ]
    }
   ],
   "source": [
    "# Ejercicio 5.1\n",
    "\n",
    "reload(bloque)\n",
    "ejecutar_prueba(bloque.PruebaBloque('prueba_bip9'))\n",
    "ejecutar_prueba(bloque.PruebaBloque('prueba_bip91'))\n",
    "ejecutar_prueba(bloque.PruebaBloque('prueba_bip141'))"
   ]
  },
  {
   "cell_type": "code",
   "execution_count": 11,
   "metadata": {},
   "outputs": [
    {
     "name": "stdout",
     "output_type": "stream",
     "text": [
      "0000000000000000013ce9000000000000000000000000000000000000000000\n"
     ]
    }
   ],
   "source": [
    "# Ejemplo de cálculo de Target desde Bits\n",
    "\n",
    "from ayudante import little_endian_a_int\n",
    "\n",
    "bits = bytes.fromhex('e93c0118')\n",
    "exponente = bits[-1]\n",
    "coeficiente = little_endian_a_int(bits[:-1])\n",
    "target = coeficiente*256**(exponente-3)\n",
    "print('{:x}'.format(target).zfill(64))"
   ]
  },
  {
   "cell_type": "code",
   "execution_count": 12,
   "metadata": {},
   "outputs": [
    {
     "name": "stdout",
     "output_type": "stream",
     "text": [
      "888171856257\n"
     ]
    }
   ],
   "source": [
    "# Ejemplo de cálculo de dificultad desde Target\n",
    "\n",
    "from ayudante import little_endian_a_int\n",
    "\n",
    "bits = bytes.fromhex('e93c0118')\n",
    "exponente = bits[-1]\n",
    "coeficiente = little_endian_a_int(bits[:-1])\n",
    "target = coeficiente*256**(exponente-3)\n",
    "\n",
    "bits_min = bytes.fromhex('ffff001d')\n",
    "exponente_min = bits_min[-1]\n",
    "coeficiente_min = little_endian_a_int(bits_min[:-1])\n",
    "min = coeficiente_min*256**(exponente_min-3)\n",
    "\n",
    "dificultad = min // target\n",
    "print(dificultad)"
   ]
  },
  {
   "cell_type": "markdown",
   "metadata": {},
   "source": [
    "### Ejercicio 6\n",
    "\n",
    "#### 6.1. Calcula el target y dificultad para estos bits:\n",
    "```\n",
    "f2881718\n",
    "```\n",
    "\n",
    "Fórmula de Bits a target\n",
    "\n",
    "\\\\(coeficiente\\cdot256^{(exponente-3)}\\\\) \n",
    "\n",
    "donde coeficiente son los primeros 3 bytes en little endian y exponente es el último byte.\n",
    "\n",
    "La fórmula target a dificultad es \n",
    "\n",
    "\\\\(dificultad = min / target\\\\)\n",
    "\n",
    "donde \\\\(min = 0xffff\\cdot256^{(0x1d-3)}\\\\)\n",
    "\n",
    "#### 6.2. Haz que pase [esta prueba](/edit/sesión6/bloque.py).\n",
    "```\n",
    "bloque.py:PruebaBloque:prueba_target\n",
    "```"
   ]
  },
  {
   "cell_type": "code",
   "execution_count": 13,
   "metadata": {},
   "outputs": [
    {
     "name": "stdout",
     "output_type": "stream",
     "text": [
      "00000000000000001788f2000000000000000000000000000000000000000000\n",
      "46717549644.70642\n"
     ]
    }
   ],
   "source": [
    "# Ejercicio 6.1\n",
    "\n",
    "from ayudante import little_endian_a_int\n",
    "\n",
    "hex_bits = 'f2881718'\n",
    "\n",
    "# bytes.fromhex para obtener los bits\n",
    "bits = bytes.fromhex(hex_bits)\n",
    "# el último byte es el exponente\n",
    "exponente = bits[-1]\n",
    "# los primeros 3 bytes son el coeficiente en little endian\n",
    "coeficiente = little_endian_a_int(bits[:-1])\n",
    "# mete en la fórmula coeficiente * 2^(8*(exponente-3)) para obtener el target\n",
    "target = coeficiente * 256**(exponente-3)\n",
    "# imprime target usando print('{:x}'.format(target).zfill(64))\n",
    "print('{:x}'.format(target).zfill(64))\n",
    "\n",
    "hex_min_bits = 'ffff001d'\n",
    "# haz lo mismo para los min_bits para min target\n",
    "min_bits = bytes.fromhex(hex_min_bits)\n",
    "min_exponente = min_bits[-1]\n",
    "min_coeficiente = little_endian_a_int(min_bits[:-1])\n",
    "min_target = min_coeficiente * 256**(min_exponente-3)\n",
    "\n",
    "# dificultad es min target / target\n",
    "dificultad = min_target / target\n",
    "print(dificultad)"
   ]
  },
  {
   "cell_type": "code",
   "execution_count": 14,
   "metadata": {},
   "outputs": [
    {
     "name": "stderr",
     "output_type": "stream",
     "text": [
      ".\n",
      "----------------------------------------------------------------------\n",
      "Prueba ejecutada en 0.001s\n",
      "\n",
      "OK\n"
     ]
    }
   ],
   "source": [
    "# Ejercicio 6.2\n",
    "\n",
    "reload(bloque)\n",
    "ejecutar_prueba(bloque.PruebaBloque('prueba_target'))"
   ]
  },
  {
   "cell_type": "markdown",
   "metadata": {},
   "source": [
    "### Ejercicio 7\n",
    "\n",
    "#### 7.1.Valida la prueba de trabajo para este bloque\n",
    "```\n",
    "04000000fbedbbf0cfdaf278c094f187f2eb987c86a199da22bbb20400000000000000007b7697b29129648fa08b4bcd13c9d5e60abb973a1efac9c8d573c71c807c56c3d6213557faa80518c3737ec1\n",
    "```\n",
    "\n",
    "Comprueba que la prueba de trabajo (doble-sha256 interpretado como número little-endian) es más bajo que target.\n",
    "\n",
    "#### 7.2. Haz que pase [esta prueba](/edit/sesión6/bloque.py).\n",
    "```\n",
    "bloque.py:PruebaBloque:prueba_comprobar_pow\n",
    "```"
   ]
  },
  {
   "cell_type": "code",
   "execution_count": 15,
   "metadata": {},
   "outputs": [
    {
     "name": "stdout",
     "output_type": "stream",
     "text": [
      "True\n"
     ]
    }
   ],
   "source": [
    "# Ejercicio 7.1\n",
    "\n",
    "from io import BytesIO\n",
    "from ayudante import doble_sha256, little_endian_a_int\n",
    "from bloque import Bloque\n",
    "\n",
    "hex_bloque = '04000000fbedbbf0cfdaf278c094f187f2eb987c86a199da22bbb20400000000000000007b7697b29129648fa08b4bcd13c9d5e60abb973a1efac9c8d573c71c807c56c3d6213557faa80518c3737ec1'\n",
    "\n",
    "# bytes.fromhex para obtener el bloque binario\n",
    "bin_bloque = bytes.fromhex(hex_bloque)\n",
    "# crea un stream usando BytesIO\n",
    "stream = BytesIO(bin_bloque)\n",
    "# parsea el Bloque\n",
    "b = Bloque.parsear(stream)\n",
    "\n",
    "# doble_sha256 la serialización\n",
    "sha = doble_sha256(b.serializar())\n",
    "# interpreta el resultado como número en little-endian\n",
    "prueba = little_endian_a_int(sha)\n",
    "# obtén el target\n",
    "target = b.target()\n",
    "# comprueba que la prueba de trabajo < target\n",
    "print(prueba < target)"
   ]
  },
  {
   "cell_type": "code",
   "execution_count": 16,
   "metadata": {},
   "outputs": [
    {
     "name": "stderr",
     "output_type": "stream",
     "text": [
      ".\n",
      "----------------------------------------------------------------------\n",
      "Prueba ejecutada en 0.001s\n",
      "\n",
      "OK\n"
     ]
    }
   ],
   "source": [
    "# Ejercicio 7.2\n",
    "\n",
    "reload(bloque)\n",
    "ejecutar_prueba(bloque.PruebaBloque('prueba_comprobar_pow'))"
   ]
  }
 ],
 "metadata": {
  "kernelspec": {
   "display_name": "Python 3",
   "language": "python",
   "name": "python3"
  },
  "language_info": {
   "codemirror_mode": {
    "name": "ipython",
    "versión": 3
   },
   "file_extension": ".py",
   "mimetype": "text/x-python",
   "name": "python",
   "nbconvert_exporter": "python",
   "pygments_lexer": "ipython3",
   "versión": "3.6.5"
  }
 },
 "nbformat": 4,
 "nbformat_minor": 2
}
