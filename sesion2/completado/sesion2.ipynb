{
 "cells": [
  {
   "cell_type": "code",
   "execution_count": 1,
   "metadata": {},
   "outputs": [],
   "source": [
    "# importa todo y define una función de ejecución de pruebas\n",
    "from importlib import reload\n",
    "from ayudante import ejecutar_prueba\n",
    "\n",
    "import cce\n",
    "import ayudante"
   ]
  },
  {
   "cell_type": "code",
   "execution_count": 2,
   "metadata": {},
   "outputs": [
    {
     "name": "stdout",
     "output_type": "stream",
     "text": [
      "True\n"
     ]
    }
   ],
   "source": [
    "# Ejemplo de verificación de curva\n",
    "\n",
    "primo = 137\n",
    "x, y = 73, 128\n",
    "\n",
    "print(y**2 % primo == (x**3 + 7) % primo)"
   ]
  },
  {
   "cell_type": "markdown",
   "metadata": {},
   "source": [
    "### Ejercicio 1\n",
    "\n",
    "#### 1.1. Encuentra qué puntos son válidos en la curva \\\\( y^2 = x^3 + 7: F_{223} \\\\)\n",
    "```\n",
    "(192,105), (17,56), (200,119), (1,193), (42,99)\n",
    "```\n",
    "#### 1.2. Escribe [esta prueba](/edit/sesión2/cce.py) usando los resultados anteriores\n",
    "```\n",
    "cce.py:PruebaCCE:prueba_en_curva\n",
    "```"
   ]
  },
  {
   "cell_type": "code",
   "execution_count": 3,
   "metadata": {},
   "outputs": [
    {
     "name": "stdout",
     "output_type": "stream",
     "text": [
      "(192,105) está en la curva\n",
      "(17,56) está en la curva\n",
      "(200,119) no está en la curva\n",
      "(1,193) no está en la curva\n",
      "(42,99) no está en la curva\n"
     ]
    }
   ],
   "source": [
    "# Ejercicio 1.1\n",
    "\n",
    "from cce import ElementoCampo, Punto\n",
    "\n",
    "primo = 223\n",
    "a = ElementoCampo(0, primo)\n",
    "b = ElementoCampo(7, primo)\n",
    "\n",
    "puntos = ((192,105), (17,56), (200,119), (1,193), (42,99))\n",
    "\n",
    "# iterar sobre puntos\n",
    "for x_bruto, y_bruto in puntos:\n",
    "    # Inicializa puntos así:\n",
    "    # x = ElementoCampo(x_bruto, primo)\n",
    "    # y = ElementoCampo(y_bruto, primo)\n",
    "    x = ElementoCampo(x_bruto, primo)\n",
    "    y = ElementoCampo(y_bruto, primo)\n",
    "    # intenta inicializar (try), RuntimeError significa que no está en la curva\n",
    "    # p = Punto(x, y, a, b)\n",
    "    try:\n",
    "        p = Punto(x, y, a, b)\n",
    "        print('({},{}) no está en la curva'.format(x_bruto, y_bruto))\n",
    "    except RuntimeError:\n",
    "        print('({},{}) no está en la curva'.format(x_bruto, y_bruto))"
   ]
  },
  {
   "cell_type": "code",
   "execution_count": 4,
   "metadata": {},
   "outputs": [
    {
     "name": "stderr",
     "output_type": "stream",
     "text": [
      ".\n",
      "----------------------------------------------------------------------\n",
      "Prueba ejecutada en 0.001s\n",
      "\n",
      "OK\n"
     ]
    }
   ],
   "source": [
    "# Ejercicio 1.2\n",
    "\n",
    "reload(cce)\n",
    "ejecutar_prueba(cce.PruebaCCE('prueba_en_curva'))"
   ]
  },
  {
   "cell_type": "code",
   "execution_count": 5,
   "metadata": {},
   "outputs": [
    {
     "name": "stdout",
     "output_type": "stream",
     "text": [
      "Punto(99,49)_137\n"
     ]
    }
   ],
   "source": [
    "# Ejemplo donde x1 != x2\n",
    "\n",
    "from cce import ElementoCampo, Punto\n",
    "\n",
    "primo = 137\n",
    "a = ElementoCampo(0, primo)\n",
    "b = ElementoCampo(7, primo)\n",
    "p1 = Punto(ElementoCampo(73, primo), ElementoCampo(128, primo), a, b)\n",
    "p2 = Punto(ElementoCampo(46, primo), ElementoCampo(22, primo), a, b)\n",
    "\n",
    "print(p1+p2)"
   ]
  },
  {
   "cell_type": "markdown",
   "metadata": {},
   "source": [
    "### Ejercicio 2\n",
    "\n",
    "#### 2.1. Encuentra las siguientes sumas de puntos sobre la curva  \\\\( y^2 = x^3 + 7: F_{223} \\\\)\n",
    "```\n",
    "(192,105) + (17,56), (47,71) + (117,141), (143,98) + (76,66)\n",
    "```\n",
    "\n",
    "#### 2.2. Escribe [esta prueba](/edit/sesión2/cce.py) usando los resultados anteriores\n",
    "```\n",
    "cce.py:PruebaCCE:prueba_suma1\n",
    "```"
   ]
  },
  {
   "cell_type": "code",
   "execution_count": 6,
   "metadata": {},
   "outputs": [
    {
     "name": "stdout",
     "output_type": "stream",
     "text": [
      "Punto(192,105)_223 + Punto(17,56)_223 = Punto(170,142)_223\n",
      "Punto(47,71)_223 + Punto(117,141)_223 = Punto(60,139)_223\n",
      "Punto(143,98)_223 + Punto(76,66)_223 = Punto(47,71)_223\n"
     ]
    }
   ],
   "source": [
    "# Ejercicio 2.1\n",
    "\n",
    "from cce import ElementoCampo, Punto\n",
    "\n",
    "primo = 223\n",
    "a = ElementoCampo(0, primo)\n",
    "b = ElementoCampo(7, primo)\n",
    "\n",
    "sumas = ((192, 105, 17, 56), (47, 71, 117, 141), (143, 98, 76, 66))\n",
    "\n",
    "# itera sobre las sumas a hacer\n",
    "for x1_bruto, y1_bruto, x2_bruto, y2_bruto in sumas:\n",
    "    # Inicializa los puntos así:\n",
    "    # x1 = ElementoCampo(x1_bruto, primo)\n",
    "    # y1 = ElementoCampo(y1_bruto, primo)\n",
    "    # p1 = Punto(x1, y1, a, b)\n",
    "    # x2 = ElementoCampo(x2_bruto, primo)\n",
    "    # y2 = ElementoCampo(y2_bruto, primo)\n",
    "    # p2 = Punto(x2, y2, a, b)\n",
    "    x1 = ElementoCampo(x1_bruto, primo)\n",
    "    y1 = ElementoCampo(y1_bruto, primo)\n",
    "    p1 = Punto(x1, y1, a, b)\n",
    "    x2 = ElementoCampo(x2_bruto, primo)\n",
    "    y2 = ElementoCampo(y2_bruto, primo)\n",
    "    p2 = Punto(x2, y2, a, b)\n",
    "    print('{} + {} = {}'.format(p1, p2, p1+p2))"
   ]
  },
  {
   "cell_type": "code",
   "execution_count": 7,
   "metadata": {},
   "outputs": [
    {
     "name": "stderr",
     "output_type": "stream",
     "text": [
      ".\n",
      "----------------------------------------------------------------------\n",
      "Prueba ejecutada en 0.001s\n",
      "\n",
      "OK\n"
     ]
    }
   ],
   "source": [
    "# Ejercicio 2.2\n",
    "\n",
    "reload(cce)\n",
    "ejecutar_prueba(cce.PruebaCCE('prueba_suma1'))"
   ]
  },
  {
   "cell_type": "code",
   "execution_count": 8,
   "metadata": {},
   "outputs": [
    {
     "name": "stdout",
     "output_type": "stream",
     "text": [
      "Punto(103,76)_137\n"
     ]
    }
   ],
   "source": [
    "# Ejemplo donde x1 != x2\n",
    "\n",
    "from cce import ElementoCampo, Punto\n",
    "\n",
    "primo = 137\n",
    "a = ElementoCampo(0, primo)\n",
    "b = ElementoCampo(7, primo)\n",
    "p = Punto(ElementoCampo(73, primo), ElementoCampo(128, primo), a, b)\n",
    "\n",
    "print(p+p)"
   ]
  },
  {
   "cell_type": "markdown",
   "metadata": {},
   "source": [
    "### Ejercicio 3\n",
    "\n",
    "#### 3.1. Encuentra las siguientes multiplicaciones escalares sobre la curva  \\\\( y^2 = x^3 + 7: F_{223} \\\\)\n",
    "```\n",
    "2*(192,105), 2*(143,98), 2*(47,71), 4*(47,71), 8*(47,71), 21*(47,71)\n",
    "```\n",
    "\n",
    "#### Pista: añade el punto a sí mismo n veces"
   ]
  },
  {
   "cell_type": "code",
   "execution_count": 9,
   "metadata": {},
   "outputs": [
    {
     "name": "stdout",
     "output_type": "stream",
     "text": [
      "Punto(49,71)_223\n",
      "Punto(64,168)_223\n",
      "Punto(36,111)_223\n",
      "Punto(194,51)_223\n",
      "Punto(116,55)_223\n",
      "Punto(infinito)\n"
     ]
    }
   ],
   "source": [
    "# Ejercicio 3.1\n",
    "\n",
    "from cce import ElementoCampo, Punto\n",
    "\n",
    "primo = 223\n",
    "a = ElementoCampo(0, primo)\n",
    "b = ElementoCampo(7, primo)\n",
    "\n",
    "multiplicaciones = ((2, 192, 105), (2, 143, 98), (2, 47, 71), (4, 47, 71), (8, 47, 71), (21, 47, 71))\n",
    "\n",
    "# iterar sobre las multiplicaciones\n",
    "for n, x_bruto, y_bruto in multiplicaciones:\n",
    "    # Inicializa puntos de esta manera:\n",
    "    # x = ElementoCampo(x_bruto, primo)\n",
    "    # y = ElementoCampo(y_bruto, primo)\n",
    "    # p = Punto(x, y, a, b)\n",
    "    x = ElementoCampo(x_bruto, primo)\n",
    "    y = ElementoCampo(y_bruto, primo)\n",
    "    p = Punto(x, y, a, b)\n",
    "    # comienza producto en 0 (punto en el infinito)\n",
    "    producto = Punto(None, None, a, b)\n",
    "    # haz un bucle n veces (n es 2, 4, 8 o 21 en los ejemplos de arriba)\n",
    "    for _ in range(n):\n",
    "        # añade el punto al producto\n",
    "        producto = producto + p\n",
    "    # imprime producto    \n",
    "    print(producto)"
   ]
  },
  {
   "cell_type": "code",
   "execution_count": 10,
   "metadata": {},
   "outputs": [
    {
     "name": "stdout",
     "output_type": "stream",
     "text": [
      "1:Punto(47,71)_223\n",
      "2:Punto(36,111)_223\n",
      "3:Punto(15,137)_223\n",
      "4:Punto(194,51)_223\n",
      "5:Punto(126,96)_223\n",
      "6:Punto(139,137)_223\n",
      "7:Punto(92,47)_223\n",
      "8:Punto(116,55)_223\n",
      "9:Punto(69,86)_223\n",
      "10:Punto(154,150)_223\n",
      "11:Punto(154,73)_223\n",
      "12:Punto(69,137)_223\n",
      "13:Punto(116,168)_223\n",
      "14:Punto(92,176)_223\n",
      "15:Punto(139,86)_223\n",
      "16:Punto(126,127)_223\n",
      "17:Punto(194,172)_223\n",
      "18:Punto(15,86)_223\n",
      "19:Punto(36,112)_223\n",
      "20:Punto(47,152)_223\n",
      "21:Punto(infinito)\n"
     ]
    }
   ],
   "source": [
    "# Ejemplo de Grupo\n",
    "\n",
    "from cce import ElementoCampo, Punto\n",
    "\n",
    "primo = 223\n",
    "a = ElementoCampo(0, primo)\n",
    "b = ElementoCampo(7, primo)\n",
    "G = Punto(ElementoCampo(47, primo), ElementoCampo(71, primo), a, b)\n",
    "inf = Punto(None, None, a, b)\n",
    "total = G\n",
    "conteo = 1\n",
    "\n",
    "while total != inf:\n",
    "    print('{}:{}'.format(conteo, total))\n",
    "    total += G\n",
    "    conteo += 1\n",
    "print('{}:{}'.format(conteo, total))"
   ]
  },
  {
   "cell_type": "markdown",
   "metadata": {},
   "source": [
    "### Ejercicio 4\n",
    "\n",
    "#### 4.1. Averigua de qué orden es el grupo generado por (15, 86) sobre  \\\\( y^2 = x^3 + 7: F_{223} \\\\)\n",
    "\n",
    "#### Pista: añade el punto a sí mismo hasta que obtengas el punto en el infinito\n",
    "\n",
    "#### 4.2 Escribe [esta prueba](/edit/sesión2/cce.py) usando los resultados anteriores\n",
    "```\n",
    "cce.py:PruebaCCE:prueba_rmul\n",
    "```"
   ]
  },
  {
   "cell_type": "code",
   "execution_count": 11,
   "metadata": {},
   "outputs": [
    {
     "name": "stdout",
     "output_type": "stream",
     "text": [
      "7\n"
     ]
    }
   ],
   "source": [
    "# Ejercicio 4.1\n",
    "\n",
    "from cce import ElementoCampo, Punto\n",
    "\n",
    "primo = 223\n",
    "a = ElementoCampo(0, primo)\n",
    "b = ElementoCampo(7, primo)\n",
    "\n",
    "x = ElementoCampo(15, primo)\n",
    "y = ElementoCampo(86, primo)\n",
    "p = Punto(x, y, a, b)\n",
    "inf = Punto(None, None, a, b)\n",
    "\n",
    "# inicializa el producto en el punto\n",
    "producto = p\n",
    "# empieza el contador en 1\n",
    "contador = 1\n",
    "# haz un bucle hasta que des con el punto en el infinito (0)\n",
    "while producto != inf:\n",
    "    # añade el punto al producto\n",
    "    producto += p\n",
    "    # aumenta el contador\n",
    "    contador += 1\n",
    "# imprime countador\n",
    "print(contador)"
   ]
  },
  {
   "cell_type": "code",
   "execution_count": 12,
   "metadata": {},
   "outputs": [
    {
     "name": "stderr",
     "output_type": "stream",
     "text": [
      ".\n",
      "----------------------------------------------------------------------\n",
      "Prueba ejecutada en 0.001s\n",
      "\n",
      "OK\n"
     ]
    }
   ],
   "source": [
    "# Ejercicio 4.2\n",
    "\n",
    "reload(cce)\n",
    "ejecutar_prueba(cce.PruebaCCE('prueba_rmul'))"
   ]
  },
  {
   "cell_type": "code",
   "execution_count": 13,
   "metadata": {},
   "outputs": [
    {
     "name": "stdout",
     "output_type": "stream",
     "text": [
      "True\n"
     ]
    }
   ],
   "source": [
    "# Confirmar que G está en la curva\n",
    "p = 2**256 - 2**32 - 977\n",
    "x = 0x79BE667EF9DCBBAC55A06295CE870B07029BFCDB2DCE28D959F2815B16F81798\n",
    "y = 0x483ADA7726A3C4655DA4FBFC0E1108A8FD17B448A68554199C47D08FFB10D4B8\n",
    "print(y**2 % p == (x**3 + 7) % p)"
   ]
  },
  {
   "cell_type": "code",
   "execution_count": 14,
   "metadata": {},
   "outputs": [
    {
     "name": "stdout",
     "output_type": "stream",
     "text": [
      "PuntoS256(infinito)\n"
     ]
    }
   ],
   "source": [
    "# Confirmar que el orden de G es N\n",
    "from cce import G\n",
    "\n",
    "n = 0xFFFFFFFFFFFFFFFFFFFFFFFFFFFFFFFEBAAEDCE6AF48A03BBFD25E8CD0364141\n",
    "print(n*G)"
   ]
  },
  {
   "cell_type": "code",
   "execution_count": 15,
   "metadata": {},
   "outputs": [
    {
     "name": "stdout",
     "output_type": "stream",
     "text": [
      "PuntoS256(9680241112d370b56da22eb535745d9e314380e568229e09f7241066003bc471,ddac2d377f03c201ffa0419d6596d10327d6c70313bb492ff495f946285d8f38)\n"
     ]
    }
   ],
   "source": [
    "# Obtener el punto público desde el secreto\n",
    "from cce import G\n",
    "\n",
    "secreto = 999\n",
    "punto = secreto*G\n",
    "print(punto)"
   ]
  },
  {
   "cell_type": "markdown",
   "metadata": {},
   "source": [
    "### Ejercicio 5\n",
    "\n",
    "#### 5.1. Obtén el punto público donde el escalar sea el siguiente:\n",
    "```\n",
    "7, 1485, 2**128, 2**240+2**31\n",
    "```\n",
    "\n",
    "#### 5.2. Haz que pase [esta prueba](/edit/sesión2/cce.py)\n",
    "```\n",
    "cce.py:PruebaS256:prueba_puntopub\n",
    "```"
   ]
  },
  {
   "cell_type": "code",
   "execution_count": 16,
   "metadata": {},
   "outputs": [
    {
     "name": "stdout",
     "output_type": "stream",
     "text": [
      "PuntoS256(5cbdf0646e5db4eaa398f365f2ea7a0e3d419b7e0330e39ce92bddedcac4f9bc,6aebca40ba255960a3178d6d861a54dba813d0b813fde7b5a5082628087264da)\n",
      "PuntoS256(c982196a7466fbbbb0e27a940b6af926c1a74d5ad07128c82824a11b5398afda,7a91f9eae64438afb9ce6448a1c133db2d8fb9254e4546b6f001637d50901f55)\n",
      "PuntoS256(8f68b9d2f63b5f339239c1ad981f162ee88c5678723ea3351b7b444c9ec4c0da,662a9f2dba063986de1d90c2b6be215dbbea2cfe95510bfdf23cbf79501fff82)\n",
      "PuntoS256(9577ff57c8234558f293df502ca4f09cbc65a6572c842b39b366f21717945116,10b49c67fa9365ad7b90dab070be339a1daf9052373ec30ffae4f72d5e66d053)\n"
     ]
    }
   ],
   "source": [
    "# Ejercicio 5.1\n",
    "\n",
    "from cce import G\n",
    "\n",
    "secretos = (7, 1485, 2**128, 2**240+2**31)\n",
    "\n",
    "# itera sobre secretos\n",
    "for secreto in secretos:\n",
    "    # obtén el punto público\n",
    "    print(secreto*G)"
   ]
  },
  {
   "cell_type": "code",
   "execution_count": 17,
   "metadata": {},
   "outputs": [
    {
     "name": "stderr",
     "output_type": "stream",
     "text": [
      ".\n",
      "----------------------------------------------------------------------\n",
      "Prueba ejecutada en 0.169s\n",
      "\n",
      "OK\n"
     ]
    }
   ],
   "source": [
    "# Ejercicio 5.2\n",
    "\n",
    "reload(cce)\n",
    "ejecutar_prueba(cce.PruebaS256('prueba_puntopub'))"
   ]
  },
  {
   "cell_type": "code",
   "execution_count": 18,
   "metadata": {},
   "outputs": [
    {
     "name": "stdout",
     "output_type": "stream",
     "text": [
      "045cbdf0646e5db4eaa398f365f2ea7a0e3d419b7e0330e39ce92bddedcac4f9bc6aebca40ba255960a3178d6d861a54dba813d0b813fde7b5a5082628087264da\n",
      "025cbdf0646e5db4eaa398f365f2ea7a0e3d419b7e0330e39ce92bddedcac4f9bc\n"
     ]
    }
   ],
   "source": [
    "# Ejemplo SEC\n",
    "\n",
    "from cce import PuntoS256\n",
    "\n",
    "punto = PuntoS256(0x5CBDF0646E5DB4EAA398F365F2EA7A0E3D419B7E0330E39CE92BDDEDCAC4F9BC, 0x6AEBCA40BA255960A3178D6D861A54DBA813D0B813FDE7B5A5082628087264DA)\n",
    "\n",
    "descomprimido = b'\\x04' + punto.x.num.to_bytes(32, 'big') + punto.y.num.to_bytes(32, 'big')\n",
    "print(descomprimido.hex())\n",
    "if punto.y.num % 2 == 1:\n",
    "    comprimido = b'\\x03' + punto.x.num.to_bytes(32, 'big')\n",
    "else:\n",
    "    comprimido = b'\\x02' + punto.x.num.to_bytes(32, 'big')\n",
    "print(comprimido.hex())"
   ]
  },
  {
   "cell_type": "markdown",
   "metadata": {},
   "source": [
    "#### Ejercicio 6\n",
    "\n",
    "#### 6.1. Obtén los formatos SEC comprimidos y descomprimidos para claves públicas donde las claves privadas sean:\n",
    "```\n",
    "999**3, 123, 42424242\n",
    "```\n",
    "\n",
    "#### 6.2. Haz que pase [esta prueba](/edit/sesión2/cce.py)\n",
    "```\n",
    "cce.py:PruebaS256:prueba_sec\n",
    "```"
   ]
  },
  {
   "cell_type": "code",
   "execution_count": 19,
   "metadata": {},
   "outputs": [
    {
     "name": "stdout",
     "output_type": "stream",
     "text": [
      "049d5ca49670cbe4c3bfa84c96a8c87df086c6ea6a24ba6b809c9de234496808d56fa15cc7f3d38cda98dee2419f415b7513dde1301f8643cd9245aea7f3f911f9\n",
      "039d5ca49670cbe4c3bfa84c96a8c87df086c6ea6a24ba6b809c9de234496808d5\n",
      "04a598a8030da6d86c6bc7f2f5144ea549d28211ea58faa70ebf4c1e665c1fe9b5204b5d6f84822c307e4b4a7140737aec23fc63b65b35f86a10026dbd2d864e6b\n",
      "03a598a8030da6d86c6bc7f2f5144ea549d28211ea58faa70ebf4c1e665c1fe9b5\n",
      "04aee2e7d843f7430097859e2bc603abcc3274ff8169c1a469fee0f20614066f8e21ec53f40efac47ac1c5211b2123527e0e9b57ede790c4da1e72c91fb7da54a3\n",
      "03aee2e7d843f7430097859e2bc603abcc3274ff8169c1a469fee0f20614066f8e\n"
     ]
    }
   ],
   "source": [
    "# Ejercicio 6.1\n",
    "\n",
    "from cce import G\n",
    "\n",
    "secretos = (999**3, 123, 42424242)\n",
    "\n",
    "# itera a través de los secretos\n",
    "for secreto in secretos:\n",
    "    # obtén el punto público\n",
    "    punto = secreto * G\n",
    "    # descomprimido - b'\\x04' seguido de una coordenada x, y después la y\n",
    "    # así deberías expresar una coordenada en bytes: some_integer.to_bytes(32, 'big')\n",
    "    descomprimido = b'\\x04' + punto.x.num.to_bytes(32, 'big') + punto.y.num.to_bytes(32, 'big')\n",
    "    # comprimido - b'\\x02'/b'\\x03' seguido de la coordenada x. 02 si y es par, 03 en otro caso\n",
    "    if punto.y.num % 2 == 1:\n",
    "        comprimido = b'\\x03' + punto.x.num.to_bytes(32, 'big')\n",
    "    else:\n",
    "        comprimido = b'\\x02' + punto.x.num.to_bytes(32, 'big')\n",
    "    # print the .hex() de ambos\n",
    "    print(descomprimido.hex())\n",
    "    print(comprimido.hex())"
   ]
  },
  {
   "cell_type": "code",
   "execution_count": 20,
   "metadata": {},
   "outputs": [
    {
     "name": "stderr",
     "output_type": "stream",
     "text": [
      ".\n",
      "----------------------------------------------------------------------\n",
      "Prueba ejecutada en 0.135s\n",
      "\n",
      "OK\n"
     ]
    }
   ],
   "source": [
    "# Ejercicio 6.2\n",
    "\n",
    "reload(cce)\n",
    "ejecutar_prueba(cce.PruebaS256('prueba_sec'))"
   ]
  },
  {
   "cell_type": "code",
   "execution_count": 21,
   "metadata": {},
   "outputs": [
    {
     "name": "stdout",
     "output_type": "stream",
     "text": [
      "b'19ZewH8Kk1PDbSNdJ97FP4EiCjTRaZMZQA'\n"
     ]
    }
   ],
   "source": [
    "# Ejemplo de dirección\n",
    "\n",
    "from ayudante import codificar_base58, hash160, doble_sha256\n",
    "sec = bytes.fromhex('025CBDF0646E5DB4EAA398F365F2EA7A0E3D419B7E0330E39CE92BDDEDCAC4F9BC')\n",
    "h160 = hash160(sec)\n",
    "bruto = b\"\\x00\" + h160\n",
    "bruto = raw + doble_sha256(bruto)[:4]\n",
    "dire = codificar_base58(bruto)\n",
    "print(dire)"
   ]
  },
  {
   "cell_type": "markdown",
   "metadata": {},
   "source": [
    "### Ejercicio 7\n",
    "\n",
    "#### 7.1. Encuentra las direcciones mainnet y testnet correspondientes a las siguientes claves privadas:\n",
    "```\n",
    "comprimido, 888**3\n",
    "descomprimido, 321\n",
    "descomprimido, 4242424242\n",
    "```\n",
    "\n",
    "#### 7.2. Haz que pase [esta_prueba](/edit/sesión2/cce.py)\n",
    "```\n",
    "cce.py:PruebaS256:prueba_dire\n",
    "```"
   ]
  },
  {
   "cell_type": "code",
   "execution_count": 22,
   "metadata": {},
   "outputs": [
    {
     "name": "stdout",
     "output_type": "stream",
     "text": [
      "148dY81A9BmdpMhvYEVznrM45kWN32vSCN\n",
      "mieaqB68xDCtbUBYFoUNcmZNwk74xcBfTP\n",
      "1S6g2xBJSED7Qr9CYZib5f4PYVhHZiVfj\n",
      "mfx3y63A7TfTtXKkv7Y6QzsPFY6QCBCXiP\n",
      "1226JSptcStqn4Yq9aAmNXdwdc2ixuH9nb\n",
      "mgY3bVusRUL6ZB2Ss999CSrGVbdRwVpM8s\n"
     ]
    }
   ],
   "source": [
    "# Ejercicio 7.1\n",
    "from cce import G\n",
    "\n",
    "from ayudante import doble_sha256, codificar_base58, hash160\n",
    "\n",
    "componentes = (\n",
    "    # (comprimido, secreto)\n",
    "    (True, 888**3),\n",
    "    (False, 321),\n",
    "    (False, 4242424242),\n",
    ")\n",
    "\n",
    "# itera a través de los componentes\n",
    "for comprimido, secreto in componentes:\n",
    "    # obtén el punto público\n",
    "    punto = secreto * G\n",
    "    # obtén el formato sec\n",
    "    sec = punto.sec(comprimido)\n",
    "    # hash160 el resultado\n",
    "    h160 = hash160(sec)\n",
    "    # antepón b'\\x00' para mainnet b'\\x6f' para testnet\n",
    "    for prefijo in (b'\\x00', b'\\x6f'):\n",
    "        # bruto es el prefijo + h160\n",
    "        bruto = prefijo + h160\n",
    "        # obtén el doble_sha256 de bruto, los primeros 4 bytes son el checksum\n",
    "        checksum = doble_sha256(bruto)[:4]\n",
    "        # añade checksum\n",
    "        total = bruto + checksum\n",
    "        # haz codificar_base58 a todo\n",
    "        print(codificar_base58(total).decode('ascii'))"
   ]
  },
  {
   "cell_type": "code",
   "execution_count": 23,
   "metadata": {},
   "outputs": [
    {
     "name": "stderr",
     "output_type": "stream",
     "text": [
      ".\n",
      "----------------------------------------------------------------------\n",
      "Prueba ejecutada en 0.135s\n",
      "\n",
      "OK\n"
     ]
    }
   ],
   "source": [
    "# Ejercicio 7.2\n",
    "\n",
    "reload(cce)\n",
    "ejecutar_prueba(cce.PruebaS256('prueba_dire'))"
   ]
  },
  {
   "cell_type": "markdown",
   "metadata": {},
   "source": [
    "### Ejercicio 8\n",
    "\n",
    "#### 8.1. Crea una dirección testnet usando tu propia clave secreta\n",
    "#### (utiliza tu número de teléfono si no se te ocurre nada)\n",
    "#### ¡Guárdate esta clave para mañana!"
   ]
  },
  {
   "cell_type": "code",
   "execution_count": 24,
   "metadata": {},
   "outputs": [
    {
     "name": "stdout",
     "output_type": "stream",
     "text": [
      "miKegze5FQNCnGw6PKyqUbYUeBa4x2hFeM\n"
     ]
    }
   ],
   "source": [
    "# Exercise 8.1\n",
    "from cce import G\n",
    "\n",
    "# utiliza tu número de teléfono si no se te ocurre nada\n",
    "secreto = 1800555555518005555555\n",
    "\n",
    "# obtén el punto público\n",
    "punto = secreto*G\n",
    "# Si completaste 7.2, emplea el método .address(testnet=True) sobre el punto público\n",
    "print(punto.dire(testnet=True))"
   ]
  }
 ],
 "metadata": {
  "kernelspec": {
   "display_name": "Python 3",
   "language": "python",
   "name": "python3"
  },
  "language_info": {
   "codemirror_mode": {
    "name": "ipython",
    "version": 3
   },
   "file_extension": ".py",
   "mimetype": "text/x-python",
   "name": "python",
   "nbconvert_exporter": "python",
   "pygments_lexer": "ipython3",
   "version": "3.5.2"
  }
 },
 "nbformat": 4,
 "nbformat_minor": 2
}
