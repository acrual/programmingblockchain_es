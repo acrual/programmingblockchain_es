{
 "cells": [
  {
   "cell_type": "code",
   "execution_count": null,
   "metadata": {},
   "outputs": [],
   "source": [
    "# importa todo y define una función para ejecutar pruebas\n",
    "from importlib import reload\n",
    "from ayudante import ejecutar_prueba\n",
    "\n",
    "import cce\n",
    "import ayudante"
   ]
  },
  {
   "cell_type": "code",
   "execution_count": null,
   "metadata": {},
   "outputs": [],
   "source": [
    "# Ejemplo de suma/resta\n",
    "\n",
    "print((11 + 6) % 19)\n",
    "print((17 - 11) % 19)\n",
    "print((8 + 14) % 19)\n",
    "print((4 - 12) % 19)"
   ]
  },
  {
   "cell_type": "markdown",
   "metadata": {},
   "source": [
    "### Ejercicio 1\n",
    "\n",
    "Recuerda que el operador % hace la operación módulo. Recuerda también que `+` y `-` necesitan estar entre `()` porque en el orden de operaciones `%` viene antes de `+` y `-`.\n",
    "\n",
    "#### 1.1. Resuelve estas ecuaciones en \\\\(F_{31}\\\\):\n",
    "\n",
    "```\n",
    "2+15=?\n",
    "17+21=?\n",
    "29-4=?\n",
    "15-30=?\n",
    "```\n",
    "\n",
    "#### 1.2. Haz que pasen [estos tests](/edit/sesión1/cee.py):\n",
    "```\n",
    "cce.py:PruebaElementoCampo:prueba_sumar\n",
    "cce.py:PruebaElementoCampo:prueba_restar\n",
    "```"
   ]
  },
  {
   "cell_type": "code",
   "execution_count": null,
   "metadata": {},
   "outputs": [],
   "source": [
    "# Ejercicio 1.1\n",
    "\n",
    "# Recuerda que % es el operador de módulo\n",
    "primo = 31\n",
    "# 2+15=?\n",
    "# 17+21=?\n",
    "# 29-4=?\n",
    "# 15-30=?\n"
   ]
  },
  {
   "cell_type": "code",
   "execution_count": null,
   "metadata": {},
   "outputs": [],
   "source": [
    "# Ejercicio 1.2\n",
    "\n",
    "reload(cce)\n",
    "ejecutar_prueba(cce.PruebaElementoCampo('prueba_sumar'))\n",
    "ejecutar_prueba(cce.PruebaElementoCampo('prueba_restar'))"
   ]
  },
  {
   "cell_type": "code",
   "execution_count": null,
   "metadata": {},
   "outputs": [],
   "source": [
    "# Ejemplo de multiplicación/exponenciación\n",
    "\n",
    "print(2 * 4 % 19)\n",
    "print(7 * 3 % 19)\n",
    "print(11 ** 3 % 19)\n",
    "print(pow(11, 3, 19))"
   ]
  },
  {
   "cell_type": "markdown",
   "metadata": {},
   "source": [
    "### Ejercicio 2\n",
    "\n",
    "#### 2.1. Resuelve estas ecuaciones en \\\\(F_{31}\\\\):\n",
    "\n",
    "\\\\(24\\cdot19=?\\\\)\n",
    "\n",
    "\\\\(17^3=?\\\\)\n",
    "\n",
    "\\\\(5^5\\cdot18=?\\\\)\n",
    "\n",
    "#### 2.2. Escribe un programa para calcular \\\\(0k, 1k, 2k, 3k, ... 30k\\\\) para un k en \\\\(F_{31}\\\\).  ¿Notas algo en estos conjuntos?\n",
    "\n",
    "#### 2.3. Haz que pasen [estas pruebas](/edit/sesión1/cce.py):\n",
    "```\n",
    "cce.py:PruebaElementoCampo:prueba_mul\n",
    "cce.py:PruebaElementoCampo:prueba_pow\n",
    "```\n",
    "\n",
    "#### Bonus. Escribe un programa para calcular \\\\(k^{30}\\\\) para todos los k en \\\\(F_{31}\\\\). ¿Notas algo?"
   ]
  },
  {
   "cell_type": "code",
   "execution_count": null,
   "metadata": {},
   "outputs": [],
   "source": [
    "# Ejercicio 2.1\n",
    "\n",
    "# recuerda que ** es el operador para calcular el exponente\n",
    "primo = 31\n",
    "# 24*19=?\n",
    "# 17^3=?\n",
    "# 5^5*18=?"
   ]
  },
  {
   "cell_type": "code",
   "execution_count": null,
   "metadata": {},
   "outputs": [],
   "source": [
    "# Ejercicio 2.2\n",
    "\n",
    "from random import randint\n",
    "\n",
    "primo = 31\n",
    "k = randint(1,primo)\n",
    "\n",
    "# usa range(primo) para iterar por todos los números del 0 al 30 ambos incluidos"
   ]
  },
  {
   "cell_type": "code",
   "execution_count": null,
   "metadata": {},
   "outputs": [],
   "source": [
    "# Ejercicio 2.3\n",
    "\n",
    "reload(cce)\n",
    "ejecutar_prueba(cce.PruebaElementoCampo('prueba_mul'))\n",
    "ejecutar_prueba(cce.PruebaElementoCampo('prueba_pow'))"
   ]
  },
  {
   "cell_type": "code",
   "execution_count": null,
   "metadata": {},
   "outputs": [],
   "source": [
    "# Bonus\n",
    "\n",
    "primo = 31\n",
    "\n",
    "# usa range(1, primo) para iterar por todos los números del 1 al 30 ambos incluidos"
   ]
  },
  {
   "cell_type": "code",
   "execution_count": null,
   "metadata": {},
   "outputs": [],
   "source": [
    "# Ejemplo de división\n",
    "\n",
    "print(2 * 3**17 % 19)\n",
    "print(2 * pow(3, 17, 19) % 19)\n",
    "print(3 * 15**17 % 19)\n",
    "print(3 * pow(15, 17, 19) % 19)"
   ]
  },
  {
   "cell_type": "markdown",
   "metadata": {},
   "source": [
    "### Ejercicio 3\n",
    "\n",
    "#### 3.1. Resuelve estas ecuaciones en \\\\(F_{31}\\\\):\n",
    "\n",
    "\\\\(3/24 = ?\\\\)\n",
    "\n",
    "\\\\(17^{-3} = ?\\\\)\n",
    "\n",
    "\\\\(4^{-4}\\cdot{11} = ?\\\\)\n",
    "\n",
    "#### 3.2. Haz que pasen [estas pruebas](/edit/sesión1/cce.py):\n",
    "\n",
    "```\n",
    "cce.py:PruebaElementoCampo:prueba_div\n",
    "```"
   ]
  },
  {
   "cell_type": "code",
   "execution_count": null,
   "metadata": {},
   "outputs": [],
   "source": [
    "# Ejercicio 3.1\n",
    "\n",
    "# recuerda que pow(x, p-2, p) es lo mismo que 1/x en F_p\n",
    "primo = 31\n",
    "# 3/24 = ?\n",
    "# 17^(-3) = ?\n",
    "# 4^(-4)*11 = ?"
   ]
  },
  {
   "cell_type": "code",
   "execution_count": null,
   "metadata": {},
   "outputs": [],
   "source": [
    "# Ejercicio 3.2\n",
    "\n",
    "reload(cce)\n",
    "ejecutar_prueba(cce.PruebaElementoCampo('prueba_div'))\n",
    "\n",
    "# Pista: el método __pow__ necesita un número positivo en el exponente.\n",
    "# Puedes hacer mod por p-1"
   ]
  },
  {
   "cell_type": "code",
   "execution_count": null,
   "metadata": {},
   "outputs": [],
   "source": [
    "# Ejemplo de curva elíptica\n",
    "\n",
    "x, y = -1, -1\n",
    "\n",
    "print(y**2 == x**3 + 5*x + 7)"
   ]
  },
  {
   "cell_type": "markdown",
   "metadata": {},
   "source": [
    "### Ejercicio 4\n",
    "\n",
    "#### 4.1. Para la curva \\\\(y^2 = x^3 + 5x + 7\\\\), ¿cuáles de estos puntos están en la curva?\n",
    "\n",
    "\\\\((-2,4), (3,7), (18,77)\\\\)\n",
    "\n",
    "#### 4.2. Haz que pase [esta prueba](/edit/sesión1/cce.py)\n",
    "```\n",
    "cce.py:PruebaPunto:prueba_en_curva\n",
    "```"
   ]
  },
  {
   "cell_type": "code",
   "execution_count": null,
   "metadata": {},
   "outputs": [],
   "source": [
    "# Ejercicio 4.1\n",
    "\n",
    "# (-2,4), (3,7), (18,77)\n",
    "# La ecuación en python es: y**2 == x**3 + 5*x + 7\n",
    "\n",
    "puntos = ((-2,4), (3,7), (18,77))\n",
    "\n",
    "#for x, y in puntos:\n",
    "    # determina si (x,y) están en la curva"
   ]
  },
  {
   "cell_type": "code",
   "execution_count": null,
   "metadata": {},
   "outputs": [],
   "source": [
    "# Ejercicio 4.2\n",
    "\n",
    "reload(cce)\n",
    "ejecutar_prueba(cce.PruebaPunto('prueba_en_curva'))"
   ]
  },
  {
   "cell_type": "markdown",
   "metadata": {},
   "source": [
    "### Ejercicio 5\n",
    "\n",
    "#### 5.1. Haz que pasen [esta prueba](/edit/sesión1/cce.py)\n",
    "```\n",
    "cce.py:PruebaPunto:prueba_suma0\n",
    "```"
   ]
  },
  {
   "cell_type": "code",
   "execution_count": null,
   "metadata": {},
   "outputs": [],
   "source": [
    "# Ejercicio 5.1\n",
    "\n",
    "reload(cce)\n",
    "ejecutar_prueba(cce.PruebaPunto('prueba_suma0'))"
   ]
  },
  {
   "cell_type": "code",
   "execution_count": null,
   "metadata": {},
   "outputs": [],
   "source": [
    "# Ejemplo de suma de puntos donde x1 != x2\n",
    "\n",
    "x1, y1 = (2, 5)\n",
    "x2, y2 = (3, 7)\n",
    "s = (y2-y1)/(x2-x1)\n",
    "x3 = s**2 - x2 - x1\n",
    "y3 = s*(x1-x3)-y1\n",
    "print(x3, y3)"
   ]
  },
  {
   "cell_type": "markdown",
   "metadata": {},
   "source": [
    "### Ejercicio 6\n",
    "\n",
    "#### 6.1. Para la curva \\\\(y^2 = x^3 + 5x + 7\\\\), qué es \\\\((2,5) + (-1,-1)\\\\)?\n",
    "\n",
    "#### 6.2. Haz que pase [esta prueba](/edit/session1/ecc.py)\n",
    "```\n",
    "cce.py:PruebaPunto:prueba_suma1\n",
    "```"
   ]
  },
  {
   "cell_type": "code",
   "execution_count": null,
   "metadata": {},
   "outputs": [],
   "source": [
    "# Ejercicio 6.1\n",
    "\n",
    "x1, y1 = (2,5)\n",
    "x2, y2 = (-1,-1)\n",
    "# fórmula en python:\n",
    "# s = (y2-y1)/(x2-x1)\n",
    "# x3 = s**2 - x2 - x1\n",
    "# y3 = s*(x1-x3)-y1"
   ]
  },
  {
   "cell_type": "code",
   "execution_count": null,
   "metadata": {},
   "outputs": [],
   "source": [
    "# Ejercicio 6.2\n",
    "\n",
    "reload(cce)\n",
    "ejecutar_prueba(cce.PruebaPunto('prueba_suma1'))"
   ]
  },
  {
   "cell_type": "code",
   "execution_count": null,
   "metadata": {},
   "outputs": [],
   "source": [
    "# Ejemplo de suma de puntos donde x1 = x2\n",
    "\n",
    "a = 5\n",
    "x1, y1 = (2, 5)\n",
    "s = (3*x1**2+a)/(2*y1)\n",
    "x3 = s**2 - 2*x1\n",
    "y3 = s*(x1-x3) - y1\n",
    "print(x3, y3)"
   ]
  },
  {
   "cell_type": "markdown",
   "metadata": {},
   "source": [
    "### Ejercicio 7\n",
    "\n",
    "#### 7.1. Para la curva \\\\(y^2 = x^3 + 5x + 7\\\\), ¿qué es \\\\((-1,1) + (-1,1)\\\\)?\n",
    "\n",
    "#### 7.2. Haz que pase [esta prueba](/edit/session1/ecc.py) pass\n",
    "```\n",
    "cce.py:PruebaPunto:prueba_suma2\n",
    "```"
   ]
  },
  {
   "cell_type": "code",
   "execution_count": null,
   "metadata": {},
   "outputs": [],
   "source": [
    "# Ejercicio 7.1\n",
    "\n",
    "a, b = 5, 7\n",
    "x1, y1 = -1, -1\n",
    "\n",
    "# fórmula en python\n",
    "# s = (3*x1**2+a)/(2*y1)\n",
    "# x3 = s**2 - 2*x1\n",
    "# y3 = s*(x1-x3) - y1"
   ]
  },
  {
   "cell_type": "code",
   "execution_count": null,
   "metadata": {},
   "outputs": [],
   "source": [
    "# Ejercicio 7.2\n",
    "\n",
    "reload(cce)\n",
    "ejecutar_prueba(cce.PruebaPunto('prueba_suma2'))"
   ]
  },
  {
   "cell_type": "code",
   "execution_count": null,
   "metadata": {},
   "outputs": [],
   "source": []
  }
 ],
 "metadata": {
  "kernelspec": {
   "display_name": "Python 3",
   "language": "python",
   "name": "python3"
  },
  "language_info": {
   "codemirror_mode": {
    "name": "ipython",
    "version": 3
   },
   "file_extension": ".py",
   "mimetype": "text/x-python",
   "name": "python",
   "nbconvert_exporter": "python",
   "pygments_lexer": "ipython3",
   "version": "3.6.5"
  }
 },
 "nbformat": 4,
 "nbformat_minor": 2
}
