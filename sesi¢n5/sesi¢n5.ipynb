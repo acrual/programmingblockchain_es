{
 "cells": [
  {
   "cell_type": "code",
   "execution_count": 1,
   "metadata": {},
   "outputs": [],
   "source": [
    "# importa todo y define una función de ejecución de pruebas\n",
    "from importlib import reload\n",
    "from ayudante import ejecutar_prueba\n",
    "\n",
    "import cce\n",
    "import ayudante\n",
    "import script\n",
    "import tx"
   ]
  },
  {
   "cell_type": "markdown",
   "metadata": {},
   "source": [
    "### Ejercicio 1\n",
    "\n",
    "#### 1.1. Haz que pase [esta prueba](/edit/sesión5/tx.py)\n",
    "```\n",
    "tx.py:PruebaTx::prueba_verificar_input\n",
    "```"
   ]
  },
  {
   "cell_type": "code",
   "execution_count": 2,
   "metadata": {},
   "outputs": [
    {
     "name": "stderr",
     "output_type": "stream",
     "text": [
      "E\n",
      "======================================================================\n",
      "ERROR: prueba_verificar_input (tx.PruebaTx)\n",
      "----------------------------------------------------------------------\n",
      "Traceback (most recent call last):\n",
      "  File \"C:\\Users\\adolfo\\Documents\\Programar\\ProgrammingBlockchain\\pruebas-pb2\\sesión5\\tx.py\", line 413, in prueba_verificar_input\n",
      "    self.assertTrue(tx.verificar_input(0))\n",
      "  File \"C:\\Users\\adolfo\\Documents\\Programar\\ProgrammingBlockchain\\pruebas-pb2\\sesión5\\tx.py\", line 150, in verificar_input\n",
      "    z = self.sig_hash(indice_input, tipo_hash)\n",
      "  File \"C:\\Users\\adolfo\\Documents\\Programar\\ProgrammingBlockchain\\pruebas-pb2\\sesión5\\tx.py\", line 133, in sig_hash\n",
      "    res = alt_tx.serializar() + int_a_little_endian(tipo_hash, 4)\n",
      "  File \"C:\\Users\\adolfo\\Documents\\Programar\\ProgrammingBlockchain\\pruebas-pb2\\sesión5\\ayudante.py\", line 39, in int_a_little_endian\n",
      "    return n.to_bytes(long, 'little')\n",
      "AttributeError: 'bytes' object has no attribute 'to_bytes'\n",
      "\n",
      "----------------------------------------------------------------------\n",
      "Prueba ejecutada en 0.269s\n",
      "\n",
      "FAILED (errors=1)\n"
     ]
    }
   ],
   "source": [
    "# Ejercicio 1.1\n",
    "\n",
    "reload(tx)\n",
    "ejecutar_prueba(tx.PruebaTx('prueba_verificar_input'))"
   ]
  },
  {
   "cell_type": "code",
   "execution_count": null,
   "metadata": {},
   "outputs": [],
   "source": [
    "# Ejemplo de construcción de transacción\n",
    "\n",
    "from cce import ClavePrivada\n",
    "from ayudante import decodificar_base58, SIGHASH_ALL\n",
    "from script import script_p2pkh, Script\n",
    "from tx import TxIn, TxOut, Tx\n",
    "\n",
    "# Paso 1\n",
    "tx_ins = []\n",
    "tx_previa = bytes.fromhex('8be2f69037de71e3bc856a6627ed3e222a7a2d0ce81daeeb54a3aea8db274149')\n",
    "indice_previo = 4\n",
    "tx_ins.append(TxIn(\n",
    "            tx_previa=tx_previa,\n",
    "            indice_previo=indice_previo,\n",
    "            script_sig=Script([]),\n",
    "            sequence=0xffffffff,\n",
    "        ))\n",
    "\n",
    "# Paso 2\n",
    "tx_outs = []\n",
    "h160 = decodificar_base58('mzx5YhAH9kNHtcN481u6WkjeHjYtVeKVh2')\n",
    "tx_outs.append(TxOut(\n",
    "    cantidad=int(0.38*100000000),\n",
    "    script_pubkey=script_p2pkh(h160),\n",
    "))\n",
    "h160 = decodificar_base58('mnrVtF8DWjMu839VW3rBfgYaAfKk8983Xf')\n",
    "tx_outs.append(TxOut(\n",
    "    cantidad=int(0.1*100000000),\n",
    "    script_pubkey=script_p2pkh(h160),\n",
    "))\n",
    "tx_obj = Tx(versión=1, tx_ins=tx_ins, tx_outs=tx_outs, locktime=0, testnet=True)\n",
    "\n",
    "# Paso 3\n",
    "tipo_hash = SIGHASH_ALL\n",
    "z = tx_obj.sig_hash(0, tipo_hash)\n",
    "pk = ClavePrivada(secreto=8675309)\n",
    "der = pk.firmar(z).der()\n",
    "firma = der + tipo_hash.to_bytes(1, 'big')\n",
    "sec = pk.punto.sec()\n",
    "tx_obj.tx_ins[0].script_sig = Script([firma, sec])\n",
    "print(tx_obj.serializar().hex())"
   ]
  },
  {
   "cell_type": "markdown",
   "metadata": {},
   "source": [
    "### Ejercicio 2\n",
    "\n",
    "#### 2.1. Haz que pase [esta prueba](/edit/sesión5/tx.py)\n",
    "```\n",
    "tx.py:PruebaTx:prueba_firmar_input\n",
    "```"
   ]
  },
  {
   "cell_type": "code",
   "execution_count": null,
   "metadata": {},
   "outputs": [],
   "source": [
    "# Ejercicio 2.1\n",
    "\n",
    "reload(tx)\n",
    "ejecutar_prueba(tx.PruebaTx('prueba_firmar_input'))"
   ]
  },
  {
   "cell_type": "markdown",
   "metadata": {},
   "source": [
    "### Ejercicio 3\n",
    "\n",
    "#### 3.1. Envía 0.04 TBTC a esta dirección \n",
    "\n",
    "`mwJn1YPMq7y5F8J3LkC5Hxg9PHyZ5K4cFv`\n",
    "\n",
    "#### Ve aquí para enviar tu transacción: https://testnet.blockchain.info/pushtx\n",
    "\n",
    "#### Bonus. Obtén algunas monedas testnet y gástate ambos outputs (uno desde tu dirección de cambio y otro desde el grifo/faucet testnet) en \n",
    "\n",
    "`mwJn1YPMq7y5F8J3LkC5Hxg9PHyZ5K4cFv`\n",
    "\n",
    "#### Puedes obtener algunas monedas testnet gratis en: https://testnet.coinfaucet.eu/en/"
   ]
  },
  {
   "cell_type": "code",
   "execution_count": null,
   "metadata": {},
   "outputs": [],
   "source": [
    "# Ejercicio 3.1\n",
    "\n",
    "from cce import ClavePrivada\n",
    "from ayudante import decodificar_base58, SIGHASH_ALL\n",
    "from script import script_p2pkh, Script\n",
    "from tx import TxIn, TxOut, Tx\n",
    "\n",
    "tx_previa = bytes.fromhex('<RELLENA ESTO>')\n",
    "indice_previo = -1  # RELLENA ESTO\n",
    "dire_destino = 'mwJn1YPMq7y5F8J3LkC5Hxg9PHyZ5K4cFv'\n",
    "cantidad_destino = 0.04\n",
    "dire_cambio = '<rellena esto>'\n",
    "cantidad_cambio = -1  # figure this out (0.1 - 0.04 - comisión)\n",
    "secreto = -1  # RELLENA ESTO\n",
    "priv = ClavePrivada(secretO=secretO)\n",
    "\n",
    "# inicializa inputs\n",
    "# crea un nuevo tx input con tx_previa, indice_previo, script_sig en blanco y máx sequence\n",
    "\n",
    "# inicializa outputs\n",
    "# decodificar el hash160 desde la dirección destino\n",
    "# convierte hash160 a script p2pkh\n",
    "# convierte la cnatidad destino a satoshis (multiplica por 100 millones)\n",
    "# crea un nuevo output tx para el destino con cantidad y script_pubkey\n",
    "# decodifica el hash160 desde la dirección de cambio\n",
    "# convierte hash160 a script p2pkh\n",
    "# convierte la cantidad de cambio a satoshis (multiplica por 100 millones)\n",
    "# crea un nuevo tx output para el destino con cantidad y script_pubkey\n",
    "\n",
    "# crea la transacción\n",
    "\n",
    "# ahora firma el input num 0 con la clave privada usando SIGHASH_ALL usando firmar_input\n",
    "\n",
    "# COMPROBACIÓN: la dirección de cambio corresponde a la clave privada\n",
    "if priv.punto.dire(testnet=True) != dire_cambio:\n",
    "    raise RuntimeError('La Clave Privada no se corresponde a la dirección de cambio, comprueba clave_privada y dire_cambio')\n",
    "\n",
    "# SANITY CHECK: output's script_pubkey is the same one as your dire\n",
    "if tx_ins[0].script_pubkey(testnet=True).cosas[2] != decodificar_base58(dire_cambio):\n",
    "    raise RuntimeError('El output no es algo que puedas gastarte con esta clave privada. Comprueba que la tx_previa e indice_previo son correctos')\n",
    "\n",
    "# COMPROBACIÓN: la comisión es razonable\n",
    "if tx_obj.comisión() > 0.05*100000000 or tx_obj.comisión() <= 0:\n",
    "    raise RuntimeError('Comprueba que la cantidad de cambio es razonable. La comisión es {}'.format(tx_obj.comisión()))\n",
    "\n",
    "# serializa y hex()\n",
    "\n",
    "# AHORA VE Y PEGA ESTO EN EL BLOCK EXPLORER PARA RETRANSMITIR"
   ]
  },
  {
   "cell_type": "code",
   "execution_count": null,
   "metadata": {},
   "outputs": [],
   "source": [
    "# Bonus\n",
    "\n",
    "from cce import ClavePrivada\n",
    "from ayudante import decodificar_base58, SIGHASH_ALL\n",
    "from script import script_p2pkh, Script\n",
    "from tx import TxIn, TxOut, Tx\n",
    "\n",
    "tx_previa_1 = bytes.fromhex('<RELLENA ESTO>')\n",
    "indice_previo_1 = -1  # RELLENA ESTO\n",
    "tx_previa_2 = bytes.fromhex('<RELLENA ESTO')\n",
    "indice_previo_2 = -1  # RELLENA ESTO\n",
    "dire_destino = 'mwJn1YPMq7y5F8J3LkC5Hxg9PHyZ5K4cFv'\n",
    "cantidad_destino = -1  # RELLENA ESTO\n",
    "secreto = -1  # RELLENA ESTO\n",
    "priv = ClavePrivada(secreto=secreto)\n",
    "\n",
    "# inicializa los inputs\n",
    "# crea el primer tx input con tx_previa_1, indice_previo_1, script_sig en blanco y máx sequence\n",
    "# crea un segundo tx input con tx_previa_2, indice_previo_2, script_sig en blanco y máx sequence\n",
    "\n",
    "# inicializa los outputs\n",
    "# decodifica el hash160 desde la dirección de destino\n",
    "# convierte hash160 a script p2pkh\n",
    "# convierte la cantidad de destino a satoshis (multiplica por 100 millones)\n",
    "# crea un único tx output para el destino con la cantidad y script_pubkey\n",
    "\n",
    "# crea la transacción\n",
    "\n",
    "# firma ambos inputs con la clave privada usando SIGHASH_ALL usando firmar_input\n",
    "\n",
    "# COMPROBACIÓN: el script_pubkey del output es el mismo que tu dirección\n",
    "if tx_ins[0].script_pubkey(testnet=True).cosas[2] != decodificar_base58(priv.punto.dire(testnet=True)):\n",
    "    raise RuntimeError('El output no te lo puedes gastar con esta clave privada. Comprueba que tx_previa e indice_previo son correctos')\n",
    "\n",
    "# COMPROBACIÓN: la comisión es razonable\n",
    "if tx_obj.comisión() > 0.05*100000000 or tx_obj.comisión() <= 0:\n",
    "    raise RuntimeError('Comprueba que la cantidad de cambio es razonable. La comisión es {}'.format(tx_obj.comisión()))\n",
    "\n",
    "# serializa y hex()\n",
    "\n",
    "# RETRANSMITE"
   ]
  },
  {
   "cell_type": "markdown",
   "metadata": {},
   "source": [
    "### Ejercicio 4\n",
    "\n",
    "#### 4.1. Encuentra el hash160 del RedeemScript\n",
    "```\n",
    "5221022626e955ea6ea6d98850c994f9107b036b1334f18ca8830bfff1295d21cfdb702103b287eaf122eea69030a0e9feed096bed8045c8b98bec453e1ffac7fbdbd4bb7152ae\n",
    "```"
   ]
  },
  {
   "cell_type": "code",
   "execution_count": null,
   "metadata": {},
   "outputs": [],
   "source": [
    "# Ejercicio 4.1\n",
    "\n",
    "from ayudante import hash160\n",
    "\n",
    "hex_redeem_script = '5221022626e955ea6ea6d98850c994f9107b036b1334f18ca8830bfff1295d21cfdb702103b287eaf122eea69030a0e9feed096bed8045c8b98bec453e1ffac7fbdbd4bb7152ae'\n",
    "\n",
    "# bytes.fromhex script\n",
    "# hash160 el result\n",
    "# hex() para mostrar"
   ]
  },
  {
   "cell_type": "code",
   "execution_count": null,
   "metadata": {},
   "outputs": [],
   "source": [
    "# Ejemplo de construcción de dirección\n",
    "\n",
    "from ayudante import codificar_base58_checksum\n",
    "\n",
    "print(codificar_base58_checksum(b'\\x05'+bytes.fromhex('74d691da1574e6b3c192ecfb52cc8984ee7b6c56')))"
   ]
  },
  {
   "cell_type": "markdown",
   "metadata": {},
   "source": [
    "### Ejercicio 5\n",
    "\n",
    "#### 5.1. Haz que pasen [estas pruebas](/edit/sesión5/ayudante.py)\n",
    "```\n",
    "ayudante.py:PruebaAyudante:prueba_dire_p2pkh\n",
    "ayudante.py:PruebaAyudante:prueba_dire_p2sh\n",
    "```"
   ]
  },
  {
   "cell_type": "code",
   "execution_count": null,
   "metadata": {},
   "outputs": [],
   "source": [
    "# Ejercicio 5.1\n",
    "\n",
    "reload(ayudante)\n",
    "ejecutar_prueba(ayudante.PruebaAyudante('prueba_dire_p2pkh'))\n",
    "ejecutar_prueba(ayudante.PruebaAyudante('prueba_dire_p2sh'))"
   ]
  },
  {
   "cell_type": "code",
   "execution_count": null,
   "metadata": {},
   "outputs": [],
   "source": [
    "# ejemplo z para p2sh\n",
    "\n",
    "from ayudante import doble_sha256\n",
    "\n",
    "sha = doble_sha256(bytes.fromhex('0100000001868278ed6ddfb6c1ed3ad5f8181eb0c7a385aa0836f01d5e4789e6bd304d87221a000000475221022626e955ea6ea6d98850c994f9107b036b1334f18ca8830bfff1295d21cfdb702103b287eaf122eea69030a0e9feed096bed8045c8b98bec453e1ffac7fbdbd4bb7152aeffffffff04d3b11400000000001976a914904a49878c0adfc3aa05de7afad2cc15f483a56a88ac7f400900000000001976a914418327e3f3dda4cf5b9089325a4b95abdfa0334088ac722c0c00000000001976a914ba35042cfe9fc66fd35ac2224eebdafd1028ad2788acdc4ace020000000017a91474d691da1574e6b3c192ecfb52cc8984ee7b6c56870000000001000000'))\n",
    "z = int.from_bytes(sha, 'big')\n",
    "                    \n",
    "print(hex(z))"
   ]
  },
  {
   "cell_type": "code",
   "execution_count": null,
   "metadata": {},
   "outputs": [],
   "source": [
    "# ejemlo de verificación p2sh\n",
    "\n",
    "from cce import PuntoS256, Firma\n",
    "from ayudante import doble_sha256\n",
    "\n",
    "sha = doble_sha256(bytes.fromhex('0100000001868278ed6ddfb6c1ed3ad5f8181eb0c7a385aa0836f01d5e4789e6bd304d87221a000000475221022626e955ea6ea6d98850c994f9107b036b1334f18ca8830bfff1295d21cfdb702103b287eaf122eea69030a0e9feed096bed8045c8b98bec453e1ffac7fbdbd4bb7152aeffffffff04d3b11400000000001976a914904a49878c0adfc3aa05de7afad2cc15f483a56a88ac7f400900000000001976a914418327e3f3dda4cf5b9089325a4b95abdfa0334088ac722c0c00000000001976a914ba35042cfe9fc66fd35ac2224eebdafd1028ad2788acdc4ace020000000017a91474d691da1574e6b3c192ecfb52cc8984ee7b6c56870000000001000000'))\n",
    "z = int.from_bytes(sha, 'big')\n",
    "punto = PuntoS256.parsear(bytes.fromhex('022626e955ea6ea6d98850c994f9107b036b1334f18ca8830bfff1295d21cfdb70'))\n",
    "firma = Firma.parsear(bytes.fromhex('3045022100dc92655fe37036f47756db8102e0d7d5e28b3beb83a8fef4f5dc0559bddfb94e02205a36d4e4e6c7fcd16658c50783e00c341609977aed3ad00937bf4ee942a89937'))\n",
    "print(punto.verificar(z, firma))"
   ]
  },
  {
   "cell_type": "markdown",
   "metadata": {},
   "source": [
    "### Ejercicio 6\n",
    "\n",
    "#### 6.1. Valida la segunda firma del primer input\n",
    "\n",
    "```\n",
    "0100000001868278ed6ddfb6c1ed3ad5f8181eb0c7a385aa0836f01d5e4789e6bd304d87221a000000db00483045022100dc92655fe37036f47756db8102e0d7d5e28b3beb83a8fef4f5dc0559bddfb94e02205a36d4e4e6c7fcd16658c50783e00c341609977aed3ad00937bf4ee942a8993701483045022100da6bee3c93766232079a01639d07fa869598749729ae323eab8eef53577d611b02207bef15429dcadce2121ea07f233115c6f09034c0be68db99980b9a6c5e75402201475221022626e955ea6ea6d98850c994f9107b036b1334f18ca8830bfff1295d21cfdb702103b287eaf122eea69030a0e9feed096bed8045c8b98bec453e1ffac7fbdbd4bb7152aeffffffff04d3b11400000000001976a914904a49878c0adfc3aa05de7afad2cc15f483a56a88ac7f400900000000001976a914418327e3f3dda4cf5b9089325a4b95abdfa0334088ac722c0c00000000001976a914ba35042cfe9fc66fd35ac2224eebdafd1028ad2788acdc4ace020000000017a91474d691da1574e6b3c192ecfb52cc8984ee7b6c568700000000\n",
    "```\n",
    "\n",
    "La pubkey sec de la segunda firma es:\n",
    "```\n",
    "03b287eaf122eea69030a0e9feed096bed8045c8b98bec453e1ffac7fbdbd4bb71\n",
    "```\n",
    "\n",
    "La firma der de la segunda firma es:\n",
    "```\n",
    "3045022100da6bee3c93766232079a01639d07fa869598749729ae323eab8eef53577d611b02207bef15429dcadce2121ea07f233115c6f09034c0be68db99980b9a6c5e75402201475221022\n",
    "```\n",
    "\n",
    "El redeemScript es:\n",
    "```\n",
    "475221022626e955ea6ea6d98850c994f9107b036b1334f18ca8830bfff1295d21cfdb702103b287eaf122eea69030a0e9feed096bed8045c8b98bec453e1ffac7fbdbd4bb7152ae\n",
    "```"
   ]
  },
  {
   "cell_type": "code",
   "execution_count": null,
   "metadata": {},
   "outputs": [],
   "source": [
    "# Ejercicio 6.1\n",
    "\n",
    "from io import BytesIO\n",
    "from cce import PuntoS256, Firma\n",
    "from ayudante import doble_sha256, int_a_little_endian\n",
    "from script import Script\n",
    "from tx import Tx, SIGHASH_ALL\n",
    "\n",
    "hex_sec = '03b287eaf122eea69030a0e9feed096bed8045c8b98bec453e1ffac7fbdbd4bb71'\n",
    "hex_der = '3045022100da6bee3c93766232079a01639d07fa869598749729ae323eab8eef53577d611b02207bef15429dcadce2121ea07f233115c6f09034c0be68db99980b9a6c5e754022'\n",
    "hex_redeem_script = '475221022626e955ea6ea6d98850c994f9107b036b1334f18ca8830bfff1295d21cfdb702103b287eaf122eea69030a0e9feed096bed8045c8b98bec453e1ffac7fbdbd4bb7152ae'\n",
    "sec = bytes.fromhex(hex_sec)\n",
    "der = bytes.fromhex(hex_der)\n",
    "redeem_script_stream = BytesIO(bytes.fromhex(hex_redeem_script))\n",
    "\n",
    "hex_tx = '0100000001868278ed6ddfb6c1ed3ad5f8181eb0c7a385aa0836f01d5e4789e6bd304d87221a000000db00483045022100dc92655fe37036f47756db8102e0d7d5e28b3beb83a8fef4f5dc0559bddfb94e02205a36d4e4e6c7fcd16658c50783e00c341609977aed3ad00937bf4ee942a8993701483045022100da6bee3c93766232079a01639d07fa869598749729ae323eab8eef53577d611b02207bef15429dcadce2121ea07f233115c6f09034c0be68db99980b9a6c5e75402201475221022626e955ea6ea6d98850c994f9107b036b1334f18ca8830bfff1295d21cfdb702103b287eaf122eea69030a0e9feed096bed8045c8b98bec453e1ffac7fbdbd4bb7152aeffffffff04d3b11400000000001976a914904a49878c0adfc3aa05de7afad2cc15f483a56a88ac7f400900000000001976a914418327e3f3dda4cf5b9089325a4b95abdfa0334088ac722c0c00000000001976a914ba35042cfe9fc66fd35ac2224eebdafd1028ad2788acdc4ace020000000017a91474d691da1574e6b3c192ecfb52cc8984ee7b6c568700000000'\n",
    "stream = BytesIO(bytes.fromhex(hex_tx))\n",
    "\n",
    "# parsear el PuntoS256 y Firma\n",
    "# parsear la Tx\n",
    "# cambia el scriptSig del primer input a redeemScript\n",
    "# usa Script.parsear sobre el redeem_script_stream\n",
    "# obtén la serialización\n",
    "# añade el sighash (4 bytes, little-endian de SIGHASH_ALL)\n",
    "# doble_sha256 el resultado\n",
    "# esto interpretado como un número big-endian es tu z\n",
    "# ahora verifica la firma usando punto.verificar"
   ]
  }
 ],
 "metadata": {
  "kernelspec": {
   "display_name": "Python 3",
   "language": "python",
   "name": "python3"
  },
  "language_info": {
   "codemirror_mode": {
    "name": "ipython",
    "version": 3
   },
   "file_extension": ".py",
   "mimetype": "text/x-python",
   "name": "python",
   "nbconvert_exporter": "python",
   "pygments_lexer": "ipython3",
   "version": "3.6.5"
  }
 },
 "nbformat": 4,
 "nbformat_minor": 2
}
